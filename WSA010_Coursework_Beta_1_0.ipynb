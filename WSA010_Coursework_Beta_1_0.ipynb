{
  "nbformat": 4,
  "nbformat_minor": 0,
  "metadata": {
    "colab": {
      "name": "WSA010 Coursework Beta 1.0.ipynb",
      "provenance": [],
      "collapsed_sections": [],
      "toc_visible": true
    },
    "kernelspec": {
      "name": "python3",
      "display_name": "Python 3"
    },
    "language_info": {
      "name": "python"
    }
  },
  "cells": [
    {
      "cell_type": "markdown",
      "metadata": {
        "id": "yyqr3Qnn4GZu"
      },
      "source": [
        "# **The Ecosystem Object Definition**\n",
        "\n",
        "The ecosystem is a virtual environment in a virtual universe in which virtual robots are created by the **_Chief Robot Programmer_** (CRP). The ecosytem has 'rules' which, if the robots do not follow, they can come to a premature demise. It is up to the CRP to programme their robots to follow system rules. A well programmed robot colony can thrive and prosper, if it is poorly programmed it may not perform so well.\n",
        "\n",
        "There are a number of system indicators which measure the health of the ecosystem. Your Robot world may use up all the ecosystem resources, contribute  to Greenhouse gas emissions and litter the place with waste.\n",
        "\n",
        "During the lifetime of the universe the ecosystem might evolve. This means the ecosystem rules change. Robots must therefore evolve or adapt to their new environment. The CRPs must be agile programmers.\n",
        "\n",
        "A major deadline exists on the 17-December-2021. There will be a major conference of the parties or **COP27** meeting to see whether your ecosystem is on track to meet its emissions targets and deliver a sustainable Robot ecosystem which is operating in harmony with its environment by creating a circular economy.\n"
      ]
    },
    {
      "cell_type": "code",
      "metadata": {
        "id": "x6z7av31NlXn"
      },
      "source": [
        ""
      ],
      "execution_count": null,
      "outputs": []
    },
    {
      "cell_type": "markdown",
      "metadata": {
        "id": "JlTw57TGQpkj"
      },
      "source": [
        "# **Ecosystem Version 𝛃**\n",
        "\n",
        "**Version 3.2 19-Nov 10:00**"
      ]
    },
    {
      "cell_type": "markdown",
      "metadata": {
        "id": "FPXFMXF_BMZ4"
      },
      "source": [
        "##**/Todo**\n",
        "Drones can move on the ground!\n"
      ]
    },
    {
      "cell_type": "markdown",
      "metadata": {
        "id": "gnjVqvlMWPJy"
      },
      "source": [
        "## **Required Imports**"
      ]
    },
    {
      "cell_type": "code",
      "metadata": {
        "id": "V9cdJmiZNC0Y"
      },
      "source": [
        "#@title Required Imports [code]\n",
        "from IPython.display import clear_output\n",
        "from copy import copy, deepcopy\n",
        "import time\n",
        "from random import randint\n",
        "from sys import exit\n",
        "import numpy as np\n",
        "import matplotlib.pyplot as plt\n",
        "import math\n",
        "import types\n",
        "from queue import Queue\n"
      ],
      "execution_count": null,
      "outputs": []
    },
    {
      "cell_type": "markdown",
      "metadata": {
        "id": "d972rXHHHlOc"
      },
      "source": [
        "## **Globals**\n",
        "\n",
        "Global variables used in the code base. Do not adjust these."
      ]
    },
    {
      "cell_type": "code",
      "metadata": {
        "id": "urEFI-im0zZa"
      },
      "source": [
        "#@title Globals [code]\n",
        "\n",
        "default_width = 80\n",
        "default_height = 40\n",
        "default_altitude = 5\n",
        "arena_limits = (default_width,default_height,default_altitude)\n",
        "\n",
        "#Fading of robots  alpha = m_fade * soc/capacity + c_fade\n",
        "c_fade = 0.1\n",
        "m_fade = 0.9 - c_fade\n",
        "\n",
        "#maximum damage a robot can sustain\n",
        "max_damage = 5\n",
        "motion_efficiency = 0.100\n",
        "system_efficiency = 0.025\n",
        "\n",
        "NL = \"\\n\"\n",
        "TB = \"\\t\"\n",
        "PR = \">\"\n",
        "testing = True\n"
      ],
      "execution_count": null,
      "outputs": []
    },
    {
      "cell_type": "markdown",
      "metadata": {
        "id": "Do07fbzTMbDZ"
      },
      "source": [
        "## **Support Functions**\n",
        "\n",
        "The ecosystem requires all these sections to operate. Do not remove and ensure they are run before developing and running your Robots"
      ]
    },
    {
      "cell_type": "code",
      "metadata": {
        "id": "5WJR6p8IEYYC"
      },
      "source": [
        "def coin():\n",
        "  return [-1,1][randint(0,1)]"
      ],
      "execution_count": null,
      "outputs": []
    },
    {
      "cell_type": "code",
      "metadata": {
        "id": "pHmQzr-Jef4s"
      },
      "source": [
        "# @title Irradiance\n",
        "\n",
        "def normpdf(x, mean, sd):\n",
        "    var = float(sd)**2\n",
        "    denom = (2*math.pi*var)**.5\n",
        "    num = math.exp(-(float(x)-float(mean))**2/(2*var))\n",
        "    pdf = num/denom\n",
        "    return pdf\n",
        "\n",
        "def irradiance(hour):\n",
        "    hour = hour % 24\n",
        "    mean = 12     #mid-day\n",
        "    sd = 3        #standard dev of irradiance\n",
        "    normalised_pdf  = normpdf(hour,mean,sd)/normpdf(mean,mean,sd)\n",
        "    moonlight = 0.2\n",
        "    a = moonlight + (1-moonlight)*normalised_pdf\n",
        "    return a\n",
        "\n",
        "#Test Display of irradiance over 24 hours\n",
        "x,i = [],[]\n",
        "for h in range(0,100):\n",
        "  i.append (irradiance(h/4))\n",
        "  x.append (h/4)\n",
        "fig = plt.figure(figsize=(4,4))\n",
        "ax = fig.add_subplot(111)\n",
        "a = ax.plot(x,i)\n",
        "a = ax.fill(x,i,'yellow')\n",
        "plt.title ('Normalised Irradiance')\n",
        "\n",
        "\n"
      ],
      "execution_count": null,
      "outputs": []
    },
    {
      "cell_type": "markdown",
      "metadata": {
        "id": "AWpJ0HnC0WH_"
      },
      "source": [
        "### **Robot Defaults**\n",
        "This section defines default values for different Robot types. CRPs should study this section to understand the different default values assigned to\n",
        "robots of difference types."
      ]
    },
    {
      "cell_type": "code",
      "metadata": {
        "id": "l8p21l_4VRPd"
      },
      "source": [
        "#@title Validation Lists {display-mode: \"code\"}\n",
        "\n",
        "####################\n",
        "## ROBOT_DEFAULTS ##\n",
        "####################\n",
        "\n",
        "statuses = ['off', 'on', 'broken']\n",
        "activities = ['idle', 'charging', 'collecting', 'delivering', 'loading', 'unloading', 'is_cargo', 'under_repair','repairing']\n",
        "colors = ['blue', 'green', 'red', 'cyan', 'magenta', 'yellow', 'black', 'white']\n",
        "shapes = ['square', 'circle', 'triangle']\n"
      ],
      "execution_count": null,
      "outputs": []
    },
    {
      "cell_type": "code",
      "metadata": {
        "id": "mtwhPUj3JdYE"
      },
      "source": [
        "#@title Validation Functions {display-mode: \"code\"}\n",
        "lambda_inlist = lambda nv,v,av: (nv in av, av[0])\n",
        "lambda_nochange = lambda nv,v,av: (nv == v, v)\n",
        "lambda_inrange = lambda nv,v,av: (av[0] <= nv <= av[1],v)\n",
        "lambda_listdelta = lambda nv,v,av:(False not in [abs(i_nv - i_v) <= i_av for i_nv, i_v, i_av in zip(nv,v,av)], v)\n",
        "lambda_listmaxdelta = lambda nv,v,av:(False not in [abs(i_nv - i_v) <= i_av for i_nv, i_v, i_av in zip(nv,v,av)], [ i_v + [-1,1][i_nv > i_v]*min(i_av,abs(i_nv-i_v)) for i_nv, i_v, i_av in zip(nv,v,av)])\n",
        "lambda_onarena = lambda coordinates: (False not in [0 <= i_c <= i_l for i_c, i_l in zip(coordinates, arena_limits)], [i_c if 0 <= i_c <= i_l else -1 if i_c < 0 else i_l + 1 for i_c, i_l in zip(coordinates, arena_limits)])\n",
        "\n",
        "def f_validcoordinates(nv,v,av):\n",
        "  deltaOK, cnv = lambda_listmaxdelta(nv,v,av)  #corrected new values wrt to vector increments\n",
        "  on_arena, anv = lambda_onarena(cnv)\n",
        "  return deltaOK and on_arena, anv\n",
        "#unit tests\n",
        "if testing:\n",
        "  print ('inlist',lambda_inlist('squae',1,shapes))\n",
        "  print('nochange',lambda_nochange(2,1,0))\n",
        "  print('inrange',lambda_inrange(50,300,[100,1000]))\n",
        "  print('listDelta',lambda_listdelta([12,14,1],[11,15,13],[1,1,1]))\n",
        "  print('listmaxdelta',lambda_listmaxdelta([12,7,1],[10,10,3],[2,2,2]))\n",
        "  print ('onarena',lambda_onarena([45,45,4]))\n",
        "  print('f_validcoordinates',f_validcoordinates([81,35,1],[79,34,0],[2,2,0]))\n"
      ],
      "execution_count": null,
      "outputs": []
    },
    {
      "cell_type": "code",
      "metadata": {
        "id": "DUP4j1TPQIK3"
      },
      "source": [
        "#@title Robot Defaults [code] {display-mode: \"code\"}\n",
        "\n",
        "####################\n",
        "## ROBOT_DEFAULTS ##\n",
        "####################\n",
        "\n",
        "#robot_default returns a dictionary of robot instance variables, and properties \n",
        "#for these atributes\n",
        "#The attribute properties are a list of three items:\n",
        "# 0 is the compulsory flag for the instance variable\n",
        "# 1 is the default registration value for the robot\n",
        "# 2 gives permitted changes to the variable (None means any change is permitted)\n",
        "\n",
        "\n",
        "\n",
        "def robot_default (kind, mode = 'values'):\n",
        "\n",
        "  #mode can be default or allowed\n",
        "\n",
        "  x = randint(1,default_width)\n",
        "  y = randint(1,default_height)\n",
        "  z = 0\n",
        "  default = {}\n",
        "  default['coordinates'] = [[x, y, z],[1, 1, 0 ], f_validcoordinates, 'list (integers), x, y, z location of a robot' ]\n",
        "  default['on_arena'] = [1,0, lambda_nochange, 'boolean, flag determines if robot is on the arena (read only)']\n",
        "  default['status'] = ['off',statuses, lambda_inlist, 'string, (member of statuses) determines if robot is on, off or broken']\n",
        "  default['activity'] = ['idle', activities, lambda_inlist, 'string, (member of activities), determines activity of robot']\n",
        "  default['age'] = [0, 0, lambda_nochange,'integer, age of robot in hours - (read only)']\n",
        "  default['soc'] = [600, 0, lambda_nochange, 'integer, state of charge of battery (read only)']\n",
        "  default['capacity'] = [600, 0, lambda_nochange, 'integer, energy capacity of robot battery (read only)']\n",
        "  default['service'] = [0, 0, lambda_nochange, 'integer, service points accrued by robot (read only)']\n",
        "  default['kind'] = [kind, 0, lambda_nochange, 'string, robot class type (read only)']\n",
        "  default['shape'] = ['square', shapes, lambda_inlist, 'string, (member of shapes) determines arena display shape']\n",
        "  default['color'] = ['blue', colors, lambda_inlist, 'string, (member of colors) determines arena display colour']\n",
        "  default['size'] = [250, [250,1000], lambda_inrange, 'integer, (between 250 and 1000) determines arena display size']\n",
        "  default['alpha'] = [1, 0, lambda_nochange, 'float, (between 0 and 1) determines arena display transparency (read only)']\n",
        "  default['weight'] = [50,0, lambda_nochange, 'integer, weight of robot (read only)']\n",
        "  default['payload'] = [100,0, lambda_nochange, 'integer, maximum load robot can carry (read only)']\n",
        "  default['cargo'] = [None,object, lambda_nochange, 'object, member object robot is transporting (read only)']\n",
        "  default['distance'] = [0, 0, lambda_nochange, 'float, total distance travelled by robot (read only)']\n",
        "  default['energy'] = [0, 0, lambda_nochange, 'float, total energy consumed by robot (read only)']\n",
        "  default['damage'] = [0, 0, lambda_nochange, 'integer, gives damage points accrued by robot (read only)']\n",
        "  if kind == 'Droid':\n",
        "    default['coordinates'][1] = [2, 2, 0 ]  \n",
        "    default['soc'][0] = 2000\n",
        "    default['capacity'][0] = 2000\n",
        "    default['shape'][0]= 'circle'\n",
        "    default['color'][0] = 'red'\n",
        "    default['size'][0] = 300\n",
        "    default['weight'][0] = 100\n",
        "    default['payload'][0] = 200\n",
        "  elif kind == 'Drone':\n",
        "    default['coordinates'][1] = [3, 3, 1]   \n",
        "    default['soc'][0] = 500      \n",
        "    default['capacity'][0] = 500\n",
        "    default['shape'][0] = 'triangle'\n",
        "    default['color'][0] = 'green'\n",
        "    default['size'][0] = 500\n",
        "    default['weight'][0] = 25\n",
        "    default['payload'][0] = 50\n",
        "\n",
        "  if mode == 'default':\n",
        "    return default\n",
        "  elif mode == 'values':\n",
        "    return {key: value[0] for key, value in default.items()}\n",
        "  elif mode == 'allowed':\n",
        "    return {key: value[1] for key, value in default.items()}\n",
        "  elif mode == 'lambdas':\n",
        "    return {key: value[2] for key, value in default.items()}    \n",
        "  else:\n",
        "    return tuple(key for key in default)"
      ],
      "execution_count": null,
      "outputs": []
    },
    {
      "cell_type": "code",
      "metadata": {
        "id": "k4KjF_Tpz650"
      },
      "source": [
        "#@title Robot Defaults Tests {display-mode: \"code\"}\n",
        "local_testing = True\n",
        "if testing or local_testing:\n",
        "  for kind in ['Robot','Droid','Drone']:\n",
        "    for return_type in ['default', 'values', 'allowed']:\n",
        "      print(kind, return_type,robot_default(kind, return_type))\n",
        "\n",
        "  print('Lambdas:',robot_default('Robot', 'lambdas'))    \n",
        "  print ('Keys:',robot_default('Robot','keys'))"
      ],
      "execution_count": null,
      "outputs": []
    },
    {
      "cell_type": "code",
      "metadata": {
        "id": "v_YDxxB09_fp"
      },
      "source": [
        "#@title Markdown Table Generators {display-mode: \"code\"}\n",
        "if testing:\n",
        "  w = 15\n",
        "  w2 = 40\n",
        "  for kind in ['Robot','Droid','Drone']:\n",
        "    print ('**Defaults values for \\'' + kind +'\\'**',NL)\n",
        "    key = 'variable'\n",
        "    default = 'default'\n",
        "    description = 'description'\n",
        "    print (f\"|{key:<{w}}|{default:<{w}}|{description:<{w2}}|\")\n",
        "    print (f\"|{'-'*w}|{'-'*w}|\")\n",
        "    values = robot_default(kind, 'default')\n",
        "\n",
        "    for key, value in values.items():\n",
        "      default,validation,valfunc,description = value\n",
        "      print (f\"|{key:<{w}}|{str(default):<{w}}|{description:<{w2}}|\")\n",
        "    print (NL)"
      ],
      "execution_count": null,
      "outputs": []
    },
    {
      "cell_type": "code",
      "metadata": {
        "id": "4UUAXNp8RGdR"
      },
      "source": [
        "#@title Object Generators {display-mode: \"code\"}\n",
        "\n",
        "def init(self, name):\n",
        "  self.name = name\n",
        "  self.directions = [0, 0, 0]\n",
        "  self.status = 'off'\n",
        "\n",
        "def move(self):\n",
        "  self.coordinates[0] += self.directions[0]\n",
        "  self.coordinates[1] += self.directions[1]\n",
        "  self.coordinates[2] += self.directions[2]\n",
        "\n",
        "def generate_class(kind):\n",
        "  attributes = robot_default(kind, 'values')\n",
        "  attributes['__init__'] = init\n",
        "  attributes['move'] = move\n",
        "  attributes['kind'] = kind\n",
        "  Dynamic_Robot = type(kind, (), attributes)\n",
        "  return Dynamic_Robot\n",
        "\n"
      ],
      "execution_count": null,
      "outputs": []
    },
    {
      "cell_type": "markdown",
      "metadata": {
        "id": "1jJ64B5K8csN"
      },
      "source": [
        "### **Display**\n",
        "\n",
        "The display is updated everytime the eco system is updated although this can be switch off in order to perform rapid simulations.\n",
        "\n",
        "You can also call display directly for test purposes which bypasses Ecosystem updating, but you can visualise the results of robot programming without ecosystem constraints!\n",
        "\n",
        "calling display\n",
        "\n",
        ">\n",
        "> display (markers, **kwargs)\n",
        ">\n",
        "> arguments:\n",
        ">\n",
        "> markers: dictionary of markers in format provided by the ecosystem\n",
        ">\n",
        "> kwargs: (keyword arguments)\n",
        "> >\n",
        "> > width  - integer,  width of chart in cm default = 30\n",
        "> > \n",
        "> > height - integer, height of chart in cm default = 15\n",
        "> >\n",
        "> >pause - integer, delay time in ms after displaying chart default = 250\n",
        "> >\n",
        "> >title - string, text displayed on chart default = 'Ecosystem Display'\n",
        "> >\n",
        "> >clear - boolean, clears code cell output area prior to display default = True)\n",
        "> >\n",
        "> >hour - ecosystem time in hours default = 12\n",
        "> >\n",
        "\n",
        "\n"
      ]
    },
    {
      "cell_type": "code",
      "metadata": {
        "id": "b63bGmmBNoos"
      },
      "source": [
        "# @title Display Function {display-mode: \"code\"} \n",
        "#%matplotlib inline\n",
        "\n",
        "# Matplotlib colors and shapes semantics\n",
        "mpl_colors = {'blue': 'b', 'green': 'g', 'red': 'r', 'cyan': 'c', 'magenta': 'm', 'yellow': 'y', 'black': 'k', 'white': 'w'}\n",
        "mpl_shapes = {'square':'s', 'circle':'o','triangle':'^'}\n",
        "\n",
        "\n",
        "def display(markers,**kwargs):\n",
        "  cm = 1/2.54\n",
        "  width = kwargs.get('width', 30)*cm\n",
        "  height = kwargs.get('height', 15)*cm\n",
        "  pause = kwargs.get('pause', 250)\n",
        "  title = kwargs.get('title','Ecosystem Display')\n",
        "  clear = kwargs.get('clear',True)\n",
        "  hour =  kwargs.get('hour', 12)\n",
        "\n",
        "  x_max =  default_width\n",
        "  y_max =  default_height\n",
        "\n",
        "  if clear:\n",
        "    clear_output(wait=True)\n",
        "  \n",
        "  a = irradiance(hour)\n",
        "\n",
        "  fig = plt.figure(figsize=(width,height))\n",
        "  fig.patch.set_facecolor('grey')\n",
        "  fig.patch.set_alpha(0.6)\n",
        "  ax = fig.add_subplot(111)\n",
        "  ax.patch.set_facecolor('yellow')\n",
        "  ax.patch.set_alpha(a)\n",
        "\n",
        "  plt.title (title)\n",
        "  plt.xlim(-2, x_max+2)\n",
        "  plt.ylim(-2, y_max+2)\n",
        "\n",
        "  for p in markers:\n",
        "    try:\n",
        "      x=p['coordinates'][0]\n",
        "      y=p['coordinates'][1]\n",
        "      scale = p['size']\n",
        "      color = p['color'] \n",
        "      shape = p['shape']\n",
        "      alpha = p['alpha']\n",
        "      marker_shape = mpl_shapes[shape] \n",
        "      ax.scatter(x, y, s=scale, c=color, marker=marker_shape, alpha=alpha, edgecolors='b')\n",
        "      if p['coordinates'][2] > 0:\n",
        "        ax.scatter(x, y, s=scale*3, c='k', marker='1', alpha=alpha, edgecolors='b')\n",
        "      try:\n",
        "        plt.annotate(p['soc'], (x+.5, y+.5),)\n",
        "      except:\n",
        "        pass\n",
        "\n",
        "\n",
        "    except Exception as error:\n",
        "      #print(\"Point error:\", p, error)\n",
        "      continue\n",
        "    \n",
        "  ax.set_xticks(range(0, x_max + 1, 10))\n",
        "  ax.set_yticks(range(0, y_max + 1, 10))\n",
        "  ax.grid(color = 'red', linestyle = '--', linewidth = 0.25)\n",
        "\n",
        "  plt.show()\n",
        "  time.sleep(pause/1000)\n",
        "\n"
      ],
      "execution_count": null,
      "outputs": []
    },
    {
      "cell_type": "code",
      "metadata": {
        "id": "znoXM4BU8H6N"
      },
      "source": [
        "#@title Display Tests {display-mode: \"code\"}\n",
        "if testing:\n",
        "  points = []\n",
        "  points.append({'coordinates': [50,20,0], 'size': 500, 'color': 'red', 'shape': 'circle', 'alpha': .9})\n",
        "  points.append({'coordinates': [20,30,1], 'size': 500, 'color': 'blue', 'shape': 'triangle', 'alpha': .2})\n",
        "  points.append(robot_default('Robot'))\n",
        "  points.append(robot_default('Drone'))\n",
        "  points.append(robot_default('Droid'))\n",
        "  display(points, title = \"Ecosystem Display Test\")"
      ],
      "execution_count": null,
      "outputs": []
    },
    {
      "cell_type": "markdown",
      "metadata": {
        "id": "ynMHFUq3Pc79"
      },
      "source": [
        "## **Ecosystem Class**\n",
        "\n",
        "The **ecosysystem class** provides an interface with a constructor method, a number of public **methods** and **properties** which are important for the CRP.\n",
        "\n",
        "**Constructor** \n",
        "\n",
        "There are no arguments required nor accepted by the constructor\n",
        "\n",
        "> ecosystem = Ecosystem()\n",
        "\n",
        "**Public properies**\n",
        "\n",
        "> robots - returns a list of all registered robot objects (read only)\n",
        ">\n",
        "> register - returns a dictionary which is full register of all registered robots (read only)\n",
        ">\n",
        "> duration - returns an integer which is the duration of the ecosystem in hours (default 24) (read/write)\n",
        ">\n",
        "> hour - returns an integer for the current hour of operation (read only)\n",
        ">\n",
        "> stop - return a boolean true value if hour >= duration (read only)\n",
        ">\n",
        "> count_operational - returns an integer which is the count of robot with status = 'on' (read only)\n",
        ">\n",
        "> messages  - returns boolean True if the fifo message stack has unread messages, and false if empty (read only)\n",
        ">\n",
        "> message - returns a tuple message in the fifo message stack, or false if non available. (read/write)\n",
        ">\n",
        "> display_on_update - boolean to determine of the robot arena is auto-refreshed on update\n",
        ">\n",
        "\n",
        "**Methods**\n",
        ">\n",
        "> display(**kwargs) - displays the robot arena and render the robot objects\n",
        ">   \n",
        ">   > arguments: kwargs - see chart\n",
        ">\n",
        "> register(robot) - registers a robot to participate in ecosystem activities\n",
        ">\n",
        ">   > robot: a valid robot object class/subclass\n",
        ">\n",
        "> update(**kwargs) - updates the robot register with new values for all attributes, validates permitted changes and makes necessary updates to system variables. If display_on_update is true the robot arena is updated.\n",
        ">\n",
        ">   arguments: kwargs are passed to the display method- see chart\n",
        ">\n",
        ">\n",
        "\n",
        "\n",
        "\n",
        "\n",
        "\n"
      ]
    },
    {
      "cell_type": "code",
      "metadata": {
        "id": "TdrXtreo8FrE"
      },
      "source": [
        "########################################################\n",
        "# @title Ecosystem Class [code] {display-mode: \"code\"}\n",
        "########################################################\n",
        "\n",
        "class Ecosystem:\n",
        "  def __init__(self):\n",
        "      #Constructor - called when a new object is created using the class\n",
        "      #Attributes or properties\n",
        "      self._duration = 24\n",
        "      self._hour = 0\n",
        "      self._robots = []\n",
        "      self.display_on_update = True\n",
        "      self._register = {}\n",
        "      self.markers = []\n",
        "      self._messages = Queue()\n",
        "\n",
        " ####################\n",
        " ##   Properties   ##\n",
        " ####################\n",
        "\n",
        "  @property\n",
        "  def messages(self):\n",
        "      return not self._messages.empty()   #while not q1.empty():\n",
        "  @property\n",
        "  def message(self):\n",
        "    if self._messages.empty():\n",
        "      return False\n",
        "    else:\n",
        "      return self._messages.get()\n",
        "  @message.setter\n",
        "  def message(self, value):\n",
        "    self._messages.put(value)\n",
        "  @property\n",
        "  def robots(self):\n",
        "      return self._robots\n",
        "  @property\n",
        "  def register(self):\n",
        "      return self._register\n",
        "  @property\n",
        "  def duration(self):\n",
        "      return self._duration\n",
        "  @duration.setter\n",
        "  def duration(self, value):\n",
        "      self._duration = value\n",
        "  @property\n",
        "  def hour(self):\n",
        "      return self._hour\n",
        "  @property\n",
        "  def count_operational(self):\n",
        "    count = 0\n",
        "    for value in self._register.values():\n",
        "      if value['status'] == 'on':\n",
        "        count += 1\n",
        "    return count\n",
        "\n",
        "  @property\n",
        "  def stop(self):\n",
        "    return self._hour>self._duration\n",
        "\n",
        " ####################\n",
        " ##   METHODS      ##\n",
        " ####################\n",
        "\n",
        "##   DISPLAY       ##\n",
        "  def display (self, **kwargs):\n",
        "    markers = self.get_markers()\n",
        "    display(markers, **kwargs)\n",
        "\n",
        "##   MARKERS       ##\n",
        "  def get_markers(self):\n",
        "    self.markers = [value for value in self._register.values() ]\n",
        "    return self.markers\n",
        " \n",
        " ##   REGISTER  ##\n",
        "  def register (self, robot):\n",
        "    if robot in self._robots:\n",
        "      register = self._register[id(robot)]\n",
        "      if register['status']  == 'on':\n",
        "        self.message = (robot.name, 'register', 'warning', 'robot already registered')\n",
        "      else:\n",
        "        #Re-registering a 'broken' or 'off' is required \n",
        "        register['status']  = 'on'\n",
        "        try:\n",
        "          setattr(robot, 'status', 'on')\n",
        "        except:\n",
        "          pass\n",
        "        self.message = (robot.name,'register', 're-registered', \"succesful re-boot\")\n",
        "    else:\n",
        "      #Retrieve default values\n",
        "      try:\n",
        "        default = robot_default(type(robot).__name__,'values')\n",
        "        default['status'] = getattr(robot,'status',default['status'])\n",
        "        for key, value in default.items():\n",
        "          try:\n",
        "            setattr(robot, key, deepcopy(value))   #use copy to keep lists unique\n",
        "          except:\n",
        "            #User has not coded to receive updates on unrequired instance variables\n",
        "            pass\n",
        "        #We're safe to add the robot and update the registry\n",
        "        self._robots.append(robot)\n",
        "        self._register[id(robot)] = deepcopy(default)\n",
        "\n",
        "        #print (PR*2, robot.status )\n",
        "\n",
        "      except Exception as err:\n",
        "        self.message = (type(robot), 'register', 'exception', 'Invalid object type') \n",
        "        \n",
        "\n",
        "## UPDATE ##\n",
        "  \n",
        "  def update(self, **kwargs):\n",
        "    for robot in self._robots:\n",
        "      #get the current register\n",
        "      register = self._register[id(robot)]\n",
        "      #take a deepcopy of the register\n",
        "      new_register = deepcopy(register)\n",
        "\n",
        "\n",
        "      if new_register['status'] == 'on':\n",
        "\n",
        "        #update this with any new values from the robot, ignore if not present\n",
        "        for key, value in new_register.items():\n",
        "          new_register[key] = getattr(robot,key,value)\n",
        "\n",
        "        #Prepare to itereate through robots which are on to update\n",
        "        damage = 0\n",
        "        #gather iterables to zip\n",
        "        keys = register.keys()\n",
        "        new_values = new_register.values()\n",
        "        values = register.values()\n",
        "        allowed_values = robot_default(robot.kind,\"allowed\").values()   #this is quite inefficient\n",
        "        lambdas = robot_default(robot.kind,\"lambdas\").values()          #this is quite inefficient\n",
        "\n",
        "        for key, new_value, value, allowed_value, validation_lambda in zip(keys, new_values, values, allowed_values, lambdas):\n",
        "          #correct any object updates which are not allowed and add up penalties\n",
        "          try:\n",
        "            #print(PR*3,key,new_value, value, allowed_value, validation_lambda, 'Validation: ', validation_lambda(new_value, value, allowed_value))\n",
        "            if new_value != value:\n",
        "              #print(PR*4,key,new_value, value, allowed_value, validation_lambda, 'Validation: ', validation_lambda(new_value, value, allowed_value))\n",
        "              valid, revert = validation_lambda(new_value, value, allowed_value)\n",
        "              if not valid:\n",
        "                self.message = (robot.name, 'update', 'damaged', 'Invalid attempt to change ' + key + ' to ' + str(new_value) + ' from ' + revert )\n",
        "                damage += 1\n",
        "                new_register[key] = revert\n",
        "          except:\n",
        "            pass\n",
        "\n",
        "      # increment age regardless of anything\n",
        "      new_register['age'] += 1\n",
        "\n",
        "      if new_register['status'] == 'on':\n",
        "\n",
        "        # add damage causes by illegal use of instance variable\n",
        "        new_register['damage'] += damage\n",
        "\n",
        "        distance = round(((new_register['coordinates'][0] - register['coordinates'][0])**2 + (new_register['coordinates'][1] - register['coordinates'][1])**2)**.5,1)\n",
        "        new_register['distance'] += distance\n",
        "        \n",
        "        height = max(new_register['coordinates'][2] - register['coordinates'][2],0)\n",
        "              \n",
        "        motion_energy = new_register['weight'] * distance * motion_efficiency\n",
        "        system_energy = new_register['weight'] * system_efficiency\n",
        "        total_energy = system_energy + motion_energy\n",
        "\n",
        "        new_register['soc'] -= total_energy\n",
        "        new_register['soc'] = round(max(new_register['soc'], 0),2)\n",
        "\n",
        "        if lambda_onarena(new_register['coordinates'])[0] == False:\n",
        "          new_register['status'] = 'broken'\n",
        "          self.message = (robot.name, 'update', 'broken', 'electromagnetic damage at ecosystem boundary') \n",
        "        elif new_register['damage'] > max_damage:\n",
        "          self.message = (robot.name, 'update', 'broken', 'max damage score')\n",
        "          new_register['status'] = 'broken'\n",
        "        if new_register['soc'] == 0:\n",
        "          new_register['status'] = 'broken'\n",
        "          self.message = (robot.name, 'update', 'broken', 'out of power') \n",
        "\n",
        "        if new_register['status'] == 'broken':\n",
        "          new_register['alpha'] = 0.2\n",
        "        else:\n",
        "          #alpha  determines the transparency of robots. Running out of fuel makes robots fade\n",
        "          new_register['alpha'] = m_fade * new_register['soc']/new_register['capacity'] + c_fade\n",
        "\n",
        "      # End of status != off block             \n",
        "\n",
        "      #update the robot with new_register\n",
        "      for key, value in new_register.items():\n",
        "        try:\n",
        "          setattr(robot,key,value)\n",
        "        except:\n",
        "          pass\n",
        "      #update the _register with the new values\n",
        "      self._register[id(robot)] = deepcopy(new_register)\n",
        "      #print (new_register['coordinates'], register['coordinates'], \"d:\",distance,\"e:\", energy, \"s:\", new_register['soc'], new_register['capacity'], new_register)\n",
        "    self._hour += 1  \n",
        "    if self.display_on_update:\n",
        "      self.display(**kwargs)\n",
        "\n"
      ],
      "execution_count": null,
      "outputs": []
    },
    {
      "cell_type": "markdown",
      "metadata": {
        "id": "D1612AluRRwX"
      },
      "source": [
        "# **Stage 1 - Robot Classes**\n",
        "\n",
        "**Task**\n",
        "\n",
        "Begin the design your robot classes here. You may, even must, develop your classes further to improve their functionality as you move through the stages.\n",
        "\n",
        "There are three classes you need initially. \n",
        "\n",
        "* Robot - base or parent class\n",
        "* Droid - inherits from Robot\n",
        "* Drone - inherits from Robot\n",
        "\n",
        "Interface requirements are included below.\n",
        "\n",
        "**Note** future ecosystem evolutions may require new classes, properties and methods. Details will be included in the upgrade notices with future releases of the ecosystem.\n",
        "\n",
        "**Robot Classes CRP Notes**\n",
        "\n",
        "**CRPs should augment code cells with text cells to document designs for third parties and assessment in your final submission. It's good practice to developing working text cells for this purpose from day 1"
      ]
    },
    {
      "cell_type": "markdown",
      "metadata": {
        "id": "SdzZYJChRwLi"
      },
      "source": [
        "## **Robot Class Specifications**\n",
        "\n",
        "This section defines the _interface_ for your Robots.\n",
        "\n",
        "Robot is the parent class from which all other robot kinds inherit. The robot class ***must*** have the following class variables:\n",
        ">\n",
        "> kind  (read only) - value assigned by the ecosystem\n",
        ">\n",
        "\n",
        "_kind_ is the class name. Although this accessible from the class method it demonstrates a class variable\n",
        "\n",
        "And the following instance variables.\n",
        ">\n",
        "> [x,y,z] list (read/write) robot coordinates - this is how you move your robot.\n",
        ">\n",
        "> status - string (on, off or broken) (read write) - you can change this but the system will also enforce the status if rules are broken.\n",
        ">\n",
        "_status_ is a member of the statuses dictionary and is equal to 'on' 'off' or 'broken' Robots with a status anything other than 'on' cannot function\n",
        "\n",
        "x,y,z coordinates are randomly allocated on registration (see instantiation below).\n",
        "\n",
        "If these _data members_ do not exist the ecosystem may report an 'inadequate interface' or otherwise fail to respect your robots.\n",
        "\n",
        "All robots are monitored by the ecosystem every ecosystem.update() call. You can, optionally, and according to your own preceived requirements, enhance the interface of your robots to include any of the following additional instance variables (the essential ones above are also included in the table for completeness):\n",
        "\n",
        "\n",
        "**Instance Variables for 'Robot'** \n",
        "\n",
        "|variable       |default        |description                             |\n",
        "|---------------|---------------|---|\n",
        "|coordinates    |[x, y, z]    |list of integers, x, y, z location of a robot|\n",
        "|on_arena       |1              |boolean, flag determines if robot is on the arena (read only)|\n",
        "|status         |off            |string, (member of statuses) determines if robot is on, off or broken|\n",
        "|activity       |idle           |string, (member of activities), determines activity of robot|\n",
        "|age            |0              |integer, age of robot in hours - (read only)|\n",
        "|soc            |600            |integer, state of charge of battery (read only)|\n",
        "|capacity       |600            |integer, energy capacity of robot battery (read only)|\n",
        "|service        |0              |integer, service points accrued by robot (read only)|\n",
        "|kind           |Robot          |string, robot class type (read only)    |\n",
        "|shape          |square         |string, (member of shapes) determines arena display shape|\n",
        "|color          |blue           |string, (member of colors) determines arena display colour|\n",
        "|size           |250            |integer, (between 250 and 1000) determines arena display size|\n",
        "|alpha          |1              |float, (between 0 and 1) determines arena display transparency (read only)|\n",
        "|weight         |50             |integer, weight of robot (read only)    |\n",
        "|payload        |100            |integer, maximum load robot can carry (read only)|\n",
        "|cargo          |None           |object, member object robot is transporting (read only)|\n",
        "|distance       |0              |float, total distance travelled by robot (read only)|\n",
        "|energy         |0              |float, total energy consumed by robot (read only)|\n",
        "|damage         |0              |integer, gives damage points accrued by robot (read only)|\n",
        "\n",
        "\n",
        "Droids and Drones have the same variable requirements and potential. See the Ecosystem Defauls section for more information on the defaults.\n",
        "\n",
        "**Methods**\n",
        "\n",
        "There are no compulsory methods for your Robot classes required by the Ecosystem.\n",
        "\n",
        "\n",
        "\n"
      ]
    },
    {
      "cell_type": "code",
      "metadata": {
        "id": "XnIrItSMRqsj"
      },
      "source": [
        "############################################\n",
        "# @title Robot Class {display-mode: \"code\"} \n",
        "############################################\n",
        "\n",
        "#Design your robot class here. \n",
        "\n"
      ],
      "execution_count": null,
      "outputs": []
    },
    {
      "cell_type": "code",
      "metadata": {
        "id": "QhR07dGFj2cP"
      },
      "source": [
        "############################################\n",
        "# @title Droid Class {display-mode: \"code\"} \n",
        "############################################\n",
        "\n",
        "#Design your droid class here. "
      ],
      "execution_count": null,
      "outputs": []
    },
    {
      "cell_type": "code",
      "metadata": {
        "id": "XU6lz7aMj3TO"
      },
      "source": [
        "############################################\n",
        "# @title Drone Class {display-mode: \"code\"} \n",
        "############################################\n",
        "\n",
        "#Design your drone class here. "
      ],
      "execution_count": null,
      "outputs": []
    },
    {
      "cell_type": "markdown",
      "metadata": {
        "id": "2YutVi8CTArP"
      },
      "source": [
        "# **Stage 2 - Training and Testing**\n",
        "\n",
        "Training and testing requirements will be published during week 8.\n",
        "\n",
        "---\n",
        "\n"
      ]
    },
    {
      "cell_type": "markdown",
      "metadata": {
        "id": "U4F3lwMkTA6_"
      },
      "source": [
        "# **Stage 3 - Ecosystem 1 Operations**"
      ]
    },
    {
      "cell_type": "markdown",
      "metadata": {
        "id": "cX4F2_FlTBJn"
      },
      "source": [
        "# **Stage 4 - Ecosystem 2 Operations**"
      ]
    },
    {
      "cell_type": "markdown",
      "metadata": {
        "id": "iyWjK7ThT1P_"
      },
      "source": [
        "#**Students Questions**"
      ]
    },
    {
      "cell_type": "markdown",
      "metadata": {
        "id": "iS8Fbo0jT-l0"
      },
      "source": [
        "#**Discussion and Conclusions**"
      ]
    },
    {
      "cell_type": "code",
      "metadata": {
        "id": "eMDz5bSPT5WC"
      },
      "source": [
        ""
      ],
      "execution_count": null,
      "outputs": []
    }
  ]
}