{
  "nbformat": 4,
  "nbformat_minor": 0,
  "metadata": {
    "colab": {
      "name": "programming_CW_notebook.ipynb",
      "provenance": [],
      "collapsed_sections": [],
      "toc_visible": true
    },
    "kernelspec": {
      "name": "python3",
      "display_name": "Python 3"
    },
    "language_info": {
      "name": "python"
    }
  },
  "cells": [
    {
      "cell_type": "markdown",
      "metadata": {
        "id": "yyqr3Qnn4GZu"
      },
      "source": [
        "# **The Ecosystem Object Definition**\n",
        "\n",
        "The ecosystem is a virtual environment in a virtual universe in which virtual robots are created by the **_Chief Robot Programmer_** (CRP). The ecosytem has 'rules' which, if the robots do not follow, they can come to a premature demise. It is up to the CRP to programme their robots to follow system rules. A well programmed robot colony can thrive and prosper, if it is poorly programmed it may not perform so well.\n",
        "\n",
        "There are a number of system indicators which measure the health of the ecosystem. \n",
        "\n",
        "During the lifetime of the universe the ecosystem might evolve. This means the ecosystem rules change. Robots must therefore evolve or adapt to their new environment. The CRPs must be agile programmers.\n",
        "\n",
        "A major deadline exists on the 12-January-2022. There will be a major conference of the parties or **COP27** meeting to see whether your ecosystem is on track to meet targets and deliver a sustainable Robot ecosystem which is operating in harmony with its environment by creating a circular economy.\n"
      ]
    },
    {
      "cell_type": "markdown",
      "metadata": {
        "id": "JlTw57TGQpkj"
      },
      "source": [
        "# **Ecosystem Version -  Final Release**\n",
        "\n",
        "**WSA010_Coursework_V3_2 (30) 16-Dec-21 13:00**"
      ]
    },
    {
      "cell_type": "markdown",
      "metadata": {
        "id": "gnjVqvlMWPJy"
      },
      "source": [
        "## **Required Imports**"
      ]
    },
    {
      "cell_type": "code",
      "metadata": {
        "id": "V9cdJmiZNC0Y"
      },
      "source": [
        "#@title Required Imports [code] {display-mode: \"code\"}\n",
        "from IPython.display import clear_output\n",
        "from copy import copy, deepcopy\n",
        "import time\n",
        "from random import randint\n",
        "from sys import exit\n",
        "import numpy as np\n",
        "import matplotlib.pyplot as plt\n",
        "import math\n",
        "from queue import Queue\n",
        "#from types import type - may need later"
      ],
      "execution_count": 1,
      "outputs": []
    },
    {
      "cell_type": "markdown",
      "metadata": {
        "id": "d972rXHHHlOc"
      },
      "source": [
        "## **Globals**\n",
        "\n",
        "Global variables used in the code base. Do not adjust these."
      ]
    },
    {
      "cell_type": "code",
      "metadata": {
        "id": "urEFI-im0zZa"
      },
      "source": [
        "#@title Globals [code] {display-mode: \"code\"}\n",
        "\n",
        "testing = True\n",
        "\n",
        "#Ecosystem Boundaries\n",
        "default_width = 80\n",
        "default_height = 40\n",
        "default_altitude = 5\n",
        "\n",
        "arena_limits = (default_width,default_height,default_altitude)\n",
        "\n",
        "#Fading of robots  alpha = m_fade * soc/capacity + c_fade\n",
        "c_fade = 0.1\n",
        "m_fade = 0.9 - c_fade\n",
        "#deliverable fading\n",
        "delivered_fade = 0.33\n",
        "delivered_fade_rate = .005   #d alpha at -.5% per update\n",
        "\n",
        "#maximum damage a robot can sustain\n",
        "max_damage = 5\n",
        "motion_efficiency = 0.100\n",
        "system_efficiency = 0.025\n",
        "\n",
        "NL = \"\\n\"\n",
        "TB = \"\\t\"\n",
        "PR = \">\"\n",
        "\n"
      ],
      "execution_count": 2,
      "outputs": []
    },
    {
      "cell_type": "code",
      "metadata": {
        "id": "zmQ16SbnmNJV",
        "colab": {
          "base_uri": "https://localhost:8080/"
        },
        "outputId": "d99a18c6-427c-43f1-811f-29628d1d9423"
      },
      "source": [
        "\n",
        "randcoordinates = [randint(0,m) for m in list(arena_limits[:2]) + [0]]\n",
        "print (randcoordinates)"
      ],
      "execution_count": 3,
      "outputs": [
        {
          "output_type": "stream",
          "name": "stdout",
          "text": [
            "[41, 23, 0]\n"
          ]
        }
      ]
    },
    {
      "cell_type": "markdown",
      "metadata": {
        "id": "Do07fbzTMbDZ"
      },
      "source": [
        "## **Support Functions**\n",
        "\n",
        "The ecosystem requires all these sections to operate. Do not remove and ensure they are run before developing and running your Robots"
      ]
    },
    {
      "cell_type": "code",
      "metadata": {
        "id": "5WJR6p8IEYYC"
      },
      "source": [
        "# @title Utility functions [code] {display-mode: \"code\"}\n",
        "\n",
        "#randsign generates a random -1 or +1 to give a random sign of a vector\n",
        "def randsign():\n",
        "  return [-1,1][randint(0,1)]\n",
        "\n",
        "#sign returns the sign x 1 of a number.\n",
        "def sign(i):\n",
        "  #return [-1,1][i>0]\n",
        "  return [-1,0,1][0 if i < 0 else 1 if i == 0 else 2]\n",
        "\n",
        "#Returns the name of a variable in the namespace which points to the passed object.\n",
        "#If more than name points to the object the first is returned or all if return_all is true\n",
        "def namestr(obj, return_all = False):\n",
        "  namespace = globals()\n",
        "  if return_all:\n",
        "    return [name for name in namespace if namespace[name] is obj]\n",
        "  else:\n",
        "    try:\n",
        "      return [name for name in namespace if namespace[name] is obj][0]\n",
        "    except:\n",
        "      return obj # probably a literal so no name to give!"
      ],
      "execution_count": 4,
      "outputs": []
    },
    {
      "cell_type": "code",
      "metadata": {
        "id": "pHmQzr-Jef4s",
        "colab": {
          "base_uri": "https://localhost:8080/",
          "height": 298
        },
        "outputId": "5fd02158-1658-4aca-cb40-820597b21e78"
      },
      "source": [
        "# @title Irradiance [code] {display-mode: \"code\"}\n",
        "#Not a real estimate of irradiance since it isn't gaussian\n",
        "def normpdf(x, mean, sd):\n",
        "    var = float(sd)**2\n",
        "    denom = (2*math.pi*var)**.5\n",
        "    num = math.exp(-(float(x)-float(mean))**2/(2*var))\n",
        "    pdf = num/denom\n",
        "    return pdf\n",
        "\n",
        "def irradiance(hour):\n",
        "    hour = hour % 24\n",
        "    mean = 12     #mid-day\n",
        "    sd = 3        #standard dev of irradiance\n",
        "    normalised_pdf  = normpdf(hour,mean,sd)/normpdf(mean,mean,sd)\n",
        "    moonlight = 0.2\n",
        "    a = moonlight + (1-moonlight)*normalised_pdf\n",
        "    return a\n",
        "\n",
        "#Test Display of irradiance over 24 hours\n",
        "x,i = [],[]\n",
        "for h in range(0,24*4):\n",
        "  i.append (irradiance(h/4))\n",
        "  x.append (h/4)\n",
        "fig = plt.figure(figsize=(4,4))\n",
        "ax = fig.add_subplot(111)\n",
        "a = ax.plot(x,i)\n",
        "a = ax.fill(x,i,'yellow')\n",
        "plt.title ('Normalised Irradiance')\n",
        "\n",
        "\n"
      ],
      "execution_count": 5,
      "outputs": [
        {
          "output_type": "execute_result",
          "data": {
            "text/plain": [
              "Text(0.5, 1.0, 'Normalised Irradiance')"
            ]
          },
          "metadata": {},
          "execution_count": 5
        },
        {
          "output_type": "display_data",
          "data": {
            "image/png": "[encoded data removed]",
            "text/plain": [
              "<Figure size 288x288 with 1 Axes>"
            ]
          },
          "metadata": {
            "needs_background": "light"
          }
        }
      ]
    },
    {
      "cell_type": "markdown",
      "metadata": {
        "id": "AWpJ0HnC0WH_"
      },
      "source": [
        "### **Defaults**\n",
        "This section defines default values for different Robot and other Ecosystem Objects. CRPs should study this section to understand the different default values assigned to\n",
        "robots of difference types."
      ]
    },
    {
      "cell_type": "code",
      "metadata": {
        "id": "l8p21l_4VRPd"
      },
      "source": [
        "#@title Validation Lists {display-mode: \"code\"}\n",
        "\n",
        "####################\n",
        "## DEFAULTS       ##\n",
        "####################\n",
        "\n",
        "# Matplotlib colors and shapes semantics # https://matplotlib.org/stable/api/markers_api.html\n",
        "mpl_shapes = {'square':'s', 'circle':'o','triangle':'^', 'plus':'P', 'star':'*', 'diamond':'D', 'x':'x', 'hexagon':'h'}\n",
        "mpl_colors = {'blue': 'b', 'green': 'g', 'red': 'r', 'cyan': 'c', 'magenta': 'm', 'yellow': 'y', 'black': 'k', 'white': 'w'}\n",
        "\n",
        "colors = [color for color in mpl_colors]\n",
        "shapes = [shape for shape in mpl_shapes]\n",
        "\n",
        "modes = ['required', 'default', 'validation','function', 'datatype', 'description']\n",
        "\n",
        "kinds = dict(\n",
        "  Robot = 'Robot', \n",
        "  Droid = 'Robot', \n",
        "  Drone = 'Robot', \n",
        "  Pizza = 'Deliverable', \n",
        "  Grid_Charger = 'Station',\n",
        "  Solar_Charger = 'Station', \n",
        "  Repair_Station = 'Station', \n",
        "  Recycling_Station = 'Station')\n",
        "\n",
        "robot_statuses = [\n",
        "\t'off', \n",
        "\t'on', \n",
        "\t'broken']\n",
        "\n",
        "deliverable_statuses = [\n",
        "\t'awaiting_transport',\n",
        "\t'awaiting_collection', \n",
        "\t'in_transit',\n",
        "\t'delivered']\n",
        "\n",
        "station_statuses = [\n",
        "\t'occupied', \n",
        "\t'vacant']\n",
        "\n",
        "activities = [\n",
        "\t'idle',\n",
        "\t'available', \n",
        "\t'charging', \n",
        "\t'busy', \n",
        "\t'delivering', \n",
        "\t'is_cargo', \n",
        "\t'under_repair',\n",
        "\t'repairing']\n",
        "\n",
        "\n"
      ],
      "execution_count": 6,
      "outputs": []
    },
    {
      "cell_type": "code",
      "metadata": {
        "id": "mtwhPUj3JdYE"
      },
      "source": [
        "#@title Validation Functions [code] {display-mode: \"code\"}\n",
        "#nv = new value\n",
        "# v = old value\n",
        "#av = rule parameters \n",
        "length = lambda nv,v,av: (av[0] <= len(nv) <= av[1],nv if av[0] <= len(nv) <= av[1] else v)  #return old value if new invalid\n",
        "inlist = lambda nv,v,av: (nv in av, nv if nv in av else v)     \n",
        "nochange = lambda nv,v,av: (nv == v, v)\n",
        "inrange = lambda nv,v,av: (av[0] <= nv <= av[1],nv if av[0] <= nv <= av[1] else v)\n",
        "listdelta = lambda nv,v,av:(False not in [abs(i_nv - i_v) <= i_av for i_nv, i_v, i_av in zip(nv,v,av)], v)\n",
        "listmaxdelta = lambda nv,v,av:(False not in [abs(i_nv - i_v) <= i_av for i_nv, i_v, i_av in zip(nv,v,av)], [ i_v + [-1,1][i_nv > i_v]*min(i_av,abs(i_nv-i_v)) for i_nv, i_v, i_av in zip(nv,v,av)])\n",
        "onarena = lambda coordinates: (False not in [0 <= i_c <= i_l for i_c, i_l in zip(coordinates, arena_limits)], [i_c if 0 <= i_c <= i_l else -1 if i_c < 0 else i_l + 1 for i_c, i_l in zip(coordinates, arena_limits)])\n",
        "listmax = lambda nv,v,av: (False not in [abs(nv[i]) <= av[i] for i in [0, 1, 2]], [nv[i] if abs(nv[i]) <= av[i] else av[i]*sign(nv[i]) for i in [0, 1, 2]])\n",
        "none = lambda nv,v,av: (True,nv)\n",
        "\n",
        "def validxyz(nv,v,av):\n",
        "  #nv for new robot receives v = nv\n",
        "  #av = [dx,dy,dz]  where dz >= 1 means volitant and cannnot move on the ground\n",
        "  if av[2] >= 1 and nv[2] == 0 and v[2] == 0:    #volitant is on the ground and was previously\n",
        "    return nv == v, v                            # if not equal then this is false so bad move\n",
        "  else:    \n",
        "    deltaOK, cnv = listmaxdelta(nv,v,av)  #corrected new values wrt to vector increments\n",
        "    on_arena, anv = onarena(cnv)\n",
        "    return deltaOK and on_arena, anv\n",
        "\n",
        "validation_functions = {'none': none, 'listmax': listmax, 'inlist': inlist, 'nochange': nochange, 'inrange': inrange, 'listdelta': listdelta, 'listmaxdelta': listmaxdelta, 'onarena': onarena, 'validxyz': validxyz, 'length': length }\n",
        "\n",
        "def validation(new_value, old_value, rule, function_name, verbose = True):\n",
        "  proposed_value = new_value\n",
        "  function = validation_functions[function_name]\n",
        "  valid, new_value = function (new_value, old_value, rule)\n",
        "  if verbose:\n",
        "    if valid:\n",
        "      if old_value == new_value:\n",
        "        message = 'Value \\'' + str(old_value) + '\\' retained'\n",
        "      else:\n",
        "        message = 'Value \\'' + str(old_value) + '\\' set to \\'' + str(new_value) + '\\''\n",
        "    else:\n",
        "      message = 'Value \\'' + str(proposed_value) + '\\' rejected. ' \n",
        "      if function_name == 'length':\n",
        "        message += 'Length must be between ' + str(rule[0]) + ' and ' + str(rule[1])\n",
        "      if function_name == 'inrange':\n",
        "        message += 'Must be between ' + str(rule[0]) + ' and ' + str(rule[1])\n",
        "      elif function_name == 'inlist':\n",
        "        message += 'Must be in list ' + str(rule)\n",
        "      elif function_name == 'nochange':\n",
        "        message += 'Cannot be changed from \\'' + str(old_value) + '\\''\n",
        "      elif function_name == 'validxyz':\n",
        "        message += 'Coordinate value or change not permitted'\n",
        "      message += '. Set to ' + str(new_value) + '.'\n",
        "  else:\n",
        "    message = ''\n",
        "  return valid, new_value, proposed_value, message\n",
        "\n",
        "#unit tests\n",
        "if False and testing:\n",
        "  print (validation('xyx',None,'none','none'))\n",
        "  print (validation([75, 16, 0],[78, 16, 0],[2,2,0],'none'))\n",
        "  print (validation([75, 16, 0],[78, 16, 0],[2,2,0],'listmaxdelta'))\n",
        "  print (validation('squre', 'triangle', shapes, 'inlist'))\n",
        "  print (validation('square','triangle',shapes,'inlist'))\n",
        "  print (validation('pink','red',colors,'inlist'))  \n",
        "  print (validation(1,1,0,'nochange'))\n",
        "  print (validation(1,2,0,'nochange'))\n",
        "  print (validation([23],[24],0,'nochange'))  \n",
        "  print (validation([23],[23],0,'nochange'))  \n",
        "  print (validation(800,300,[200,900],'inrange'))\n",
        "  print (validation(100,300,[200,900],'inrange'))  \n",
        "  print (validation(1000,300,[200,900],'inrange'))    \n",
        "  print (validation('shouldsucceed','testing',[3,20],'length'))\n",
        "  print (validation('01234567890','shouldfail',[3,10],'length'))\n",
        "  print (validation('01','shouldfail',[3,10],'length'))\n",
        "  print (validation([78, 16, 0],[78, 16, 0],[2,2,0],'validxyz'))  #no change\n",
        "  print (validation([77, 16, 0],[78, 16, 1],[2,2,1],'validxyz'))  #ok change\n",
        "  print (validation([76, 17, 0],[78, 16, 0],[1,1,0],'validxyz'))  #too big\n",
        "  print (validation([78, 14, 0],[78, 16, 0],[1,1,0],'validxyz'))  #too big  \n",
        "  print (validation([56, 33, 0],[53, 36, 0],[3,3,1],'validxyz'))\n",
        "  print (validation([1, 1, 0],[2, 2, 0],[2,2,0],'listmax'))\n",
        "  print (validation([2, 2, 0],[2, 2, 0],[2,2,0],'listmax'))\n",
        "  print (validation([-2, -2, 0],[2, 2, 0],[2,2,0],'listmax'))\n",
        "  print (validation([-1, -1, 0],[2, 2, 0],[2,2,0],'listmax'))\n",
        "  print (validation([-3, -3, 0],[2, 2, 0],[2,2,0],'listmax'))\n",
        "  print (validation([2, 2, 1],[2, 2, 0],[2,2,0],'listmax'))\n",
        "\n"
      ],
      "execution_count": 7,
      "outputs": []
    },
    {
      "cell_type": "code",
      "metadata": {
        "id": "DUP4j1TPQIK3"
      },
      "source": [
        "#@title Defaults [code] {display-mode: \"code\"}\n",
        "\n",
        "####################\n",
        "## ROBOT_DEFAULTS ##\n",
        "####################\n",
        "\n",
        "#robot_default returns a dictionary of robot instance variables, and properties \n",
        "#for these attributes\n",
        "\n",
        "def robot_default (kind, mode = 'default'):\n",
        "\n",
        "  kind_class = kinds[kind]\n",
        "  dictionary = {}\n",
        "  \n",
        "  dictionary['kind'] = ['required', kind, 0, 'nochange', 'string', 'robot class type']\n",
        "  if kind_class == 'Station':\n",
        "    dictionary['coordinates'] = ['required', [0, 0, 0], [0, 0, 0 ], 'validxyz', 'list', 'x, y, z location of a robot']\n",
        "    dictionary['max'] = ['required', [0, 0, 0], 0, 'nochange', 'list', 'maximum x, y, z velocity']\n",
        "    dictionary['velocity'] = ['required', [0, 0, 0], [0 ,0 ,0], 'listmax', 'list', 'current  x, y, z velocity']\n",
        "    dictionary['status'] = ['required', 'vacant',station_statuses, 'inlist', 'string', 'Set to on, off or broken']\n",
        "    dictionary['activity'] = ['required', 'idle', activities, 'inlist', 'string', 'determines activity of station']\n",
        "    dictionary['size'] = ['optional', 300, [250,1000], 'inrange', 'integer', 'arena display size']\n",
        "    dictionary['alpha'] = ['optional', 1, 0, 'nochange', 'float', 'arena display transparency']\n",
        "    dictionary['damage'] = ['recommended', 0, 0, 'nochange', 'integer', 'damage points accrued by station']\n",
        "    dictionary['occupant'] = ['recommended', 0, 0, 'nochange', 'integer', 'damage points accrued by station']\n",
        "    if kind == 'Grid_Charger':\n",
        "      dictionary['name'] = ['required', 'gazza', [2,20], 'length', 'string', 'named of robot']\n",
        "      dictionary['shape'] = ['optional', 'diamond', shapes, 'inlist', 'string', 'arena display shape']\n",
        "      dictionary['color'] = ['optional', 'blue', colors, 'inlist', 'string', 'arena display colour']\n",
        "    elif kind == 'Solar_Charger':\n",
        "      dictionary['name'] = ['required', 'sunny', [2,20], 'length', 'string', 'named of robot']\n",
        "      dictionary['shape'] = ['optional', 'diamond', shapes, 'inlist', 'string', 'arena display shape']\n",
        "      dictionary['color'] = ['optional', 'green', colors, 'inlist', 'string', 'arena display colour']\n",
        "    elif kind == 'Repair_Station':\n",
        "      dictionary['name'] = ['required', 'fixit', [2,20], 'length', 'string', 'named of robot']\n",
        "      dictionary['shape'] = ['optional', 'diamond', shapes, 'inlist', 'string', 'arena display shape']\n",
        "      dictionary['color'] = ['optional', 'magenta', colors, 'inlist', 'string', 'arena display colour']\n",
        "    elif kind == 'Recycling_Station':\n",
        "      dictionary['name'] = ['required', 'reuse', [2,20], 'length', 'string', 'named of robot']\n",
        "      dictionary['shape'] = ['optional', 'diamond', shapes, 'inlist', 'string', 'arena display shape']\n",
        "      dictionary['color'] = ['optional', 'cyan', colors, 'inlist', 'string', 'arena display colour']\n",
        "\n",
        "  elif kind_class == 'Deliverable':\n",
        "    dictionary['coordinates'] = ['required', [0, 0, 0], [0, 0, 0 ], 'validxyz', 'list', 'x, y, z location of a robot']\n",
        "    dictionary['max'] = ['required', [0, 0, 0], 0, 'nochange', 'list', 'maximum x, y, z velocity']\n",
        "    dictionary['velocity'] = ['required', [0, 0, 0], [0 ,0 ,0], 'listmax', 'list', 'current  x, y, z velocity']\n",
        "    dictionary['status'] = ['required', 'awaiting_transport',deliverable_statuses, 'inlist', 'string', 'Set to on, off or broken']\n",
        "    dictionary['activity'] = ['required', 'idle', activities, 'inlist', 'string', 'determines activity of deliverable']\n",
        "    dictionary['size'] = ['optional', 300, [250,1000], 'inrange', 'integer', 'arena display size']\n",
        "    dictionary['alpha'] = ['optional', 1, 0, 'nochange', 'float', 'arena display transparency']\n",
        "    dictionary['weight'] = ['optional', 50, [25,1000], 'nochange', 'integer', 'weight of deliverable']\n",
        "    dictionary['damage'] = ['recommended', 0, 0, 'nochange', 'integer', 'damage points accrued by deliverable']  \n",
        "    dictionary['name'] = ['required', 'pizza', [2,20], 'length', 'string', 'named of deliverable']\n",
        "    dictionary['target'] = ['recommended', None,'none', 'none', 'list', 'x, y, z of delivery destination']    \n",
        "    dictionary['shape'] = ['optional', 'circle', shapes, 'inlist', 'string', 'arena display shape']\n",
        "    dictionary['color'] = ['optional', 'white', colors, 'inlist', 'string', 'arena display colour']\n",
        "    dictionary['transport'] = ['optional', None,'object', 'nochange', 'object', 'object robot is transporting']\n",
        "    dictionary['start'] = ['optional', 0, 0, 'none', 'float', 'start time stamp']\n",
        "    dictionary['end'] = ['optional', 0, 0, 'none', 'float', 'end time stamp']\n",
        "\n",
        "  elif kind_class == 'Robot':\n",
        "    dictionary['coordinates'] = ['required', [0, 0, 0], [1, 1, 0 ], 'validxyz', 'list', 'x, y, z location of a robot']\n",
        "    dictionary['max'] = ['required', [1, 1, 0], 0, 'nochange', 'list', 'maximum x, y, z velocity']\n",
        "    dictionary['velocity'] = ['required', [0, 0, 0], [1 ,1 ,0], 'listmax', 'list', 'current  x, y, z velocity']\n",
        "    dictionary['status'] = ['required', 'on',0, 'nochange', 'string', 'Set to on, off or broken']\n",
        "    dictionary['activity'] = ['required', 'idle', activities, 'inlist', 'string', 'determines activity of robot']\n",
        "    dictionary['name'] = ['required', 'id', [2,20], 'length', 'string', 'named of robot']\n",
        "    dictionary['target'] = ['recommended', None,'none', 'none', 'list', 'x, y, z of a target destination']\n",
        "    dictionary['age'] = ['recommended', 0, 0, 'nochange','integer', 'age of robot in hours']\n",
        "    dictionary['active'] = ['recommended', 0, 0, 'nochange','integer', 'active hours of robot']    \n",
        "    dictionary['serviced'] = ['recommended', 0, 0, 'nochange','integer', 'age of robot at last service']\n",
        "    dictionary['soc'] = ['recommended', 600, 0, 'nochange', 'integer', 'state of charge of battery']\n",
        "    dictionary['capacity'] = ['recommended', 600, 0, 'nochange', 'integer', 'energy capacity of robot battery']\n",
        "    dictionary['service'] = ['recommended', 0, 0, 'nochange', 'integer', 'service points accrued by robot']\n",
        "    dictionary['damage'] = ['recommended', 0, 0, 'nochange', 'integer', 'damage points accrued by robot']\n",
        "    dictionary['on_arena'] = ['optional', 0,0, 'nochange', 'boolean', 'True if robot is on the arena']\n",
        "    dictionary['shape'] = ['optional', 'square', shapes, 'inlist', 'string', 'arena display shape']\n",
        "    dictionary['color'] = ['optional', 'blue', colors, 'inlist', 'string', 'arena display colour']\n",
        "    dictionary['size'] = ['optional', 250, [250,1000], 'inrange', 'integer', 'arena display size']\n",
        "    dictionary['alpha'] = ['optional', 1, 0, 'nochange', 'float', 'arena display transparency']\n",
        "    dictionary['weight'] = ['optional', 50, 0, 'nochange', 'integer', 'weight of robot']\n",
        "    dictionary['payload'] = ['optional', 100, 0, 'nochange', 'integer', 'maximum load of robot']\n",
        "    dictionary['cargo'] = ['optional', None,'object', 'none', 'object', 'object robot is transporting']\n",
        "    dictionary['station'] = ['optional', None,'object', 'none', 'object', 'station robot is heading for']\n",
        "    dictionary['distance'] = ['optional', 0, 0, 'nochange', 'float', 'distance travelled by robot']\n",
        "    dictionary['energy'] = ['optional', 0, 0, 'nochange', 'float', 'energy consumed by robot']\n",
        "    \n",
        "    if kind == 'Droid':\n",
        "      dictionary['coordinates'][2] = [2, 2, 0 ]\n",
        "      dictionary['max'][1] = [2, 2, 0 ]\n",
        "      dictionary['velocity'][2] = [2, 2, 0 ]\n",
        "      dictionary['soc'][1] = 2000\n",
        "      dictionary['capacity'][1] = 2000\n",
        "      dictionary['shape'][1]= 'circle'\n",
        "      dictionary['color'][1] = 'red'\n",
        "      dictionary['size'][1] = 300\n",
        "      dictionary['weight'][1] = 100\n",
        "      dictionary['payload'][1] = 200\n",
        "    elif kind == 'Drone':\n",
        "      dictionary['coordinates'][2] = [3, 3, 1]\n",
        "      dictionary['max'][1] = [3, 3, 1]     \n",
        "      dictionary['velocity'][2] = [3, 3, 1 ]    \n",
        "      dictionary['soc'][1] = 500      \n",
        "      dictionary['capacity'][1] = 500\n",
        "      dictionary['shape'][1] = 'triangle'\n",
        "      dictionary['color'][1] = 'green'\n",
        "      dictionary['size'][1] = 500\n",
        "      dictionary['weight'][1] = 25\n",
        "      dictionary['payload'][1] = 50\n",
        "  dictionary['kind_class'] = ['optional', kind_class, 0, 'nochange', 'string', 'class of kind']\n",
        "  \n",
        "  try:\n",
        "    if mode == 'dictionary':\n",
        "      return dictionary\n",
        "    elif mode == 'keys':\n",
        "      return tuple(key for key in dictionary)\n",
        "    else:\n",
        "      index = modes.index(mode)                                      \n",
        "      return {key: value[index] for key, value in dictionary.items()}\n",
        "  except:\n",
        "    pass\n",
        "\n",
        "  \n"
      ],
      "execution_count": 8,
      "outputs": []
    },
    {
      "cell_type": "code",
      "metadata": {
        "id": "k4KjF_Tpz650",
        "colab": {
          "base_uri": "https://localhost:8080/"
        },
        "outputId": "acd4d043-4de0-4807-b050-6e0d3abcf2b9"
      },
      "source": [
        "#@title Defaults Tests [code] {display-mode: \"code\"}\n",
        "local_testing = True and testing\n",
        "if local_testing:\n",
        "  print('Testing robot_default functionality:')\n",
        "  print(NL)\n",
        "  for kind in kinds.keys():    #  ['Robot','Droid','Drone']:\n",
        "    for return_type in ['dictionary','default']:\n",
        "      print(kind, return_type,robot_default(kind, return_type))\n",
        "  for return_type in ['keys', 'required', 'validation','function','datatype', 'description']:   \n",
        "    print(return_type,robot_default('Robot', return_type))\n",
        "\n",
        "  print(NL)\n",
        "  print ('Deliberate Error Raise test:')\n",
        "  print(NL)\n",
        "  print ('Invalid mode:',robot_default('Robot','key'))"
      ],
      "execution_count": 9,
      "outputs": [
        {
          "output_type": "stream",
          "name": "stdout",
          "text": [
            "Testing robot_default functionality:\n",
            "\n",
            "\n",
            "Robot dictionary {'kind': ['required', 'Robot', 0, 'nochange', 'string', 'robot class type'], 'coordinates': ['required', [0, 0, 0], [1, 1, 0], 'validxyz', 'list', 'x, y, z location of a robot'], 'max': ['required', [1, 1, 0], 0, 'nochange', 'list', 'maximum x, y, z velocity'], 'velocity': ['required', [0, 0, 0], [1, 1, 0], 'listmax', 'list', 'current  x, y, z velocity'], 'status': ['required', 'on', 0, 'nochange', 'string', 'Set to on, off or broken'], 'activity': ['required', 'idle', ['idle', 'available', 'charging', 'busy', 'delivering', 'is_cargo', 'under_repair', 'repairing'], 'inlist', 'string', 'determines activity of robot'], 'name': ['required', 'id', [2, 20], 'length', 'string', 'named of robot'], 'target': ['recommended', None, 'none', 'none', 'list', 'x, y, z of a target destination'], 'age': ['recommended', 0, 0, 'nochange', 'integer', 'age of robot in hours'], 'active': ['recommended', 0, 0, 'nochange', 'integer', 'active hours of robot'], 'serviced': ['recommended', 0, 0, 'nochange', 'integer', 'age of robot at last service'], 'soc': ['recommended', 600, 0, 'nochange', 'integer', 'state of charge of battery'], 'capacity': ['recommended', 600, 0, 'nochange', 'integer', 'energy capacity of robot battery'], 'service': ['recommended', 0, 0, 'nochange', 'integer', 'service points accrued by robot'], 'damage': ['recommended', 0, 0, 'nochange', 'integer', 'damage points accrued by robot'], 'on_arena': ['optional', 0, 0, 'nochange', 'boolean', 'True if robot is on the arena'], 'shape': ['optional', 'square', ['square', 'circle', 'triangle', 'plus', 'star', 'diamond', 'x', 'hexagon'], 'inlist', 'string', 'arena display shape'], 'color': ['optional', 'blue', ['blue', 'green', 'red', 'cyan', 'magenta', 'yellow', 'black', 'white'], 'inlist', 'string', 'arena display colour'], 'size': ['optional', 250, [250, 1000], 'inrange', 'integer', 'arena display size'], 'alpha': ['optional', 1, 0, 'nochange', 'float', 'arena display transparency'], 'weight': ['optional', 50, 0, 'nochange', 'integer', 'weight of robot'], 'payload': ['optional', 100, 0, 'nochange', 'integer', 'maximum load of robot'], 'cargo': ['optional', None, 'object', 'none', 'object', 'object robot is transporting'], 'station': ['optional', None, 'object', 'none', 'object', 'station robot is heading for'], 'distance': ['optional', 0, 0, 'nochange', 'float', 'distance travelled by robot'], 'energy': ['optional', 0, 0, 'nochange', 'float', 'energy consumed by robot'], 'kind_class': ['optional', 'Robot', 0, 'nochange', 'string', 'class of kind']}\n",
            "Robot default {'kind': 'Robot', 'coordinates': [0, 0, 0], 'max': [1, 1, 0], 'velocity': [0, 0, 0], 'status': 'on', 'activity': 'idle', 'name': 'id', 'target': None, 'age': 0, 'active': 0, 'serviced': 0, 'soc': 600, 'capacity': 600, 'service': 0, 'damage': 0, 'on_arena': 0, 'shape': 'square', 'color': 'blue', 'size': 250, 'alpha': 1, 'weight': 50, 'payload': 100, 'cargo': None, 'station': None, 'distance': 0, 'energy': 0, 'kind_class': 'Robot'}\n",
            "Droid dictionary {'kind': ['required', 'Droid', 0, 'nochange', 'string', 'robot class type'], 'coordinates': ['required', [0, 0, 0], [2, 2, 0], 'validxyz', 'list', 'x, y, z location of a robot'], 'max': ['required', [2, 2, 0], 0, 'nochange', 'list', 'maximum x, y, z velocity'], 'velocity': ['required', [0, 0, 0], [2, 2, 0], 'listmax', 'list', 'current  x, y, z velocity'], 'status': ['required', 'on', 0, 'nochange', 'string', 'Set to on, off or broken'], 'activity': ['required', 'idle', ['idle', 'available', 'charging', 'busy', 'delivering', 'is_cargo', 'under_repair', 'repairing'], 'inlist', 'string', 'determines activity of robot'], 'name': ['required', 'id', [2, 20], 'length', 'string', 'named of robot'], 'target': ['recommended', None, 'none', 'none', 'list', 'x, y, z of a target destination'], 'age': ['recommended', 0, 0, 'nochange', 'integer', 'age of robot in hours'], 'active': ['recommended', 0, 0, 'nochange', 'integer', 'active hours of robot'], 'serviced': ['recommended', 0, 0, 'nochange', 'integer', 'age of robot at last service'], 'soc': ['recommended', 2000, 0, 'nochange', 'integer', 'state of charge of battery'], 'capacity': ['recommended', 2000, 0, 'nochange', 'integer', 'energy capacity of robot battery'], 'service': ['recommended', 0, 0, 'nochange', 'integer', 'service points accrued by robot'], 'damage': ['recommended', 0, 0, 'nochange', 'integer', 'damage points accrued by robot'], 'on_arena': ['optional', 0, 0, 'nochange', 'boolean', 'True if robot is on the arena'], 'shape': ['optional', 'circle', ['square', 'circle', 'triangle', 'plus', 'star', 'diamond', 'x', 'hexagon'], 'inlist', 'string', 'arena display shape'], 'color': ['optional', 'red', ['blue', 'green', 'red', 'cyan', 'magenta', 'yellow', 'black', 'white'], 'inlist', 'string', 'arena display colour'], 'size': ['optional', 300, [250, 1000], 'inrange', 'integer', 'arena display size'], 'alpha': ['optional', 1, 0, 'nochange', 'float', 'arena display transparency'], 'weight': ['optional', 100, 0, 'nochange', 'integer', 'weight of robot'], 'payload': ['optional', 200, 0, 'nochange', 'integer', 'maximum load of robot'], 'cargo': ['optional', None, 'object', 'none', 'object', 'object robot is transporting'], 'station': ['optional', None, 'object', 'none', 'object', 'station robot is heading for'], 'distance': ['optional', 0, 0, 'nochange', 'float', 'distance travelled by robot'], 'energy': ['optional', 0, 0, 'nochange', 'float', 'energy consumed by robot'], 'kind_class': ['optional', 'Robot', 0, 'nochange', 'string', 'class of kind']}\n",
            "Droid default {'kind': 'Droid', 'coordinates': [0, 0, 0], 'max': [2, 2, 0], 'velocity': [0, 0, 0], 'status': 'on', 'activity': 'idle', 'name': 'id', 'target': None, 'age': 0, 'active': 0, 'serviced': 0, 'soc': 2000, 'capacity': 2000, 'service': 0, 'damage': 0, 'on_arena': 0, 'shape': 'circle', 'color': 'red', 'size': 300, 'alpha': 1, 'weight': 100, 'payload': 200, 'cargo': None, 'station': None, 'distance': 0, 'energy': 0, 'kind_class': 'Robot'}\n",
            "Drone dictionary {'kind': ['required', 'Drone', 0, 'nochange', 'string', 'robot class type'], 'coordinates': ['required', [0, 0, 0], [3, 3, 1], 'validxyz', 'list', 'x, y, z location of a robot'], 'max': ['required', [3, 3, 1], 0, 'nochange', 'list', 'maximum x, y, z velocity'], 'velocity': ['required', [0, 0, 0], [3, 3, 1], 'listmax', 'list', 'current  x, y, z velocity'], 'status': ['required', 'on', 0, 'nochange', 'string', 'Set to on, off or broken'], 'activity': ['required', 'idle', ['idle', 'available', 'charging', 'busy', 'delivering', 'is_cargo', 'under_repair', 'repairing'], 'inlist', 'string', 'determines activity of robot'], 'name': ['required', 'id', [2, 20], 'length', 'string', 'named of robot'], 'target': ['recommended', None, 'none', 'none', 'list', 'x, y, z of a target destination'], 'age': ['recommended', 0, 0, 'nochange', 'integer', 'age of robot in hours'], 'active': ['recommended', 0, 0, 'nochange', 'integer', 'active hours of robot'], 'serviced': ['recommended', 0, 0, 'nochange', 'integer', 'age of robot at last service'], 'soc': ['recommended', 500, 0, 'nochange', 'integer', 'state of charge of battery'], 'capacity': ['recommended', 500, 0, 'nochange', 'integer', 'energy capacity of robot battery'], 'service': ['recommended', 0, 0, 'nochange', 'integer', 'service points accrued by robot'], 'damage': ['recommended', 0, 0, 'nochange', 'integer', 'damage points accrued by robot'], 'on_arena': ['optional', 0, 0, 'nochange', 'boolean', 'True if robot is on the arena'], 'shape': ['optional', 'triangle', ['square', 'circle', 'triangle', 'plus', 'star', 'diamond', 'x', 'hexagon'], 'inlist', 'string', 'arena display shape'], 'color': ['optional', 'green', ['blue', 'green', 'red', 'cyan', 'magenta', 'yellow', 'black', 'white'], 'inlist', 'string', 'arena display colour'], 'size': ['optional', 500, [250, 1000], 'inrange', 'integer', 'arena display size'], 'alpha': ['optional', 1, 0, 'nochange', 'float', 'arena display transparency'], 'weight': ['optional', 25, 0, 'nochange', 'integer', 'weight of robot'], 'payload': ['optional', 50, 0, 'nochange', 'integer', 'maximum load of robot'], 'cargo': ['optional', None, 'object', 'none', 'object', 'object robot is transporting'], 'station': ['optional', None, 'object', 'none', 'object', 'station robot is heading for'], 'distance': ['optional', 0, 0, 'nochange', 'float', 'distance travelled by robot'], 'energy': ['optional', 0, 0, 'nochange', 'float', 'energy consumed by robot'], 'kind_class': ['optional', 'Robot', 0, 'nochange', 'string', 'class of kind']}\n",
            "Drone default {'kind': 'Drone', 'coordinates': [0, 0, 0], 'max': [3, 3, 1], 'velocity': [0, 0, 0], 'status': 'on', 'activity': 'idle', 'name': 'id', 'target': None, 'age': 0, 'active': 0, 'serviced': 0, 'soc': 500, 'capacity': 500, 'service': 0, 'damage': 0, 'on_arena': 0, 'shape': 'triangle', 'color': 'green', 'size': 500, 'alpha': 1, 'weight': 25, 'payload': 50, 'cargo': None, 'station': None, 'distance': 0, 'energy': 0, 'kind_class': 'Robot'}\n",
            "Pizza dictionary {'kind': ['required', 'Pizza', 0, 'nochange', 'string', 'robot class type'], 'coordinates': ['required', [0, 0, 0], [0, 0, 0], 'validxyz', 'list', 'x, y, z location of a robot'], 'max': ['required', [0, 0, 0], 0, 'nochange', 'list', 'maximum x, y, z velocity'], 'velocity': ['required', [0, 0, 0], [0, 0, 0], 'listmax', 'list', 'current  x, y, z velocity'], 'status': ['required', 'awaiting_transport', ['awaiting_transport', 'awaiting_collection', 'in_transit', 'delivered'], 'inlist', 'string', 'Set to on, off or broken'], 'activity': ['required', 'idle', ['idle', 'available', 'charging', 'busy', 'delivering', 'is_cargo', 'under_repair', 'repairing'], 'inlist', 'string', 'determines activity of deliverable'], 'size': ['optional', 300, [250, 1000], 'inrange', 'integer', 'arena display size'], 'alpha': ['optional', 1, 0, 'nochange', 'float', 'arena display transparency'], 'weight': ['optional', 50, [25, 1000], 'nochange', 'integer', 'weight of deliverable'], 'damage': ['recommended', 0, 0, 'nochange', 'integer', 'damage points accrued by deliverable'], 'name': ['required', 'pizza', [2, 20], 'length', 'string', 'named of deliverable'], 'target': ['recommended', None, 'none', 'none', 'list', 'x, y, z of delivery destination'], 'shape': ['optional', 'circle', ['square', 'circle', 'triangle', 'plus', 'star', 'diamond', 'x', 'hexagon'], 'inlist', 'string', 'arena display shape'], 'color': ['optional', 'white', ['blue', 'green', 'red', 'cyan', 'magenta', 'yellow', 'black', 'white'], 'inlist', 'string', 'arena display colour'], 'transport': ['optional', None, 'object', 'nochange', 'object', 'object robot is transporting'], 'start': ['optional', 0, 0, 'none', 'float', 'start time stamp'], 'end': ['optional', 0, 0, 'none', 'float', 'end time stamp'], 'kind_class': ['optional', 'Deliverable', 0, 'nochange', 'string', 'class of kind']}\n",
            "Pizza default {'kind': 'Pizza', 'coordinates': [0, 0, 0], 'max': [0, 0, 0], 'velocity': [0, 0, 0], 'status': 'awaiting_transport', 'activity': 'idle', 'size': 300, 'alpha': 1, 'weight': 50, 'damage': 0, 'name': 'pizza', 'target': None, 'shape': 'circle', 'color': 'white', 'transport': None, 'start': 0, 'end': 0, 'kind_class': 'Deliverable'}\n",
            "Grid_Charger dictionary {'kind': ['required', 'Grid_Charger', 0, 'nochange', 'string', 'robot class type'], 'coordinates': ['required', [0, 0, 0], [0, 0, 0], 'validxyz', 'list', 'x, y, z location of a robot'], 'max': ['required', [0, 0, 0], 0, 'nochange', 'list', 'maximum x, y, z velocity'], 'velocity': ['required', [0, 0, 0], [0, 0, 0], 'listmax', 'list', 'current  x, y, z velocity'], 'status': ['required', 'vacant', ['occupied', 'vacant'], 'inlist', 'string', 'Set to on, off or broken'], 'activity': ['required', 'idle', ['idle', 'available', 'charging', 'busy', 'delivering', 'is_cargo', 'under_repair', 'repairing'], 'inlist', 'string', 'determines activity of station'], 'size': ['optional', 300, [250, 1000], 'inrange', 'integer', 'arena display size'], 'alpha': ['optional', 1, 0, 'nochange', 'float', 'arena display transparency'], 'damage': ['recommended', 0, 0, 'nochange', 'integer', 'damage points accrued by station'], 'occupant': ['recommended', 0, 0, 'nochange', 'integer', 'damage points accrued by station'], 'name': ['required', 'gazza', [2, 20], 'length', 'string', 'named of robot'], 'shape': ['optional', 'diamond', ['square', 'circle', 'triangle', 'plus', 'star', 'diamond', 'x', 'hexagon'], 'inlist', 'string', 'arena display shape'], 'color': ['optional', 'blue', ['blue', 'green', 'red', 'cyan', 'magenta', 'yellow', 'black', 'white'], 'inlist', 'string', 'arena display colour'], 'kind_class': ['optional', 'Station', 0, 'nochange', 'string', 'class of kind']}\n",
            "Grid_Charger default {'kind': 'Grid_Charger', 'coordinates': [0, 0, 0], 'max': [0, 0, 0], 'velocity': [0, 0, 0], 'status': 'vacant', 'activity': 'idle', 'size': 300, 'alpha': 1, 'damage': 0, 'occupant': 0, 'name': 'gazza', 'shape': 'diamond', 'color': 'blue', 'kind_class': 'Station'}\n",
            "Solar_Charger dictionary {'kind': ['required', 'Solar_Charger', 0, 'nochange', 'string', 'robot class type'], 'coordinates': ['required', [0, 0, 0], [0, 0, 0], 'validxyz', 'list', 'x, y, z location of a robot'], 'max': ['required', [0, 0, 0], 0, 'nochange', 'list', 'maximum x, y, z velocity'], 'velocity': ['required', [0, 0, 0], [0, 0, 0], 'listmax', 'list', 'current  x, y, z velocity'], 'status': ['required', 'vacant', ['occupied', 'vacant'], 'inlist', 'string', 'Set to on, off or broken'], 'activity': ['required', 'idle', ['idle', 'available', 'charging', 'busy', 'delivering', 'is_cargo', 'under_repair', 'repairing'], 'inlist', 'string', 'determines activity of station'], 'size': ['optional', 300, [250, 1000], 'inrange', 'integer', 'arena display size'], 'alpha': ['optional', 1, 0, 'nochange', 'float', 'arena display transparency'], 'damage': ['recommended', 0, 0, 'nochange', 'integer', 'damage points accrued by station'], 'occupant': ['recommended', 0, 0, 'nochange', 'integer', 'damage points accrued by station'], 'name': ['required', 'sunny', [2, 20], 'length', 'string', 'named of robot'], 'shape': ['optional', 'diamond', ['square', 'circle', 'triangle', 'plus', 'star', 'diamond', 'x', 'hexagon'], 'inlist', 'string', 'arena display shape'], 'color': ['optional', 'green', ['blue', 'green', 'red', 'cyan', 'magenta', 'yellow', 'black', 'white'], 'inlist', 'string', 'arena display colour'], 'kind_class': ['optional', 'Station', 0, 'nochange', 'string', 'class of kind']}\n",
            "Solar_Charger default {'kind': 'Solar_Charger', 'coordinates': [0, 0, 0], 'max': [0, 0, 0], 'velocity': [0, 0, 0], 'status': 'vacant', 'activity': 'idle', 'size': 300, 'alpha': 1, 'damage': 0, 'occupant': 0, 'name': 'sunny', 'shape': 'diamond', 'color': 'green', 'kind_class': 'Station'}\n",
            "Repair_Station dictionary {'kind': ['required', 'Repair_Station', 0, 'nochange', 'string', 'robot class type'], 'coordinates': ['required', [0, 0, 0], [0, 0, 0], 'validxyz', 'list', 'x, y, z location of a robot'], 'max': ['required', [0, 0, 0], 0, 'nochange', 'list', 'maximum x, y, z velocity'], 'velocity': ['required', [0, 0, 0], [0, 0, 0], 'listmax', 'list', 'current  x, y, z velocity'], 'status': ['required', 'vacant', ['occupied', 'vacant'], 'inlist', 'string', 'Set to on, off or broken'], 'activity': ['required', 'idle', ['idle', 'available', 'charging', 'busy', 'delivering', 'is_cargo', 'under_repair', 'repairing'], 'inlist', 'string', 'determines activity of station'], 'size': ['optional', 300, [250, 1000], 'inrange', 'integer', 'arena display size'], 'alpha': ['optional', 1, 0, 'nochange', 'float', 'arena display transparency'], 'damage': ['recommended', 0, 0, 'nochange', 'integer', 'damage points accrued by station'], 'occupant': ['recommended', 0, 0, 'nochange', 'integer', 'damage points accrued by station'], 'name': ['required', 'fixit', [2, 20], 'length', 'string', 'named of robot'], 'shape': ['optional', 'diamond', ['square', 'circle', 'triangle', 'plus', 'star', 'diamond', 'x', 'hexagon'], 'inlist', 'string', 'arena display shape'], 'color': ['optional', 'magenta', ['blue', 'green', 'red', 'cyan', 'magenta', 'yellow', 'black', 'white'], 'inlist', 'string', 'arena display colour'], 'kind_class': ['optional', 'Station', 0, 'nochange', 'string', 'class of kind']}\n",
            "Repair_Station default {'kind': 'Repair_Station', 'coordinates': [0, 0, 0], 'max': [0, 0, 0], 'velocity': [0, 0, 0], 'status': 'vacant', 'activity': 'idle', 'size': 300, 'alpha': 1, 'damage': 0, 'occupant': 0, 'name': 'fixit', 'shape': 'diamond', 'color': 'magenta', 'kind_class': 'Station'}\n",
            "Recycling_Station dictionary {'kind': ['required', 'Recycling_Station', 0, 'nochange', 'string', 'robot class type'], 'coordinates': ['required', [0, 0, 0], [0, 0, 0], 'validxyz', 'list', 'x, y, z location of a robot'], 'max': ['required', [0, 0, 0], 0, 'nochange', 'list', 'maximum x, y, z velocity'], 'velocity': ['required', [0, 0, 0], [0, 0, 0], 'listmax', 'list', 'current  x, y, z velocity'], 'status': ['required', 'vacant', ['occupied', 'vacant'], 'inlist', 'string', 'Set to on, off or broken'], 'activity': ['required', 'idle', ['idle', 'available', 'charging', 'busy', 'delivering', 'is_cargo', 'under_repair', 'repairing'], 'inlist', 'string', 'determines activity of station'], 'size': ['optional', 300, [250, 1000], 'inrange', 'integer', 'arena display size'], 'alpha': ['optional', 1, 0, 'nochange', 'float', 'arena display transparency'], 'damage': ['recommended', 0, 0, 'nochange', 'integer', 'damage points accrued by station'], 'occupant': ['recommended', 0, 0, 'nochange', 'integer', 'damage points accrued by station'], 'name': ['required', 'reuse', [2, 20], 'length', 'string', 'named of robot'], 'shape': ['optional', 'diamond', ['square', 'circle', 'triangle', 'plus', 'star', 'diamond', 'x', 'hexagon'], 'inlist', 'string', 'arena display shape'], 'color': ['optional', 'cyan', ['blue', 'green', 'red', 'cyan', 'magenta', 'yellow', 'black', 'white'], 'inlist', 'string', 'arena display colour'], 'kind_class': ['optional', 'Station', 0, 'nochange', 'string', 'class of kind']}\n",
            "Recycling_Station default {'kind': 'Recycling_Station', 'coordinates': [0, 0, 0], 'max': [0, 0, 0], 'velocity': [0, 0, 0], 'status': 'vacant', 'activity': 'idle', 'size': 300, 'alpha': 1, 'damage': 0, 'occupant': 0, 'name': 'reuse', 'shape': 'diamond', 'color': 'cyan', 'kind_class': 'Station'}\n",
            "keys ('kind', 'coordinates', 'max', 'velocity', 'status', 'activity', 'name', 'target', 'age', 'active', 'serviced', 'soc', 'capacity', 'service', 'damage', 'on_arena', 'shape', 'color', 'size', 'alpha', 'weight', 'payload', 'cargo', 'station', 'distance', 'energy', 'kind_class')\n",
            "required {'kind': 'required', 'coordinates': 'required', 'max': 'required', 'velocity': 'required', 'status': 'required', 'activity': 'required', 'name': 'required', 'target': 'recommended', 'age': 'recommended', 'active': 'recommended', 'serviced': 'recommended', 'soc': 'recommended', 'capacity': 'recommended', 'service': 'recommended', 'damage': 'recommended', 'on_arena': 'optional', 'shape': 'optional', 'color': 'optional', 'size': 'optional', 'alpha': 'optional', 'weight': 'optional', 'payload': 'optional', 'cargo': 'optional', 'station': 'optional', 'distance': 'optional', 'energy': 'optional', 'kind_class': 'optional'}\n",
            "validation {'kind': 0, 'coordinates': [1, 1, 0], 'max': 0, 'velocity': [1, 1, 0], 'status': 0, 'activity': ['idle', 'available', 'charging', 'busy', 'delivering', 'is_cargo', 'under_repair', 'repairing'], 'name': [2, 20], 'target': 'none', 'age': 0, 'active': 0, 'serviced': 0, 'soc': 0, 'capacity': 0, 'service': 0, 'damage': 0, 'on_arena': 0, 'shape': ['square', 'circle', 'triangle', 'plus', 'star', 'diamond', 'x', 'hexagon'], 'color': ['blue', 'green', 'red', 'cyan', 'magenta', 'yellow', 'black', 'white'], 'size': [250, 1000], 'alpha': 0, 'weight': 0, 'payload': 0, 'cargo': 'object', 'station': 'object', 'distance': 0, 'energy': 0, 'kind_class': 0}\n",
            "function {'kind': 'nochange', 'coordinates': 'validxyz', 'max': 'nochange', 'velocity': 'listmax', 'status': 'nochange', 'activity': 'inlist', 'name': 'length', 'target': 'none', 'age': 'nochange', 'active': 'nochange', 'serviced': 'nochange', 'soc': 'nochange', 'capacity': 'nochange', 'service': 'nochange', 'damage': 'nochange', 'on_arena': 'nochange', 'shape': 'inlist', 'color': 'inlist', 'size': 'inrange', 'alpha': 'nochange', 'weight': 'nochange', 'payload': 'nochange', 'cargo': 'none', 'station': 'none', 'distance': 'nochange', 'energy': 'nochange', 'kind_class': 'nochange'}\n",
            "datatype {'kind': 'string', 'coordinates': 'list', 'max': 'list', 'velocity': 'list', 'status': 'string', 'activity': 'string', 'name': 'string', 'target': 'list', 'age': 'integer', 'active': 'integer', 'serviced': 'integer', 'soc': 'integer', 'capacity': 'integer', 'service': 'integer', 'damage': 'integer', 'on_arena': 'boolean', 'shape': 'string', 'color': 'string', 'size': 'integer', 'alpha': 'float', 'weight': 'integer', 'payload': 'integer', 'cargo': 'object', 'station': 'object', 'distance': 'float', 'energy': 'float', 'kind_class': 'string'}\n",
            "description {'kind': 'robot class type', 'coordinates': 'x, y, z location of a robot', 'max': 'maximum x, y, z velocity', 'velocity': 'current  x, y, z velocity', 'status': 'Set to on, off or broken', 'activity': 'determines activity of robot', 'name': 'named of robot', 'target': 'x, y, z of a target destination', 'age': 'age of robot in hours', 'active': 'active hours of robot', 'serviced': 'age of robot at last service', 'soc': 'state of charge of battery', 'capacity': 'energy capacity of robot battery', 'service': 'service points accrued by robot', 'damage': 'damage points accrued by robot', 'on_arena': 'True if robot is on the arena', 'shape': 'arena display shape', 'color': 'arena display colour', 'size': 'arena display size', 'alpha': 'arena display transparency', 'weight': 'weight of robot', 'payload': 'maximum load of robot', 'cargo': 'object robot is transporting', 'station': 'station robot is heading for', 'distance': 'distance travelled by robot', 'energy': 'energy consumed by robot', 'kind_class': 'class of kind'}\n",
            "\n",
            "\n",
            "Deliberate Error Raise test:\n",
            "\n",
            "\n",
            "Invalid mode: None\n"
          ]
        }
      ]
    },
    {
      "cell_type": "markdown",
      "metadata": {
        "id": "1jJ64B5K8csN"
      },
      "source": [
        "### **Display**\n",
        "\n",
        "The display is designed to display individual robots on the robot arena. It receives a list of robot registers when ```ecosystem.display()``` is executed. Display is documented in the Ecosystem documentation.\n",
        "\n",
        "\n",
        "\n"
      ]
    },
    {
      "cell_type": "code",
      "metadata": {
        "id": "b63bGmmBNoos"
      },
      "source": [
        "# @title Display Function [code] {display-mode: \"code\"} \n",
        "#%matplotlib inline\n",
        "\n",
        "def display(markers,**kwargs):\n",
        "  cm = 1/2.54\n",
        "  #ecosystem parameter that can be passed to get useful information\n",
        "  width = kwargs.get('width', 30)*cm\n",
        "  height = kwargs.get('height', 15)*cm\n",
        "  pause = kwargs.get('pause', 250)\n",
        "  title = kwargs.get('title','Ecosystem Display')\n",
        "  clear = kwargs.get('clear',True)\n",
        "  hour =  kwargs.get('hour', 12)\n",
        "  brightness = kwargs.get('brightness', False)\n",
        "  facecolor =  kwargs.get('facecolor', 'pink')\n",
        "  annotations = kwargs.get('annotations', [])\n",
        "  annotate = len(annotations) > 0\n",
        "\n",
        "  ## _display_parameters ##\n",
        "  #can change where to show annotations\n",
        "  if annotate:\n",
        "    try:\n",
        "      if type(annotations[0]) == tuple:\n",
        "        dx,dy = annotations[0][0],annotations[0][1]\n",
        "      else:\n",
        "        dx,dy = 1, 1\n",
        "    except:\n",
        "      pass\n",
        "  \n",
        "  try:\n",
        "    title = title.format(**kwargs)\n",
        "  except Exception as error:\n",
        "    title = title + ' #format missing ' + str(error) + '#'\n",
        "\n",
        "  x_max =  default_width\n",
        "  y_max =  default_height\n",
        "\n",
        "  if clear:\n",
        "    clear_output(wait=True)\n",
        " \n",
        "  a = irradiance(hour) if brightness else 1\n",
        "\n",
        "\n",
        "  fig = plt.figure(figsize=(width,height))\n",
        "  fig.patch.set_facecolor('grey')\n",
        "  fig.patch.set_alpha(0.6)\n",
        "  ax = fig.add_subplot(111)\n",
        "  ax.patch.set_facecolor(facecolor)\n",
        "  ax.patch.set_alpha(a)\n",
        "\n",
        "  plt.title (title)\n",
        "  plt.xlim(-2, x_max+2)\n",
        "  plt.ylim(-2, y_max+2)\n",
        "  for p in markers:\n",
        "    try:\n",
        "      x=p['coordinates'][0]\n",
        "      y=p['coordinates'][1]\n",
        "      scale = p['size']\n",
        "      color = p['color'] \n",
        "      shape = p['shape']\n",
        "      alpha = p['alpha']\n",
        "      marker_shape = mpl_shapes[shape] \n",
        "      ax.scatter(x, y, s=scale, c=color, marker=marker_shape, alpha=alpha, edgecolors='b')\n",
        "      #helicoptor wing\n",
        "      if p['coordinates'][2] > 0:\n",
        "        ax.scatter(x, y, s=scale*3, c='k', marker='1', alpha=alpha, edgecolors='b')   \n",
        "      #put annotation into place with its arguements\n",
        "      if annotate:\n",
        "        try:\n",
        "          annotation =  ';'.join(key + \":\" + str(value) for key, value in p.items() if key in annotations) #can annotate any key in marker dictionary\n",
        "          plt.annotate(annotation, (x+dx, y+dy),)\n",
        "        except:\n",
        "          pass\n",
        "\n",
        "    except Exception as error:\n",
        "      #print(\"Point error:\", p, error)\n",
        "      continue\n",
        "\n",
        "  #creating girds\n",
        "  ax.set_xticks(range(0, x_max + 1, 10))\n",
        "  ax.set_yticks(range(0, y_max + 1, 10))\n",
        "  ax.grid(color = 'red', linestyle = '--', linewidth = 0.25)\n",
        "\n",
        "  plt.show()\n",
        "  time.sleep(pause/1000)\n",
        "\n"
      ],
      "execution_count": 10,
      "outputs": []
    },
    {
      "cell_type": "code",
      "metadata": {
        "id": "znoXM4BU8H6N",
        "colab": {
          "base_uri": "https://localhost:8080/",
          "height": 561
        },
        "outputId": "a7d45dd9-7eec-4595-c945-6bdb3ebf6ab6"
      },
      "source": [
        "#@title Display Tests {display-mode: \"code\"}\n",
        "if testing:\n",
        "  points = []\n",
        "\n",
        "  for kind in ['Robot', 'Drone', 'Droid', 'Grid_Charger', 'Solar_Charger','Repair_Station','Recycling_Station', 'Pizza', 'Pizza']:\n",
        "    register = robot_default(kind, 'default')\n",
        "    alt_max = 1 if kind == 'Drone' else 0\n",
        "    register['coordinates'][0] = randint (0, default_width)\n",
        "    register['coordinates'][1] = randint (0, default_height)\n",
        "    register['coordinates'][2] = randint (0, alt_max)\n",
        "    points.append(register)\n",
        "     \n",
        "  display(points, facecolor = 'pink',title = \"Ecosystem Display Hour:{hour} Registered:{registered}\", annotations = [(1.5,0),'soc','name'], hour = 12, registered = len(points))\n",
        "  for p in points:\n",
        "    print (p)\n",
        "  "
      ],
      "execution_count": 11,
      "outputs": [
        {
          "output_type": "display_data",
          "data": {
            "image/png": "[encoded data removed]",
            "text/plain": [
              "<Figure size 850.394x425.197 with 1 Axes>"
            ]
          },
          "metadata": {}
        },
        {
          "output_type": "stream",
          "name": "stdout",
          "text": [
            "{'kind': 'Robot', 'coordinates': [72, 4, 0], 'max': [1, 1, 0], 'velocity': [0, 0, 0], 'status': 'on', 'activity': 'idle', 'name': 'id', 'target': None, 'age': 0, 'active': 0, 'serviced': 0, 'soc': 600, 'capacity': 600, 'service': 0, 'damage': 0, 'on_arena': 0, 'shape': 'square', 'color': 'blue', 'size': 250, 'alpha': 1, 'weight': 50, 'payload': 100, 'cargo': None, 'station': None, 'distance': 0, 'energy': 0, 'kind_class': 'Robot'}\n",
            "{'kind': 'Drone', 'coordinates': [56, 24, 0], 'max': [3, 3, 1], 'velocity': [0, 0, 0], 'status': 'on', 'activity': 'idle', 'name': 'id', 'target': None, 'age': 0, 'active': 0, 'serviced': 0, 'soc': 500, 'capacity': 500, 'service': 0, 'damage': 0, 'on_arena': 0, 'shape': 'triangle', 'color': 'green', 'size': 500, 'alpha': 1, 'weight': 25, 'payload': 50, 'cargo': None, 'station': None, 'distance': 0, 'energy': 0, 'kind_class': 'Robot'}\n",
            "{'kind': 'Droid', 'coordinates': [77, 32, 0], 'max': [2, 2, 0], 'velocity': [0, 0, 0], 'status': 'on', 'activity': 'idle', 'name': 'id', 'target': None, 'age': 0, 'active': 0, 'serviced': 0, 'soc': 2000, 'capacity': 2000, 'service': 0, 'damage': 0, 'on_arena': 0, 'shape': 'circle', 'color': 'red', 'size': 300, 'alpha': 1, 'weight': 100, 'payload': 200, 'cargo': None, 'station': None, 'distance': 0, 'energy': 0, 'kind_class': 'Robot'}\n",
            "{'kind': 'Grid_Charger', 'coordinates': [24, 22, 0], 'max': [0, 0, 0], 'velocity': [0, 0, 0], 'status': 'vacant', 'activity': 'idle', 'size': 300, 'alpha': 1, 'damage': 0, 'occupant': 0, 'name': 'gazza', 'shape': 'diamond', 'color': 'blue', 'kind_class': 'Station'}\n",
            "{'kind': 'Solar_Charger', 'coordinates': [74, 13, 0], 'max': [0, 0, 0], 'velocity': [0, 0, 0], 'status': 'vacant', 'activity': 'idle', 'size': 300, 'alpha': 1, 'damage': 0, 'occupant': 0, 'name': 'sunny', 'shape': 'diamond', 'color': 'green', 'kind_class': 'Station'}\n",
            "{'kind': 'Repair_Station', 'coordinates': [45, 31, 0], 'max': [0, 0, 0], 'velocity': [0, 0, 0], 'status': 'vacant', 'activity': 'idle', 'size': 300, 'alpha': 1, 'damage': 0, 'occupant': 0, 'name': 'fixit', 'shape': 'diamond', 'color': 'magenta', 'kind_class': 'Station'}\n",
            "{'kind': 'Recycling_Station', 'coordinates': [55, 1, 0], 'max': [0, 0, 0], 'velocity': [0, 0, 0], 'status': 'vacant', 'activity': 'idle', 'size': 300, 'alpha': 1, 'damage': 0, 'occupant': 0, 'name': 'reuse', 'shape': 'diamond', 'color': 'cyan', 'kind_class': 'Station'}\n",
            "{'kind': 'Pizza', 'coordinates': [30, 10, 0], 'max': [0, 0, 0], 'velocity': [0, 0, 0], 'status': 'awaiting_transport', 'activity': 'idle', 'size': 300, 'alpha': 1, 'weight': 50, 'damage': 0, 'name': 'pizza', 'target': None, 'shape': 'circle', 'color': 'white', 'transport': None, 'start': 0, 'end': 0, 'kind_class': 'Deliverable'}\n",
            "{'kind': 'Pizza', 'coordinates': [15, 27, 0], 'max': [0, 0, 0], 'velocity': [0, 0, 0], 'status': 'awaiting_transport', 'activity': 'idle', 'size': 300, 'alpha': 1, 'weight': 50, 'damage': 0, 'name': 'pizza', 'target': None, 'shape': 'circle', 'color': 'white', 'transport': None, 'start': 0, 'end': 0, 'kind_class': 'Deliverable'}\n"
          ]
        }
      ]
    },
    {
      "cell_type": "markdown",
      "metadata": {
        "id": "ynMHFUq3Pc79"
      },
      "source": [
        "## **Ecosystem Class**\n",
        "\n",
        "\n"
      ]
    },
    {
      "cell_type": "code",
      "metadata": {
        "id": "TdrXtreo8FrE"
      },
      "source": [
        "########################################################\n",
        "# @title Ecosystem Class [code] {display-mode: \"code\"}\n",
        "########################################################\n",
        "\n",
        "class Ecosystem:\n",
        "  def __init__(self):\n",
        "    self._duration = 24\n",
        "    self._hour = 0\n",
        "    self._robots = []\n",
        "    self.display_on_update = False\n",
        "    self._register = {}\n",
        "    self.markers = []\n",
        "    self._messages = Queue()\n",
        "    self._cache = {}\n",
        "    self._registerable = [ kind for kind in kinds]\n",
        "    self.random_cordinates = True\n",
        "    self.message_types = [ 'damage', 'error', 'info', 'broken']     #''warning''\n",
        "    self._display_parameters = {}\n",
        "    self._delivered = {}  #cache of delivered objects transferred from live register\n",
        "    self.pizza_assignment = {}   #added so that assigning robot to pizza is clear\n",
        "    self.deliverable_list = []   #list of pizzas that waiting to be collected then deleted once assigned\n",
        "    self.station_list = []\n",
        "\n",
        " ####################\n",
        " ##   Properties   ##\n",
        " ####################\n",
        "\n",
        "  @property \n",
        "  def display_parameters(self):\n",
        "    return self._display_parameters\n",
        "  @display_parameters.setter\n",
        "  def display_parameters(self, parameters):\n",
        "    self._display_parameters = parameters\n",
        "  @property\n",
        "  def has_message(self):\n",
        "    return not self._messages.empty()   #while not q1.empty():\n",
        "  @property\n",
        "  def messages(self):\n",
        "    text = ''\n",
        "    while self.has_message:\n",
        "      #messages are a tuple of 5 objects\n",
        "      message_type, kind, name, function, comment = self.message\n",
        "      try:\n",
        "        text += f'{message_type:<10} {kind:<8} {str(name):<16} {function[:12]} {comment}' + '\\n'\n",
        "      except:\n",
        "        text += str([message_type, kind, name, function, comment])\n",
        "    return text\n",
        "  @property\n",
        "  def message(self):\n",
        "      if self._messages.empty():\n",
        "        return False\n",
        "      else:\n",
        "        return self._messages.get()\n",
        "  @message.setter\n",
        "  def message(self, value):\n",
        "    try:\n",
        "      if value[0] in self.message_types:\n",
        "        self._messages.put(value)\n",
        "    except TypeError:\n",
        "      pass\n",
        "  @property\n",
        "  def robots(self):\n",
        "      return [robot for robot in self._robots if robot.kind in ['Robot', 'Droid', 'Drone']]\n",
        "  def things (self, kind):\n",
        "      return [thing for thing in self._robots if thing.kind == kind]\n",
        "  @property\n",
        "  def robot_register(self):\n",
        "    return self._register\n",
        "  @property\n",
        "  def duration(self):\n",
        "      return self._duration\n",
        "  @duration.setter\n",
        "  def duration(self, value):\n",
        "      self._duration = value\n",
        "  @property\n",
        "  def hour(self):\n",
        "      return self._hour\n",
        "  @property\n",
        "  def count_operational(self):\n",
        "    count = len([value for value in self._register.values() if value['status'] == 'on'])\n",
        "    return count\n",
        "  @property\n",
        "  def stop(self):\n",
        "    return self._hour>self._duration\n",
        "  @property\n",
        "  def operational(self):\n",
        "    return self.count(status = 'on')\n",
        "  @property\n",
        "  def broken (self):\n",
        "    return self.count(status = 'broken')\n",
        "\n",
        "####################\n",
        "##   Object       ##\n",
        "####################\n",
        "\n",
        "  def create(self, kind, coordinates = [0,0,0]):\n",
        "    def object_init(self,dictionary):\n",
        "      for k, v in dictionary.items():\n",
        "        setattr(self, k, v)\n",
        "\n",
        "    try:\n",
        "      if kind in self._registerable:       #<-Check if a registerable object\n",
        "        register = robot_default(kind)\n",
        "        New_Object = type(kind,(),{\"__init__\":object_init})   #lambda self,dictionary: (setattr(self, k, v) for k, v in dictionary.items()) tried to use but Lambda cannot return None which init expects\n",
        "        new_object = New_Object(register)\n",
        "\n",
        "        if new_object.kind_class == 'Deliverable':\n",
        "          if coordinates != [0,0,0]:\n",
        "            raise ValueError(\"Robot controllers cannot decide where to collect a \" + kind)\n",
        "          new_object.target = [randint(0,default_width), randint(0,default_height), 0]\n",
        "\n",
        "        new_object.coordinates[0] = coordinates [0]\n",
        "        new_object.coordinates[1] = coordinates [1]\n",
        "        new_object.start = ecosystem.hour\n",
        "        self.register(new_object)\n",
        "        return new_object\n",
        "      else:\n",
        "        raise TypeError(\"The ecosystem can't create a \" + str(kind))\n",
        "    except Exception as error:\n",
        "      print('>>', 'create error')\n",
        "      self.message = ('error', kind, 'None', 'create', error)\n",
        "\n",
        "####################\n",
        "##   METHODS      ##\n",
        "####################\n",
        "  def help(self):\n",
        "    for a in [a for a in dir(self) if not a.startswith('_') and callable(getattr(self, a))]:\n",
        "      print (a)\n",
        "\n",
        "  def count (self, **kwargs):\n",
        "    count = len(self.registry(**kwargs))\n",
        "    return count\n",
        "\n",
        "  #Filters\n",
        "  def registry(self, **kwargs):\n",
        "    if kwargs == {}:\n",
        "      return self._register\n",
        "    else:\n",
        "      try:\n",
        "        return {key: value for key, value in self._register.items() if (False not in [value[filter_key] == filter_value for filter_key, filter_value in kwargs.items()])}\n",
        "      except Exception as error:\n",
        "        return \"Could not filter register using \"   + str(kwargs) + ' ' + str(error)\n",
        "\n",
        "\n",
        "##   DISPLAY       ##\n",
        "  def display (self):\n",
        "    markers = self._get_markers()\n",
        "\n",
        "    title = self.display_parameters.get('title')\n",
        "    if title is not None:\n",
        "      for word in title.split():\n",
        "        print(word)\n",
        "        if word[0] == \"{\" and word[-1] == \"}\":\n",
        "          attribute = word[1:-1]\n",
        "          self.display_parameters[attribute] = getattr(self, attribute,'#error#')\n",
        "          print (attribute, self.display_parameters[attribute] , getattr(self, attribute,'#error#'))\n",
        "    display(markers, **self.display_parameters)\n",
        "\n",
        "##   MARKERS       ##\n",
        "  def _get_markers(self):\n",
        "    self.markers = [value for value in self._register.values()]\n",
        "    return self.markers\n",
        " \n",
        " ##   REGISTER  ##\n",
        "  def register (self, *args):\n",
        "    for robot in args:\n",
        "      kind = type(robot).__name__\n",
        "      if kind in self._registerable:       #<-Check if a registerable object\n",
        "        if robot in self._robots:          #<-Check if already in the register\n",
        "          self.message = ('warning', kind, robot.name, 'register', 'already registered')\n",
        "        else:\n",
        "          try:                            #\\>Try get default from cache\n",
        "            dictionary = self._cache[kind]\n",
        "          except:                         #/>auto heal the cache\n",
        "            dictionary = robot_default(kind, 'dictionary')\n",
        "            self._cache[kind] = dictionary\n",
        "\n",
        "          #Get a new register copy from the dictionary. Upgrade Caution - index for default values fixed to 1\n",
        "          register = deepcopy({key: value[1] for key, value in dictionary.items()})\n",
        "          #Resolve co-ordinate updating\n",
        "          #if the user has provided coordinates check if these are defaults and if not, set to defaults\n",
        "          coordinates = getattr(robot,'coordinates', register['coordinates'])    #gets your object coordinates attribute value\n",
        "          #if the coordinates are defaults and they should be random then randomize x and y.\n",
        "          if register['coordinates'] == coordinates and self.random_cordinates:  #set random coordinates when self.random_cordinates is True\n",
        "            coordinates[0] = randint(0,default_width)\n",
        "            coordinates[1] = randint(0,default_height)\n",
        "            try:\n",
        "              #update the object with the new random co-ordinates.\n",
        "              #do not detect and error here as that will come in the round later\n",
        "              setattr( robot,'coordinates', coordinates)\n",
        "            except:\n",
        "              pass\n",
        "          #reset xy coordinates in the register to reflect changes and prevent speeding\n",
        "          #however drones cannot start with z>1 so let error handling pick that up\n",
        "          register['coordinates'][0] = coordinates[0]\n",
        "          register['coordinates'][1] = coordinates[1]\n",
        "          if type(robot).__name__ in ['Robot', 'Droid', 'Drone']:\n",
        "            register['activity'] = 'available'\n",
        "            setattr(robot, 'activity', register['activity'])\n",
        "\n",
        "          for key, register_value in register.items():      #for default values but only coordinates are set if conditions met\n",
        "            value = dictionary[key]\n",
        "            #sequence unpack the dictionary value list with indexes  0,2,3\n",
        "            required, rule, function_name = [value[index] for index in [0,2,3]]\n",
        "            try:\n",
        "              new_value = getattr(robot, key)         #exception if not an available instance variable\n",
        "              valid, new_value, proposed_value, message = validation (new_value, register_value, rule, function_name)\n",
        "              if valid == False:\n",
        "                self.message = ('damage', kind, id(robot), 'register', '\\'' + key + '\\' error: ' + message)\n",
        "                register['damage'] += 1\n",
        "                if hasattr (robot,'damage'):\n",
        "                  setattr(robot,'damage', register['damage'])\n",
        "              register[key] = copy(new_value)         #even tho proposed_value may be rejected, new_value is always good so update it!'\n",
        "            except Exception as error:\n",
        "              if required == 'required':              #required instance variable not present\n",
        "                self.message = ('error', kind, id(robot), 'register', 'required variable \\'' + key + '\\' missing. ' + kind + ' not registered')\n",
        "                break\n",
        "              elif required == 'recommended':         #recommened instance variable not present\n",
        "                self.message = ('warning', kind, id(robot), 'register', 'recommended variable \\'' + key + '\\' missing')\n",
        "          else:                                       #rare use of else. Register robot if no break executed\n",
        "            self._robots.append(robot) \n",
        "            self._register[id(robot)] = register\n",
        "            self.message = ('info', kind, id(robot), 'register', kind + ' registered with ' + str(register['damage']) + ' damage points' )\n",
        "      else:\n",
        "        self.message = ('error', kind, id(robot), 'register', 'attempt to register an invalid object type')\n",
        "      #/if kind in self._registerable\n",
        "      ## Added\n",
        "      if type(robot).__name__ is 'Pizza':\n",
        "        pizza = robot\n",
        "        self.deliverable_list.append(pizza)\n",
        "      \n",
        "      if robot.kind_class == 'Station':\n",
        "        station = robot\n",
        "        self.station_list.append(station)\n",
        "    #/for robot in args  \n",
        "\n",
        "  def deregister (self, *args):\n",
        "    for robot in args:\n",
        "      try:\n",
        "        del self.robot_register[id(robot)]\n",
        "        self.robots.remove(robot)\n",
        "        del robot\n",
        "      except:\n",
        "        pass\n",
        "\n",
        "## UPDATE ##\n",
        "  def update(self):\n",
        "    for robot in self.robots:                             #note - robots now contains pizzas, so use the internal property which filters\n",
        "      dictionary = self._cache[robot.kind]                #get the dictionary for validation purposes\n",
        "      register = self._register[id(robot)]                #get the current register\n",
        "      coordinates = copy(register['coordinates'])         #used for later distance calculation\n",
        "      if register['status'] == 'on':                      #if 'on' update new register from robot, ignore if not present\n",
        "        for key, register_value in register.items():\n",
        "          try:\n",
        "            robot_value = getattr(robot, key)         #exception if not an available instance variable\n",
        "            if robot_value != register_value:\n",
        "              value = dictionary[key]\n",
        "              required, rule, function_name = [value[index] for index in [0,2,3]]\n",
        "              valid, validated_value, proposed_value, message = validation (robot_value, register_value, rule, function_name)\n",
        "              #print(\">>>\", valid, validated_value, proposed_value, message )\n",
        "              if valid == False:\n",
        "                self.message = ('damage', robot.kind, id(robot), 'update', '\\'' + key + '\\' error: ' + message)\n",
        "                register['damage'] += 1\n",
        "                if hasattr (robot,'damage'):\n",
        "                  setattr(robot,'damage', register['damage'])\n",
        "              #register[key] = copy(validated_value)         #even tho proposed_value may be rejected, new_value is always good so update it!'                  \n",
        "              #somethings making the coordinates the same so checking this line: with copy\n",
        "              register[key] = validated_value         #even tho proposed_value may be rejected, new_value is always good so update it!'\n",
        "          except Exception as error:\n",
        "            #print (error)\n",
        "            pass\n",
        "\n",
        "      # increment age regardless of anything\n",
        "      register['age'] += 1\n",
        "\n",
        "      if register['status'] == 'on':\n",
        "        register['active'] += 1\n",
        "        cargo_weight = 0\n",
        "        cargo = register['cargo']\n",
        "        if cargo is not None:\n",
        "          if cargo.status == 'awaiting_transport':\n",
        "            if cargo.coordinates != register['coordinates']:  \n",
        "              cargo.status = 'awaiting_collection'\n",
        "          if cargo.status == 'awaiting_collection':\n",
        "            if cargo.coordinates == register['coordinates']:\n",
        "              #robot has arrived at collection point, so load up.\n",
        "              cargo.status = 'in_transit'\n",
        "              cargo.size = 200\n",
        "              cargo.shape = 'square'\n",
        "              cargo.color = 'red'\n",
        "              cargo_weight = cargo.weight\n",
        "          if cargo.status == 'in_transit':\n",
        "            cargo.coordinates = copy(register['coordinates'])\n",
        "            if cargo.coordinates == cargo.target:\n",
        "              #arrived at destination\n",
        "              cargo.status = 'delivered'\n",
        "              cargo.color = 'white'\n",
        "              cargo.shape = 'circle'\n",
        "              cargo.alpha = delivered_fade\n",
        "              cargo.end = ecosystem.hour\n",
        "              register['service'] += cargo.weight\n",
        "          self._register[id(cargo)] = cargo.__dict__\n",
        "        \n",
        "        #Charging station\n",
        "        station = register['station']\n",
        "        if station is not None:  \n",
        "          if station.status == 'vacant':\n",
        "            if station.coordinates == register['coordinates']:\n",
        "              station.status = 'occupied'\n",
        "              station.occupant = robot\n",
        "              station.color = 'cyan'\n",
        "              station.size = 1000\n",
        "          elif station.status == 'occupied':\n",
        "            if station.occupant is robot:\n",
        "              register['soc'] = register['capacity']\n",
        "              station.status = 'vacant'\n",
        "              station.occupant = None\n",
        "              station.color = 'blue'\n",
        "              station.size = 250\n",
        "          self._register[id(station)] = station.__dict__\n",
        "   \n",
        "        #using cache of coped coordinates becasue validation destroys change for calculation of distance      \n",
        "        distance = round(((register['coordinates'][0] - coordinates[0])**2 + (register['coordinates'][1] - coordinates[1])**2)**.5,1)      \n",
        "        register['distance'] += distance\n",
        "        \n",
        "        height = max(robot.coordinates[2] - register['coordinates'][2],0) #not used in energy calcs yet!\n",
        "              \n",
        "        motion_energy = (register['weight'] + cargo_weight) * distance * motion_efficiency\n",
        "        system_energy = register['weight'] * system_efficiency\n",
        "        energy = int(min(system_energy + motion_energy, register['soc']))\n",
        "        register['energy'] += energy\n",
        "        register['soc'] = int(register['soc'] - energy)\n",
        "        #register['soc'] = round(max(register['soc'], 0),2)\n",
        "        \n",
        "        \n",
        "\n",
        "        if onarena(register['coordinates'])[0] == False:\n",
        "          register['damage'] += max_damage\n",
        "          self.message = ('damage', robot.kind, robot.name, 'update', 'damage at ecosystem boundary') \n",
        "        if register['damage'] >= max_damage:\n",
        "          self.message = ('broken', robot.kind, robot.name, 'update', 'max damage score')\n",
        "          register['status'] = 'broken'\n",
        "        if register['soc'] < 1:\n",
        "          if station is not None and station.coordinates == register['coordinates']:\n",
        "            #low charge robot is in queu for charger so do not break\n",
        "            self.message = ('warning', robot.kind, robot.name, 'update', 'out of power in charger queue') \n",
        "          else:\n",
        "            register['status'] = 'broken'\n",
        "            self.message = ('broken', robot.kind, robot.name, 'update', 'out of power') \n",
        "\n",
        "        if register['status'] == 'broken':\n",
        "          register['alpha'] = 0.2\n",
        "          print ('broken', register)\n",
        "        else:\n",
        "          #alpha  determines the transparency of robots. Running out of fuel makes robots fade\n",
        "          register['alpha'] = m_fade * register['soc']/register['capacity'] + c_fade\n",
        "      # End of status != off block \n",
        "\n",
        "      for key, value in register.items():    # updating available Robot attributes\n",
        "        if hasattr(robot,key):\n",
        "          if key == 'coordinates':\n",
        "            setattr(robot,key,copy(value))\n",
        "          #setattr(robot,key,copy(value))\n",
        "          else:\n",
        "            setattr(robot,key,value)\n",
        "\n",
        "    #remove faded delivered to the delivered cache and\n",
        "    delivered = {key:value['alpha'] for key, value in self._register.items() if value['status'] == 'delivered'}\n",
        "    for key, alpha in delivered.items():\n",
        "      if alpha == 0:\n",
        "        self._delivered[key] = ecosystem.robot_register.pop(key)  #transfer\n",
        "      else:\n",
        "        ecosystem.robot_register[key]['alpha'] = max(alpha - delivered_fade_rate, 0)\n",
        "\n",
        "    self._hour += 1  \n",
        "    if self.display_on_update:\n",
        "      self.display()\n",
        "\n",
        "  ## Added Method ##\n",
        "  def pizza_assign(self):\n",
        "      #makes robot life easier :)\n",
        "    def distance_from_pizza(pizza):\n",
        "        closest_robot = None\n",
        "        closest_distance = 10**10 # very high number to be changed by conditional\n",
        "        for r, d in pizza.pizza_to_robot_distance().items():\n",
        "          if d < closest_distance:\n",
        "            closest_robot = r\n",
        "            closest_distance = d\n",
        "        return closest_robot, closest_distance\n",
        "\n",
        "    \n",
        "    if len(self.deliverable_list) != 0:\n",
        "      for i in range(len(self.deliverable_list) - 1,-1,-1):\n",
        "        pizza = self.deliverable_list[i]\n",
        "        robot, distance = distance_from_pizza(pizza)\n",
        "        if robot != None:\n",
        "          robot.activity = 'busy'\n",
        "          self.pizza_assignment[robot] = pizza\n",
        "          self.deliverable_list.pop(i)\n",
        "      return self.pizza_assignment\n",
        "#What I learned:\n",
        "#The rules doesn't work in alternate ecosystems like alternate universe or sth\n",
        "#robots and ecosystems are tightly bound transferring informations to make each other fully functional\n",
        "#therefore I should/have to use ecosystem = Ecosystem"
      ],
      "execution_count": 12,
      "outputs": []
    },
    {
      "cell_type": "markdown",
      "metadata": {
        "id": "zyndJQCqktTF"
      },
      "source": [
        "#**Ecosystem Documentation** \n",
        "\n",
        "\n"
      ]
    },
    {
      "cell_type": "markdown",
      "metadata": {
        "id": "JCCDR871EJWC"
      },
      "source": [
        "##**Policies**\n",
        "---\n",
        "The Ecosystem system sets a standard for design policies which all CRPs must adhere too.\n",
        "\n",
        "* For security **only** use instance variables should be use and class variables should be deprecated, i.e. those defined and assigned in the constructor method.\n",
        "\n",
        "* Robot Classes must be self contained within their own code cells for clarity of purpose and assessment, commented as appropriate. Instantiation and registration testing of classes should be separate\n",
        "\n",
        "* Where appropriate CRPs should augment code cells comments with text cells to document and explain designs for third parties and assessment in the final submission.\n",
        "\n",
        "\n",
        "\n"
      ]
    },
    {
      "cell_type": "markdown",
      "metadata": {
        "id": "C8YFRdBHG4jD"
      },
      "source": [
        "## **Ecosystem Rules**\n",
        "\n",
        "_The current version rules are as follows_\n",
        "\n",
        "___\n",
        "Rules are only enforced when an ecosystem.update() call is made. All attributes are inspected, and values and changes are validated.\n",
        "\n",
        "**Registerable Objects**\n",
        "\n",
        "Only objects with the following (case sensitive) class names can be registered.\n",
        "```\n",
        " Robot\n",
        " Droid\n",
        " Drone\n",
        "```\n",
        "Attempts to register anything fails. Registration failure wastes ecosystem finite resources.\n",
        "\n",
        "**Required Attributes**\n",
        "Objects must have the required attributes as documented in the Robot Class Specifications. Absence of required attributes causes registration failure. Registration failure wastes ecosystem finite resources!\n",
        "\n",
        "**Read Only**\n",
        "\n",
        "You can implement, in your Robots any of the attributes in the Robot attributes tables. A large number are read only. You can only set the value to the default value prior to registering a new robot with the ecosystem. Attempts to change a read-only values cause damage. Robots accrue 1 damage point per change attempt.\n",
        "\n",
        "**Speed**\n",
        "\n",
        "Robots must not move more than the following increments between updates in the $x$, $y$ and $z$  directions. You can regard this as a nominal maximum speed, though of course moving diagonally is permitted and this increases the speed by factor of  $\\sqrt{2}$ (if $\\Delta x=1$ and $\\Delta y = 1$). This is permitted. The main point is to adhere to permitted $x$, $y$ or $z$ increments.\n",
        "\n",
        "|       | 𝜟x | 𝜟y | 𝜟z |\n",
        "|:-----:|:--:|:--:|:--:|\n",
        "| Robot | 1  |  1 |  0 |\n",
        "| Droid | 2  |  2 |  0 |\n",
        "| Drone | 3  |  3 |  1 |\n",
        "\n",
        "Robots and Droids (non-[volitants](https://en.wiktionary.org/wiki/volitant)) can never move in the $z$ axis. They cannot fly. Furthermore, for Drones, (volitants) the following implicit rule applies:\n",
        "\n",
        "| 𝜟x | 𝜟y | 𝜟z | $\\Rightarrow$ z |\n",
        "|:-:|:-:|:-:|:--:|\n",
        "| 0 | 0 | 1 |  0 |\n",
        "| 3 | 3 | 1 | >0 |\n",
        "\n",
        "In other words Drones can only move in the air. If they are on the ground they cannot move, unless $\\Delta z>0$  (upwards). Note that if they are taking off, or landing, such that either the start point or end point (but not both), is $z=0$ then they can move laterally too. I.e. vertical take offs are not mandated by this rule.\n",
        "\n",
        "If a robot speeds the move is cancelled. Speeding causes damage of **1 damage point** per attempted speeding incident (i.e. regardless of the number of vectors involved).\n",
        "\n",
        "**Respecting Ecosystem Boundaries**\n",
        "\n",
        "* Ecosystem boundaries in all dimensions must be respected. The limits are documented in the section **Ecosystem>Globals**:\n",
        ">\n",
        ">#Ecosystem Boundaries\n",
        ">\n",
        ">default_width = 80\n",
        ">\n",
        ">default_height = 40\n",
        ">\n",
        ">default_altitude = 5\n",
        "\n",
        "* The lower limits are all 0. \n",
        "\n",
        "    **Note** do not _hardwire_ boundaries when programming to respect this rule - you should always use variable names in case boundaries change in a future ecosystem release. \n",
        "A robot can _sit_ on the boundary. A Robot coordinate must not go negetive, or greater than the boundary limit. Failure to respect boundaries causes immediate malfunction of a robot. Its status is immediately set to ```broken```.\n",
        "\n",
        "An attempt to move beyond the system boundaries results in severe damage amounting to **the maximum permitted damage points**. Therefore it will break down!\n",
        "\n",
        "**Robot Status**\n",
        "A robot has one of three statuses#\n",
        "\n",
        "> on\n",
        "> \n",
        "> off\n",
        ">\n",
        "> broken\n",
        "\n",
        "The default status for a new Robot is ```on```. A robot's status is set to broken if:\n",
        "\n",
        "* It runs out of charge (```soc = 0```)\n",
        "* It gets the maximum permitted damage points\n",
        "* The robot goes beyond the ecosystem boundary."
      ]
    },
    {
      "cell_type": "markdown",
      "metadata": {
        "id": "G09Y6X_UpArW"
      },
      "source": [
        "##**Ecosystem Interface**\n",
        "---\n",
        "\n",
        "The **ecosysystem class** provides an interface with a constructor method, a number of public **methods** and **properties** which are important for the CRP.\n",
        "\n",
        "**Constructor** \n",
        "\n",
        "There are no arguments required nor accepted by the constructor\n",
        "\n",
        "> ecosystem = Ecosystem()\n",
        "\n",
        "**Public properies**\n",
        "\n",
        "> robots - returns a ```list``` of all registered robot objects (read only)\n",
        ">\n",
        "> registry - returns a dictionary which is full register of all registered robots. It is a dictionary of individual robot register as the value, and the robot object id() value as the key. A robot register contains a copy a Robot's attributes and is a valid data point for the chart. The method can accept key word arguments consisting of a robot attributes and an expected values in order to filter the registry. Thus \n",
        "``` ecosystem.registry(kind = \"Drone\")```\n",
        "will filter the registry for Drone objects only.\n",
        ">\n",
        "> duration - returns an integer which is the duration of the ecosystem in hours (default 24) (read/write). Use by the ```stop``` property.\n",
        ">\n",
        "> hour - returns an integer for the current hour of operation. Used by the stop property and also for calculating the age of robots (read only)\n",
        ">\n",
        "> stop - return a boolean true value if ```hour >= duration``` (read only)\n",
        ">\n",
        "> count_operational - returns an integer which is the count of robots with ```status = 'on'``` (read only)\n",
        ">\n",
        "> messages  - returns a formatted list of all the fifo message stack (read only)\n",
        ">\n",
        "> message - returns a tuple message in the fifo message stack, or false if none is available. (read/write)\n",
        ">\n",
        "> has_message - returns true if there are unread messages in the message stack\n",
        ">\n",
        "> display_on_update - boolean to determine of the robot arena is auto-refreshed on update\n",
        ">\n",
        "\n",
        "**Methods**\n",
        ">\n",
        "> display(**kwargs) - displays the robot arena and render the robot objects\n",
        ">   \n",
        ">   > arguments: kwargs - see chart\n",
        ">\n",
        "> register(robot) - registers a robot to participate in ecosystem activities\n",
        ">\n",
        ">   > robot: a valid robot object class/subclass\n",
        ">\n",
        "> update(**kwargs) - updates the robot register with new values for all attributes, validates permitted changes and makes necessary updates to system variables. If display_on_update is true the robot arena is updated.\n",
        ">\n",
        ">   arguments: kwargs are passed to the display method- see chart\n",
        ">"
      ]
    },
    {
      "cell_type": "markdown",
      "metadata": {
        "id": "F-WXR8SHcu2q"
      },
      "source": [
        "##**Display**\n",
        "---\n",
        "The display is updated everytime the ecosystem is updated if the ecosystem attribute ```display_on_update = True```. This can be set to False to perform rapid simulations.\n",
        "\n",
        "You can also call display directly for test purposes which bypasses Ecosystem updating, so you can visualise the results of robot programming without ecosystem constraints!\n",
        "\n",
        "Calling display\n",
        "\n",
        ">\n",
        "> display (markers, **kwargs)\n",
        ">\n",
        "> arguments:\n",
        ">\n",
        "> markers: a list of ecosystem robot registers.\n",
        ">\n",
        "> kwargs: (keyword arguments)\n",
        "> >\n",
        "> > width  - integer,  width of chart in cm default = 30\n",
        "> > \n",
        "> > height - integer, height of chart in cm default = 15\n",
        "> >\n",
        "> >pause - integer, delay time in ms after displaying chart default = 250\n",
        "> >\n",
        "> >title - string, text displayed on chart default = 'Ecosystem Display'\n",
        "> >\n",
        "> >clear - boolean, clears code cell output area prior to display (default = True)\n",
        "> >\n",
        "> >hour - ecosystem time in hours (default = 12)\n",
        "> >\n",
        "> >annotations - list of attributes to display in a point annotation (default = none).\n"
      ]
    },
    {
      "cell_type": "markdown",
      "metadata": {
        "id": "2oIc3DMFphTF"
      },
      "source": [
        "# **Robot Documentation**"
      ]
    },
    {
      "cell_type": "markdown",
      "metadata": {
        "id": "SdzZYJChRwLi"
      },
      "source": [
        "## **Robot Class Specifications**\n",
        "---\n",
        "This section defines the _**interface**_ for your Robots. For our purpose this means instance variables and methods.\n",
        ">>\n",
        "_for security purposes CRPs must **only** use instance variables, i.e. those defined and assigned in the constructor method (see ecosystem policies)._\n",
        "\n",
        "\n",
        "* **Inheritance** - Robot is the parent class from which all other robot kinds inherit. Each class can have it's own constructors and methods and/or you can use [inheritance and override methods](https://www.w3schools.com/python/python_inheritance.asp) as documented in **JNBV08**  \n",
        "\n",
        "* **Attributes** are documented for each class in the attribute tables below. Attribute must be assigned in the constructor class. You will note the table lists **required**, **recommended** and **optional** attributes. These differ as follows:\n",
        "\n",
        "  * Required - each Robot class ***must*** have the **required** attributes. If these _instance variables_ do not exist in the class the ecosystem will fail to register the robot objects.\n",
        "  * Recommended - this variables are recommended because having their values to hand in your objects might help make appropriate decisions when operating in the ecosystem.\n",
        "  * Optional - these may be useful and/or become recommended or required in later stages.\n",
        " \n",
        "  * When assigning assigning the variables in the constructor class you must respect the data validation rules prior to registering the robot with the ecosystem. See Ecosystem Rules for more information. Specifically:\n",
        "    * Read only attributes must be assigned the given default.\n",
        "    * Other attributes - these have set validation rules which must be adhered to.\n",
        "    * To get started, using the default values for **all** Robot attributes is recommended.\n",
        "\n",
        "* **Methods**  Methods must be designed so that a robot can achieve desired objectives. These are discussed below under Robot Methods.\n"
      ]
    },
    {
      "cell_type": "markdown",
      "metadata": {
        "id": "LGzKdcTShnit"
      },
      "source": [
        "##**Attribute Tables**\n",
        "---\n",
        "\n",
        "All Robot kinds should be furnished with instance variables (which here we also call attributes) in the constructor method for the class, using the self._atttribute_name_ to assign the variable to the default value. \n",
        "\n",
        "Drones and Droids have the same variable requirements as Robots, but some of their defaults, (and validations) are different as given in the tables below.\n",
        "\n",
        "Variables given a 'Read Only' designation must, if used, be assigned the listed default value.\n",
        "\n",
        "_**Note** the validation for co-ordinates and velocity are identical to the maximum vector velocities. This means the change in co-ordinates, and velocity must respect the maximum velocity values. Co-ordinates are further validated by the requirement that they must within or on the system boundary. See ecosystem rules for more information._\n",
        "\n",
        "**Robot Class Attributes** \n",
        "\n",
        "|required    |name       |default   |validation  |datatype    |description                             |\n",
        "|------------|-----------|----------|------------|------------|----------------------------------------|\n",
        "|required    |kind       |Robot     |Read Only   |string      |robot class type                        |\n",
        "|required    |coordinates|[0, 0, 0] |[1, 1, 0]   |list        |x, y, z location of a robot             |\n",
        "|required    |max        |[1, 1, 0] |Read Only   |list        |maximum x, y, z velocity                |\n",
        "|required    |velocity   |[0, 0, 0] |[1, 1, 0]   |list        |current  x, y, z velocity               |\n",
        "|required    |status     |on        |Read Only   |string      |Set to on, off or broken                |\n",
        "|required    |activity   |idle      |activities  |string      |determines activity of robot            |\n",
        "|required    |name       |id        |[2, 20]     |string      |named of robot                          |\n",
        "|recommended |target     |None      |none        |list        |x, y, z of a target destination         |\n",
        "|recommended |age        |0         |Read Only   |integer     |age of robot in hours                   |\n",
        "|recommended |active     |0         |Read Only   |integer     |active hours of robot                   |\n",
        "|recommended |serviced   |0         |Read Only   |integer     |age of robot at last service            |\n",
        "|recommended |soc        |600       |Read Only   |integer     |state of charge of battery              |\n",
        "|recommended |capacity   |600       |Read Only   |integer     |energy capacity of robot battery        |\n",
        "|recommended |service    |0         |Read Only   |integer     |service points accrued by robot         |\n",
        "|recommended |damage     |0         |Read Only   |integer     |damage points accrued by robot          |\n",
        "|optional    |on_arena   |0         |Read Only   |boolean     |True if robot is on the arena           |\n",
        "|optional    |shape      |square    |shapes      |string      |arena display shape                     |\n",
        "|optional    |color      |blue      |colors      |string      |arena display colour                    |\n",
        "|optional    |size       |250       |[250, 1000] |integer     |arena display size                      |\n",
        "|optional    |alpha      |1         |Read Only   |float       |arena display transparency              |\n",
        "|optional    |weight     |50        |Read Only   |integer     |weight of robot                         |\n",
        "|optional    |payload    |100       |Read Only   |integer     |maximum load of robot                   |\n",
        "|optional    |cargo      |None      |object      |object      |object robot is transporting            |\n",
        "|optional    |station    |None      |object      |object      |station robot is heading for            |\n",
        "|optional    |distance   |0         |Read Only   |float       |distance travelled by robot             |\n",
        "|optional    |energy     |0         |Read Only   |float       |energy consumed by robot                |\n",
        "|optional    |kind_class |Robot     |Read Only   |string      |class of kind                           |\n",
        "\n",
        " **Droid Class Attributes** \n",
        "\n",
        "|required    |name       |default   |validation  |datatype    |description                             |\n",
        "|------------|-----------|----------|------------|------------|----------------------------------------|\n",
        "|required    |kind       |Droid     |Read Only   |string      |robot class type                        |\n",
        "|required    |coordinates|[0, 0, 0] |[2, 2, 0]   |list        |x, y, z location of a robot             |\n",
        "|required    |max        |[2, 2, 0] |Read Only   |list        |maximum x, y, z velocity                |\n",
        "|required    |velocity   |[0, 0, 0] |[2, 2, 0]   |list        |current  x, y, z velocity               |\n",
        "|recommended |soc        |2000      |Read Only   |integer     |state of charge of battery              |\n",
        "|recommended |capacity   |2000      |Read Only   |integer     |energy capacity of robot battery        |\n",
        "|optional    |shape      |circle    |shapes      |string      |arena display shape                     |\n",
        "|optional    |color      |red       |colors      |string      |arena display colour                    |\n",
        "|optional    |size       |300       |[250, 1000] |integer     |arena display size                      |\n",
        "|optional    |weight     |100       |Read Only   |integer     |weight of robot                         |\n",
        "|optional    |payload    |200       |Read Only   |integer     |maximum load of robot                   |\n",
        "\n",
        " **Drone Class Attributes** \n",
        "\n",
        "|required    |name       |default   |validation  |datatype    |description                             |\n",
        "|------------|-----------|----------|------------|------------|----------------------------------------|\n",
        "|required    |kind       |Drone     |Read Only   |string      |robot class type                        |\n",
        "|required    |coordinates|[0, 0, 0] |[3, 3, 1]   |list        |x, y, z location of a robot             |\n",
        "|required    |max        |[3, 3, 1] |Read Only   |list        |maximum x, y, z velocity                |\n",
        "|required    |velocity   |[0, 0, 0] |[3, 3, 1]   |list        |current  x, y, z velocity               |\n",
        "|recommended |soc        |500       |Read Only   |integer     |state of charge of battery              |\n",
        "|recommended |capacity   |500       |Read Only   |integer     |energy capacity of robot battery        |\n",
        "|optional    |shape      |triangle  |shapes      |string      |arena display shape                     |\n",
        "|optional    |color      |green     |colors      |string      |arena display colour                    |\n",
        "|optional    |size       |500       |[250, 1000] |integer     |arena display size                      |\n",
        "|optional    |weight     |25        |Read Only   |integer     |weight of robot                         |\n",
        "|optional    |payload    |50        |Read Only   |integer     |maximum load of robot                   |"
      ]
    },
    {
      "cell_type": "markdown",
      "metadata": {
        "id": "5NZak65WtIjX"
      },
      "source": [
        "##**Robot Methods**\n",
        "---\n",
        "You need to define methods and supporting attributes to help control and manage robots within your own operational strategy for the ecosystem. \n",
        "\n",
        "A recommended design strategy is documented below, but alternative designs are welcome.\n",
        "\n",
        "**Moving**\n",
        "\n",
        "The key ability of a robot is to move, whilst obeying ecosystem rules is essential. Moving means changing the coordinates ```[x, y, z]```. Robots can in theory be made to move my setting their coordinates from outside.\n",
        "\n",
        "    rob = Robot('robbo')\n",
        "    rob.coordinates = [21,13,0]\n",
        "    ecosystem.update\n",
        "\n",
        "As long as the move did not transgress the ecosystem rules for movement, your robot should be ok. However, if we are to follow the priniples of object oriented design, we should **encapsulate** the move behavour in methods for the base class, Robot.\n",
        "\n",
        "Two attributes of the classes exist which can be used to design an efficient move method to update coordinates.\n",
        "\n",
        "    self.max\n",
        "    self.velocity\n",
        "    self.coordinates\n",
        "\n",
        "It is recommended you design a move method, which changes the ```coordinates``` of a robot. The method should respect the configuration of ```velocity``` (3 vectors, positive or negetive), the maximum **absolute** values of the permitted velocity given by ```max```. Any changes to coordinates, and the system boundary.\n",
        "\n",
        "**Targetting**\n",
        "You robot has to learn to respond to an instruction to go to  specific location. this is a necessary skill when it is in a fully operating ecosystem. \n",
        "\n",
        "It is recommended therefore you furnish robots with the ```target``` attribute (default ```None```) which represents a set of $x, y, z$ coordinates for a target designation (it is uncertain whether sky targets will exist in the future).\n",
        "\n",
        "Your ```velocity``` attribute can be adjusted before each update i.e. in the update loop, to respond to a robots current ```coordinates``` and the ```target``` coordinates, whilst of course respecting the ```max``` value . This will require some careful thinking."
      ]
    },
    {
      "cell_type": "markdown",
      "metadata": {
        "id": "bzB2BieksENj"
      },
      "source": [
        "#**Courseworks Stages**"
      ]
    },
    {
      "cell_type": "markdown",
      "metadata": {
        "id": "D1612AluRRwX"
      },
      "source": [
        "# **Stage 1 - Robot Classes**\n",
        "---\n",
        "**Tasks**\n",
        "\n",
        "* Train yourself on the Ecosystem - see Stage 1 slide deck and the Ecosystem Documentation above.\n",
        "\n",
        "* Begin the design your robot classes here. You will develop your classes further to improve their functionality as you move through the stages.\n",
        "  There are three classes you need initially. \n",
        "  * Robot - _base_ or parent class\n",
        "  * Droid - inherits from Robot\n",
        "  * Drone - inherits from Robot\n",
        "\n",
        "  Interface requirements and recommendations for attributes (instance variables and methods) are documented above. See the stage 1 slide deck on Learn\n",
        "\n",
        "  * Tests - There are three code cells below for running test.\n",
        "\n",
        "  * Use \n",
        "\n",
        "**Robot Classes CRP Notes**\n",
        "\n",
        "**CRPs should augment code cells with text cells to document designs for third parties and assessment in your final submission. It's good practice to developing working text cells for this purpose from day 1"
      ]
    },
    {
      "cell_type": "markdown",
      "metadata": {
        "id": "MGlkX5k1M0vN"
      },
      "source": [
        "#**Robot Classes**\n",
        "Create you robot classes in the code cells below. Remember you will come back to these classes later to add methods and modify object behaviours. Read the suggested reading on inheritance.\n",
        "\n",
        "Don't _pollute_ you class code cells with testing code. Use test code cells beelow. Of course you can test as you go. But tidy it up, comment your code. Before your submission you can add text cells to discuss your approach to creating classes, particularly if you have applied advanced methods of inheritance using super() functions, and using decorators on your properties. Note however simple methods and properties are quite acceptable."
      ]
    },
    {
      "cell_type": "markdown",
      "source": [
        "### Registerables template:"
      ],
      "metadata": {
        "id": "gHDuIQ4Lrc-w"
      }
    },
    {
      "cell_type": "code",
      "source": [
        "# Change to see testings\n",
        "testing = True"
      ],
      "metadata": {
        "id": "_vMOhuji8mL0"
      },
      "execution_count": 13,
      "outputs": []
    },
    {
      "cell_type": "code",
      "source": [
        "if testing:\n",
        "  for kind in kinds.keys():\n",
        "    for types in ['dictionary', 'default']:\n",
        "      print(robot_default(kind, types))\n",
        "\n",
        "number_of_magic_methods = 27\n",
        "short_cut = []\n",
        "\n",
        "for k in kinds.keys():\n",
        "  short_cut.append(robot_default(k, 'default'))\n",
        "if testing:\n",
        "  print(short_cut)"
      ],
      "metadata": {
        "colab": {
          "base_uri": "https://localhost:8080/"
        },
        "id": "Ef20vBCntPkv",
        "outputId": "2fe3c66a-3fd1-4f76-9d1d-aa5cd0b16863"
      },
      "execution_count": 14,
      "outputs": [
        {
          "output_type": "stream",
          "name": "stdout",
          "text": [
            "{'kind': ['required', 'Robot', 0, 'nochange', 'string', 'robot class type'], 'coordinates': ['required', [0, 0, 0], [1, 1, 0], 'validxyz', 'list', 'x, y, z location of a robot'], 'max': ['required', [1, 1, 0], 0, 'nochange', 'list', 'maximum x, y, z velocity'], 'velocity': ['required', [0, 0, 0], [1, 1, 0], 'listmax', 'list', 'current  x, y, z velocity'], 'status': ['required', 'on', 0, 'nochange', 'string', 'Set to on, off or broken'], 'activity': ['required', 'idle', ['idle', 'available', 'charging', 'busy', 'delivering', 'is_cargo', 'under_repair', 'repairing'], 'inlist', 'string', 'determines activity of robot'], 'name': ['required', 'id', [2, 20], 'length', 'string', 'named of robot'], 'target': ['recommended', None, 'none', 'none', 'list', 'x, y, z of a target destination'], 'age': ['recommended', 0, 0, 'nochange', 'integer', 'age of robot in hours'], 'active': ['recommended', 0, 0, 'nochange', 'integer', 'active hours of robot'], 'serviced': ['recommended', 0, 0, 'nochange', 'integer', 'age of robot at last service'], 'soc': ['recommended', 600, 0, 'nochange', 'integer', 'state of charge of battery'], 'capacity': ['recommended', 600, 0, 'nochange', 'integer', 'energy capacity of robot battery'], 'service': ['recommended', 0, 0, 'nochange', 'integer', 'service points accrued by robot'], 'damage': ['recommended', 0, 0, 'nochange', 'integer', 'damage points accrued by robot'], 'on_arena': ['optional', 0, 0, 'nochange', 'boolean', 'True if robot is on the arena'], 'shape': ['optional', 'square', ['square', 'circle', 'triangle', 'plus', 'star', 'diamond', 'x', 'hexagon'], 'inlist', 'string', 'arena display shape'], 'color': ['optional', 'blue', ['blue', 'green', 'red', 'cyan', 'magenta', 'yellow', 'black', 'white'], 'inlist', 'string', 'arena display colour'], 'size': ['optional', 250, [250, 1000], 'inrange', 'integer', 'arena display size'], 'alpha': ['optional', 1, 0, 'nochange', 'float', 'arena display transparency'], 'weight': ['optional', 50, 0, 'nochange', 'integer', 'weight of robot'], 'payload': ['optional', 100, 0, 'nochange', 'integer', 'maximum load of robot'], 'cargo': ['optional', None, 'object', 'none', 'object', 'object robot is transporting'], 'station': ['optional', None, 'object', 'none', 'object', 'station robot is heading for'], 'distance': ['optional', 0, 0, 'nochange', 'float', 'distance travelled by robot'], 'energy': ['optional', 0, 0, 'nochange', 'float', 'energy consumed by robot'], 'kind_class': ['optional', 'Robot', 0, 'nochange', 'string', 'class of kind']}\n",
            "{'kind': 'Robot', 'coordinates': [0, 0, 0], 'max': [1, 1, 0], 'velocity': [0, 0, 0], 'status': 'on', 'activity': 'idle', 'name': 'id', 'target': None, 'age': 0, 'active': 0, 'serviced': 0, 'soc': 600, 'capacity': 600, 'service': 0, 'damage': 0, 'on_arena': 0, 'shape': 'square', 'color': 'blue', 'size': 250, 'alpha': 1, 'weight': 50, 'payload': 100, 'cargo': None, 'station': None, 'distance': 0, 'energy': 0, 'kind_class': 'Robot'}\n",
            "{'kind': ['required', 'Droid', 0, 'nochange', 'string', 'robot class type'], 'coordinates': ['required', [0, 0, 0], [2, 2, 0], 'validxyz', 'list', 'x, y, z location of a robot'], 'max': ['required', [2, 2, 0], 0, 'nochange', 'list', 'maximum x, y, z velocity'], 'velocity': ['required', [0, 0, 0], [2, 2, 0], 'listmax', 'list', 'current  x, y, z velocity'], 'status': ['required', 'on', 0, 'nochange', 'string', 'Set to on, off or broken'], 'activity': ['required', 'idle', ['idle', 'available', 'charging', 'busy', 'delivering', 'is_cargo', 'under_repair', 'repairing'], 'inlist', 'string', 'determines activity of robot'], 'name': ['required', 'id', [2, 20], 'length', 'string', 'named of robot'], 'target': ['recommended', None, 'none', 'none', 'list', 'x, y, z of a target destination'], 'age': ['recommended', 0, 0, 'nochange', 'integer', 'age of robot in hours'], 'active': ['recommended', 0, 0, 'nochange', 'integer', 'active hours of robot'], 'serviced': ['recommended', 0, 0, 'nochange', 'integer', 'age of robot at last service'], 'soc': ['recommended', 2000, 0, 'nochange', 'integer', 'state of charge of battery'], 'capacity': ['recommended', 2000, 0, 'nochange', 'integer', 'energy capacity of robot battery'], 'service': ['recommended', 0, 0, 'nochange', 'integer', 'service points accrued by robot'], 'damage': ['recommended', 0, 0, 'nochange', 'integer', 'damage points accrued by robot'], 'on_arena': ['optional', 0, 0, 'nochange', 'boolean', 'True if robot is on the arena'], 'shape': ['optional', 'circle', ['square', 'circle', 'triangle', 'plus', 'star', 'diamond', 'x', 'hexagon'], 'inlist', 'string', 'arena display shape'], 'color': ['optional', 'red', ['blue', 'green', 'red', 'cyan', 'magenta', 'yellow', 'black', 'white'], 'inlist', 'string', 'arena display colour'], 'size': ['optional', 300, [250, 1000], 'inrange', 'integer', 'arena display size'], 'alpha': ['optional', 1, 0, 'nochange', 'float', 'arena display transparency'], 'weight': ['optional', 100, 0, 'nochange', 'integer', 'weight of robot'], 'payload': ['optional', 200, 0, 'nochange', 'integer', 'maximum load of robot'], 'cargo': ['optional', None, 'object', 'none', 'object', 'object robot is transporting'], 'station': ['optional', None, 'object', 'none', 'object', 'station robot is heading for'], 'distance': ['optional', 0, 0, 'nochange', 'float', 'distance travelled by robot'], 'energy': ['optional', 0, 0, 'nochange', 'float', 'energy consumed by robot'], 'kind_class': ['optional', 'Robot', 0, 'nochange', 'string', 'class of kind']}\n",
            "{'kind': 'Droid', 'coordinates': [0, 0, 0], 'max': [2, 2, 0], 'velocity': [0, 0, 0], 'status': 'on', 'activity': 'idle', 'name': 'id', 'target': None, 'age': 0, 'active': 0, 'serviced': 0, 'soc': 2000, 'capacity': 2000, 'service': 0, 'damage': 0, 'on_arena': 0, 'shape': 'circle', 'color': 'red', 'size': 300, 'alpha': 1, 'weight': 100, 'payload': 200, 'cargo': None, 'station': None, 'distance': 0, 'energy': 0, 'kind_class': 'Robot'}\n",
            "{'kind': ['required', 'Drone', 0, 'nochange', 'string', 'robot class type'], 'coordinates': ['required', [0, 0, 0], [3, 3, 1], 'validxyz', 'list', 'x, y, z location of a robot'], 'max': ['required', [3, 3, 1], 0, 'nochange', 'list', 'maximum x, y, z velocity'], 'velocity': ['required', [0, 0, 0], [3, 3, 1], 'listmax', 'list', 'current  x, y, z velocity'], 'status': ['required', 'on', 0, 'nochange', 'string', 'Set to on, off or broken'], 'activity': ['required', 'idle', ['idle', 'available', 'charging', 'busy', 'delivering', 'is_cargo', 'under_repair', 'repairing'], 'inlist', 'string', 'determines activity of robot'], 'name': ['required', 'id', [2, 20], 'length', 'string', 'named of robot'], 'target': ['recommended', None, 'none', 'none', 'list', 'x, y, z of a target destination'], 'age': ['recommended', 0, 0, 'nochange', 'integer', 'age of robot in hours'], 'active': ['recommended', 0, 0, 'nochange', 'integer', 'active hours of robot'], 'serviced': ['recommended', 0, 0, 'nochange', 'integer', 'age of robot at last service'], 'soc': ['recommended', 500, 0, 'nochange', 'integer', 'state of charge of battery'], 'capacity': ['recommended', 500, 0, 'nochange', 'integer', 'energy capacity of robot battery'], 'service': ['recommended', 0, 0, 'nochange', 'integer', 'service points accrued by robot'], 'damage': ['recommended', 0, 0, 'nochange', 'integer', 'damage points accrued by robot'], 'on_arena': ['optional', 0, 0, 'nochange', 'boolean', 'True if robot is on the arena'], 'shape': ['optional', 'triangle', ['square', 'circle', 'triangle', 'plus', 'star', 'diamond', 'x', 'hexagon'], 'inlist', 'string', 'arena display shape'], 'color': ['optional', 'green', ['blue', 'green', 'red', 'cyan', 'magenta', 'yellow', 'black', 'white'], 'inlist', 'string', 'arena display colour'], 'size': ['optional', 500, [250, 1000], 'inrange', 'integer', 'arena display size'], 'alpha': ['optional', 1, 0, 'nochange', 'float', 'arena display transparency'], 'weight': ['optional', 25, 0, 'nochange', 'integer', 'weight of robot'], 'payload': ['optional', 50, 0, 'nochange', 'integer', 'maximum load of robot'], 'cargo': ['optional', None, 'object', 'none', 'object', 'object robot is transporting'], 'station': ['optional', None, 'object', 'none', 'object', 'station robot is heading for'], 'distance': ['optional', 0, 0, 'nochange', 'float', 'distance travelled by robot'], 'energy': ['optional', 0, 0, 'nochange', 'float', 'energy consumed by robot'], 'kind_class': ['optional', 'Robot', 0, 'nochange', 'string', 'class of kind']}\n",
            "{'kind': 'Drone', 'coordinates': [0, 0, 0], 'max': [3, 3, 1], 'velocity': [0, 0, 0], 'status': 'on', 'activity': 'idle', 'name': 'id', 'target': None, 'age': 0, 'active': 0, 'serviced': 0, 'soc': 500, 'capacity': 500, 'service': 0, 'damage': 0, 'on_arena': 0, 'shape': 'triangle', 'color': 'green', 'size': 500, 'alpha': 1, 'weight': 25, 'payload': 50, 'cargo': None, 'station': None, 'distance': 0, 'energy': 0, 'kind_class': 'Robot'}\n",
            "{'kind': ['required', 'Pizza', 0, 'nochange', 'string', 'robot class type'], 'coordinates': ['required', [0, 0, 0], [0, 0, 0], 'validxyz', 'list', 'x, y, z location of a robot'], 'max': ['required', [0, 0, 0], 0, 'nochange', 'list', 'maximum x, y, z velocity'], 'velocity': ['required', [0, 0, 0], [0, 0, 0], 'listmax', 'list', 'current  x, y, z velocity'], 'status': ['required', 'awaiting_transport', ['awaiting_transport', 'awaiting_collection', 'in_transit', 'delivered'], 'inlist', 'string', 'Set to on, off or broken'], 'activity': ['required', 'idle', ['idle', 'available', 'charging', 'busy', 'delivering', 'is_cargo', 'under_repair', 'repairing'], 'inlist', 'string', 'determines activity of deliverable'], 'size': ['optional', 300, [250, 1000], 'inrange', 'integer', 'arena display size'], 'alpha': ['optional', 1, 0, 'nochange', 'float', 'arena display transparency'], 'weight': ['optional', 50, [25, 1000], 'nochange', 'integer', 'weight of deliverable'], 'damage': ['recommended', 0, 0, 'nochange', 'integer', 'damage points accrued by deliverable'], 'name': ['required', 'pizza', [2, 20], 'length', 'string', 'named of deliverable'], 'target': ['recommended', None, 'none', 'none', 'list', 'x, y, z of delivery destination'], 'shape': ['optional', 'circle', ['square', 'circle', 'triangle', 'plus', 'star', 'diamond', 'x', 'hexagon'], 'inlist', 'string', 'arena display shape'], 'color': ['optional', 'white', ['blue', 'green', 'red', 'cyan', 'magenta', 'yellow', 'black', 'white'], 'inlist', 'string', 'arena display colour'], 'transport': ['optional', None, 'object', 'nochange', 'object', 'object robot is transporting'], 'start': ['optional', 0, 0, 'none', 'float', 'start time stamp'], 'end': ['optional', 0, 0, 'none', 'float', 'end time stamp'], 'kind_class': ['optional', 'Deliverable', 0, 'nochange', 'string', 'class of kind']}\n",
            "{'kind': 'Pizza', 'coordinates': [0, 0, 0], 'max': [0, 0, 0], 'velocity': [0, 0, 0], 'status': 'awaiting_transport', 'activity': 'idle', 'size': 300, 'alpha': 1, 'weight': 50, 'damage': 0, 'name': 'pizza', 'target': None, 'shape': 'circle', 'color': 'white', 'transport': None, 'start': 0, 'end': 0, 'kind_class': 'Deliverable'}\n",
            "{'kind': ['required', 'Grid_Charger', 0, 'nochange', 'string', 'robot class type'], 'coordinates': ['required', [0, 0, 0], [0, 0, 0], 'validxyz', 'list', 'x, y, z location of a robot'], 'max': ['required', [0, 0, 0], 0, 'nochange', 'list', 'maximum x, y, z velocity'], 'velocity': ['required', [0, 0, 0], [0, 0, 0], 'listmax', 'list', 'current  x, y, z velocity'], 'status': ['required', 'vacant', ['occupied', 'vacant'], 'inlist', 'string', 'Set to on, off or broken'], 'activity': ['required', 'idle', ['idle', 'available', 'charging', 'busy', 'delivering', 'is_cargo', 'under_repair', 'repairing'], 'inlist', 'string', 'determines activity of station'], 'size': ['optional', 300, [250, 1000], 'inrange', 'integer', 'arena display size'], 'alpha': ['optional', 1, 0, 'nochange', 'float', 'arena display transparency'], 'damage': ['recommended', 0, 0, 'nochange', 'integer', 'damage points accrued by station'], 'occupant': ['recommended', 0, 0, 'nochange', 'integer', 'damage points accrued by station'], 'name': ['required', 'gazza', [2, 20], 'length', 'string', 'named of robot'], 'shape': ['optional', 'diamond', ['square', 'circle', 'triangle', 'plus', 'star', 'diamond', 'x', 'hexagon'], 'inlist', 'string', 'arena display shape'], 'color': ['optional', 'blue', ['blue', 'green', 'red', 'cyan', 'magenta', 'yellow', 'black', 'white'], 'inlist', 'string', 'arena display colour'], 'kind_class': ['optional', 'Station', 0, 'nochange', 'string', 'class of kind']}\n",
            "{'kind': 'Grid_Charger', 'coordinates': [0, 0, 0], 'max': [0, 0, 0], 'velocity': [0, 0, 0], 'status': 'vacant', 'activity': 'idle', 'size': 300, 'alpha': 1, 'damage': 0, 'occupant': 0, 'name': 'gazza', 'shape': 'diamond', 'color': 'blue', 'kind_class': 'Station'}\n",
            "{'kind': ['required', 'Solar_Charger', 0, 'nochange', 'string', 'robot class type'], 'coordinates': ['required', [0, 0, 0], [0, 0, 0], 'validxyz', 'list', 'x, y, z location of a robot'], 'max': ['required', [0, 0, 0], 0, 'nochange', 'list', 'maximum x, y, z velocity'], 'velocity': ['required', [0, 0, 0], [0, 0, 0], 'listmax', 'list', 'current  x, y, z velocity'], 'status': ['required', 'vacant', ['occupied', 'vacant'], 'inlist', 'string', 'Set to on, off or broken'], 'activity': ['required', 'idle', ['idle', 'available', 'charging', 'busy', 'delivering', 'is_cargo', 'under_repair', 'repairing'], 'inlist', 'string', 'determines activity of station'], 'size': ['optional', 300, [250, 1000], 'inrange', 'integer', 'arena display size'], 'alpha': ['optional', 1, 0, 'nochange', 'float', 'arena display transparency'], 'damage': ['recommended', 0, 0, 'nochange', 'integer', 'damage points accrued by station'], 'occupant': ['recommended', 0, 0, 'nochange', 'integer', 'damage points accrued by station'], 'name': ['required', 'sunny', [2, 20], 'length', 'string', 'named of robot'], 'shape': ['optional', 'diamond', ['square', 'circle', 'triangle', 'plus', 'star', 'diamond', 'x', 'hexagon'], 'inlist', 'string', 'arena display shape'], 'color': ['optional', 'green', ['blue', 'green', 'red', 'cyan', 'magenta', 'yellow', 'black', 'white'], 'inlist', 'string', 'arena display colour'], 'kind_class': ['optional', 'Station', 0, 'nochange', 'string', 'class of kind']}\n",
            "{'kind': 'Solar_Charger', 'coordinates': [0, 0, 0], 'max': [0, 0, 0], 'velocity': [0, 0, 0], 'status': 'vacant', 'activity': 'idle', 'size': 300, 'alpha': 1, 'damage': 0, 'occupant': 0, 'name': 'sunny', 'shape': 'diamond', 'color': 'green', 'kind_class': 'Station'}\n",
            "{'kind': ['required', 'Repair_Station', 0, 'nochange', 'string', 'robot class type'], 'coordinates': ['required', [0, 0, 0], [0, 0, 0], 'validxyz', 'list', 'x, y, z location of a robot'], 'max': ['required', [0, 0, 0], 0, 'nochange', 'list', 'maximum x, y, z velocity'], 'velocity': ['required', [0, 0, 0], [0, 0, 0], 'listmax', 'list', 'current  x, y, z velocity'], 'status': ['required', 'vacant', ['occupied', 'vacant'], 'inlist', 'string', 'Set to on, off or broken'], 'activity': ['required', 'idle', ['idle', 'available', 'charging', 'busy', 'delivering', 'is_cargo', 'under_repair', 'repairing'], 'inlist', 'string', 'determines activity of station'], 'size': ['optional', 300, [250, 1000], 'inrange', 'integer', 'arena display size'], 'alpha': ['optional', 1, 0, 'nochange', 'float', 'arena display transparency'], 'damage': ['recommended', 0, 0, 'nochange', 'integer', 'damage points accrued by station'], 'occupant': ['recommended', 0, 0, 'nochange', 'integer', 'damage points accrued by station'], 'name': ['required', 'fixit', [2, 20], 'length', 'string', 'named of robot'], 'shape': ['optional', 'diamond', ['square', 'circle', 'triangle', 'plus', 'star', 'diamond', 'x', 'hexagon'], 'inlist', 'string', 'arena display shape'], 'color': ['optional', 'magenta', ['blue', 'green', 'red', 'cyan', 'magenta', 'yellow', 'black', 'white'], 'inlist', 'string', 'arena display colour'], 'kind_class': ['optional', 'Station', 0, 'nochange', 'string', 'class of kind']}\n",
            "{'kind': 'Repair_Station', 'coordinates': [0, 0, 0], 'max': [0, 0, 0], 'velocity': [0, 0, 0], 'status': 'vacant', 'activity': 'idle', 'size': 300, 'alpha': 1, 'damage': 0, 'occupant': 0, 'name': 'fixit', 'shape': 'diamond', 'color': 'magenta', 'kind_class': 'Station'}\n",
            "{'kind': ['required', 'Recycling_Station', 0, 'nochange', 'string', 'robot class type'], 'coordinates': ['required', [0, 0, 0], [0, 0, 0], 'validxyz', 'list', 'x, y, z location of a robot'], 'max': ['required', [0, 0, 0], 0, 'nochange', 'list', 'maximum x, y, z velocity'], 'velocity': ['required', [0, 0, 0], [0, 0, 0], 'listmax', 'list', 'current  x, y, z velocity'], 'status': ['required', 'vacant', ['occupied', 'vacant'], 'inlist', 'string', 'Set to on, off or broken'], 'activity': ['required', 'idle', ['idle', 'available', 'charging', 'busy', 'delivering', 'is_cargo', 'under_repair', 'repairing'], 'inlist', 'string', 'determines activity of station'], 'size': ['optional', 300, [250, 1000], 'inrange', 'integer', 'arena display size'], 'alpha': ['optional', 1, 0, 'nochange', 'float', 'arena display transparency'], 'damage': ['recommended', 0, 0, 'nochange', 'integer', 'damage points accrued by station'], 'occupant': ['recommended', 0, 0, 'nochange', 'integer', 'damage points accrued by station'], 'name': ['required', 'reuse', [2, 20], 'length', 'string', 'named of robot'], 'shape': ['optional', 'diamond', ['square', 'circle', 'triangle', 'plus', 'star', 'diamond', 'x', 'hexagon'], 'inlist', 'string', 'arena display shape'], 'color': ['optional', 'cyan', ['blue', 'green', 'red', 'cyan', 'magenta', 'yellow', 'black', 'white'], 'inlist', 'string', 'arena display colour'], 'kind_class': ['optional', 'Station', 0, 'nochange', 'string', 'class of kind']}\n",
            "{'kind': 'Recycling_Station', 'coordinates': [0, 0, 0], 'max': [0, 0, 0], 'velocity': [0, 0, 0], 'status': 'vacant', 'activity': 'idle', 'size': 300, 'alpha': 1, 'damage': 0, 'occupant': 0, 'name': 'reuse', 'shape': 'diamond', 'color': 'cyan', 'kind_class': 'Station'}\n",
            "[{'kind': 'Robot', 'coordinates': [0, 0, 0], 'max': [1, 1, 0], 'velocity': [0, 0, 0], 'status': 'on', 'activity': 'idle', 'name': 'id', 'target': None, 'age': 0, 'active': 0, 'serviced': 0, 'soc': 600, 'capacity': 600, 'service': 0, 'damage': 0, 'on_arena': 0, 'shape': 'square', 'color': 'blue', 'size': 250, 'alpha': 1, 'weight': 50, 'payload': 100, 'cargo': None, 'station': None, 'distance': 0, 'energy': 0, 'kind_class': 'Robot'}, {'kind': 'Droid', 'coordinates': [0, 0, 0], 'max': [2, 2, 0], 'velocity': [0, 0, 0], 'status': 'on', 'activity': 'idle', 'name': 'id', 'target': None, 'age': 0, 'active': 0, 'serviced': 0, 'soc': 2000, 'capacity': 2000, 'service': 0, 'damage': 0, 'on_arena': 0, 'shape': 'circle', 'color': 'red', 'size': 300, 'alpha': 1, 'weight': 100, 'payload': 200, 'cargo': None, 'station': None, 'distance': 0, 'energy': 0, 'kind_class': 'Robot'}, {'kind': 'Drone', 'coordinates': [0, 0, 0], 'max': [3, 3, 1], 'velocity': [0, 0, 0], 'status': 'on', 'activity': 'idle', 'name': 'id', 'target': None, 'age': 0, 'active': 0, 'serviced': 0, 'soc': 500, 'capacity': 500, 'service': 0, 'damage': 0, 'on_arena': 0, 'shape': 'triangle', 'color': 'green', 'size': 500, 'alpha': 1, 'weight': 25, 'payload': 50, 'cargo': None, 'station': None, 'distance': 0, 'energy': 0, 'kind_class': 'Robot'}, {'kind': 'Pizza', 'coordinates': [0, 0, 0], 'max': [0, 0, 0], 'velocity': [0, 0, 0], 'status': 'awaiting_transport', 'activity': 'idle', 'size': 300, 'alpha': 1, 'weight': 50, 'damage': 0, 'name': 'pizza', 'target': None, 'shape': 'circle', 'color': 'white', 'transport': None, 'start': 0, 'end': 0, 'kind_class': 'Deliverable'}, {'kind': 'Grid_Charger', 'coordinates': [0, 0, 0], 'max': [0, 0, 0], 'velocity': [0, 0, 0], 'status': 'vacant', 'activity': 'idle', 'size': 300, 'alpha': 1, 'damage': 0, 'occupant': 0, 'name': 'gazza', 'shape': 'diamond', 'color': 'blue', 'kind_class': 'Station'}, {'kind': 'Solar_Charger', 'coordinates': [0, 0, 0], 'max': [0, 0, 0], 'velocity': [0, 0, 0], 'status': 'vacant', 'activity': 'idle', 'size': 300, 'alpha': 1, 'damage': 0, 'occupant': 0, 'name': 'sunny', 'shape': 'diamond', 'color': 'green', 'kind_class': 'Station'}, {'kind': 'Repair_Station', 'coordinates': [0, 0, 0], 'max': [0, 0, 0], 'velocity': [0, 0, 0], 'status': 'vacant', 'activity': 'idle', 'size': 300, 'alpha': 1, 'damage': 0, 'occupant': 0, 'name': 'fixit', 'shape': 'diamond', 'color': 'magenta', 'kind_class': 'Station'}, {'kind': 'Recycling_Station', 'coordinates': [0, 0, 0], 'max': [0, 0, 0], 'velocity': [0, 0, 0], 'status': 'vacant', 'activity': 'idle', 'size': 300, 'alpha': 1, 'damage': 0, 'occupant': 0, 'name': 'reuse', 'shape': 'diamond', 'color': 'cyan', 'kind_class': 'Station'}]\n"
          ]
        }
      ]
    },
    {
      "cell_type": "markdown",
      "source": [
        "### Registerables class code:"
      ],
      "metadata": {
        "id": "ClHbF5ZXri5M"
      }
    },
    {
      "cell_type": "markdown",
      "source": [
        "#### Robots:"
      ],
      "metadata": {
        "id": "LZ0si-aWuZKQ"
      }
    },
    {
      "cell_type": "markdown",
      "source": [
        "Robot class code:"
      ],
      "metadata": {
        "id": "rSE-3a2irnnO"
      }
    },
    {
      "cell_type": "code",
      "metadata": {
        "id": "XnIrItSMRqsj",
        "colab": {
          "base_uri": "https://localhost:8080/"
        },
        "outputId": "1aa50c69-79f8-4c5d-f052-8b1c9c12eb14"
      },
      "source": [
        "############################################\n",
        "# @title Robot Class [code] {display-mode: \"code\"} \n",
        "############################################\n",
        "\n",
        "#Design your robot class here. \n",
        "\n",
        "class Robot:\n",
        "  #Constructor//variables\n",
        "  def __init__(self):\n",
        "    for i in range(len(short_cut[0])):\n",
        "      for k, v in short_cut[0].items():\n",
        "        setattr(self, k, v)\n",
        "    self.color = 'black'\n",
        "    self.coordinates = [randint(0,default_width), randint(0,default_height), 0]\n",
        "    \n",
        "    \n",
        "  #Properties\n",
        "  @property\n",
        "  def velocity_p(self):\n",
        "    return self.velocity\n",
        "    \n",
        "\n",
        "  @property\n",
        "  def target_p(self):\n",
        "    return self.target\n",
        "\n",
        "\n",
        "  #Setters\n",
        "  @target_p.setter\n",
        "  def target_p(self, target):\n",
        "    self.target = target\n",
        "\n",
        "  \n",
        "  @velocity_p.setter\n",
        "  def velocity_p(self, velocity):\n",
        "    self.velocity = velocity\n",
        "\n",
        "\n",
        "  #Deleters\n",
        "  @target_p.deleter\n",
        "  def target_p(self):\n",
        "    #print('Target deleted!')\n",
        "    self.target = None\n",
        "\n",
        "  ## Methods ##\n",
        "  '''\n",
        "  def find_distance_to_pizza(self):\n",
        "    x1, y1, z1 = self.coordinates\n",
        "    distance_dict = {}\n",
        "    for item in ecosystem.deliverable_list:\n",
        "      x, y, z = item.coordinates\n",
        "      distance = (x - x1)**2 + (y - y1)**2 + (y - y1)**2\n",
        "      distance_dict[item] = distance\n",
        "    return distance_dict\n",
        "\n",
        "  def find_nearest_pizza(self):\n",
        "    x1, y1, z1 = self.coordinates\n",
        "    \n",
        "    distance = 0\n",
        "    shortest_distance = 0\n",
        "    shortest = type('Placeholder', (), {})  #doesn't give error when my_deliverable_list is empty or doesn't exist\n",
        "    for item in ecosystem.deliverable_list:\n",
        "      x, y, z = item.coordinates\n",
        "      distance = (x - x1)**2 + (y - y1)**2 + (y - y1)**2\n",
        "      placeholder = distance\n",
        "      if distance <= placeholder:\n",
        "        shortest_distance = distance\n",
        "        shortest = item\n",
        "\n",
        "    return shortest_distance, shortest\n",
        "  '''\n",
        "\n",
        "  def deliver(self):\n",
        "    pizza = None\n",
        "    if ecosystem.pizza_assignment != {}:\n",
        "      if self in ecosystem.pizza_assignment.keys():\n",
        "        self.activity = 'delivering'\n",
        "        #print('pizza assigned')\n",
        "        #print(f'{self} set to {self.activity}')\n",
        "        pizza = ecosystem.pizza_assignment[self]\n",
        "        #print(pizza.status)\n",
        "        self.cargo = pizza\n",
        "        #print('cargo is  loaded')\n",
        "        if self.cargo.status is 'awaiting_collection':\n",
        "          self.target_p = pizza.coordinates\n",
        "          #print('going to Pizza')\n",
        "\n",
        "        if self.cargo.status is 'in_transit':\n",
        "          self.target_p = pizza.target\n",
        "          #print('Reached Pizza')\n",
        "\n",
        "        if self.cargo.status is 'delivered':\n",
        "          del self.target_p\n",
        "          #print('delivered Pizza')\n",
        "          self.activity = \"available\"\n",
        "          #print(f'{self} is set to {self.activity}')\n",
        "          return 'delivered'\n",
        "      else:\n",
        "        print('No pizza assigned!')\n",
        "        #print('self not in pizza_assignment')\n",
        "        pass\n",
        "    else:\n",
        "      print('Nothing to deliver!')\n",
        "    \n",
        "    def distance_station():\n",
        "      x1, y1, z1 = self.coordinates\n",
        "      distance_dict = {}\n",
        "      for item in ecosystem.station_list:\n",
        "        x, y, z = item.coordinates\n",
        "        distance = (x - x1)**2 + (y - y1)**2 + (y - y1)**2\n",
        "        distance_dict[item] = distance\n",
        "      return distance_dict\n",
        "\n",
        "    def will_it_make_station(distance):\n",
        "      if self.cargo:\n",
        "        motion_energy = (self.weight + self.cargo.weight) * distance * motion_efficiency\n",
        "        system_energy = self.weight * system_efficiency\n",
        "        energy = int(system_energy + motion_energy)\n",
        "      else:\n",
        "        motion_energy = self.weight * distance * motion_efficiency\n",
        "        system_energy = self.weight * system_efficiency * self.age\n",
        "        energy = int(system_energy + motion_energy)\n",
        "      \n",
        "      return energy\n",
        "\n",
        "    def closest_distance_station():\n",
        "      closest_station = None\n",
        "      closest_distance = 10**10 # very high number to be changed by conditional\n",
        "      for s, d in distance_station().items():\n",
        "        if d < closest_distance:\n",
        "          closest_station = s\n",
        "          closest_distance = d\n",
        "      return closest_station, closest_distance\n",
        "    if ecosystem.station_list != []:\n",
        "        closest_station, closest_distance = closest_distance_station()\n",
        "        if self.soc <= self.capacity * 0.37:\n",
        "          self.activity = 'charging'  \n",
        "          self.station = closest_station\n",
        "          self.target_p = closest_station.coordinates\n",
        "          if self.soc == self.capacity:\n",
        "            del self.target_p\n",
        "            #print('finished charging')\n",
        "            if self.cargo != None:\n",
        "              self.activity = 'busy'\n",
        "              self.target_p = None\n",
        "            elif self.cargo == None:\n",
        "              self.activity = 'available'\n",
        "              self.target_p = None\n",
        "            else:\n",
        "              raise TypeError\n",
        "        else:\n",
        "          pass\n",
        "    #print(self.soc)\n",
        "\n",
        "\n",
        "  def move(self):\n",
        "    if self.target:\n",
        "      for i in range(len(self.target)):\n",
        "        if self.target[i] >= self.coordinates[i] + self.max[i] and self.target[i] - self.coordinates[i] > 0:\n",
        "          self.velocity_p[i] = self.max[i]\n",
        "        elif self.target[i] <= self.coordinates[i] - self.max[i] and self.target[i] - self.coordinates[i] < 0:\n",
        "          self.velocity_p[i] = -self.max[i]\n",
        "        elif self.target[i] < self.coordinates[i] + self.max[i] or self.target[i] > self.coordinates[i] - self.max[i]:\n",
        "          self.velocity_p[i] = self.target[i] - self.coordinates[i]\n",
        "        else:\n",
        "          self.velocity_p[i] = 0\n",
        "\n",
        "      self.coordinates[0] += self.velocity[0] if 0 <= self.coordinates[0] <= default_width and abs(self.velocity[0]) <= self.max[0] else 0\n",
        "      self.coordinates[1] += self.velocity[1] if 0 <= self.coordinates[1] <= default_height and abs(self.velocity[1]) <= self.max[1] else 0\n",
        "      self.coordinates[2] += self.velocity[2] if 0 <= self.coordinates[2] <= default_altitude and abs(self.velocity[2]) <= self.max[2] else 0\n",
        "\n",
        "if testing:\n",
        "  for k in robot_default('Robot', 'default').keys():\n",
        "    print(k, ' --> ', getattr(Robot(), k, \"doesn't exist\"))"
      ],
      "execution_count": 15,
      "outputs": [
        {
          "output_type": "stream",
          "name": "stdout",
          "text": [
            "kind  -->  Robot\n",
            "coordinates  -->  [5, 24, 0]\n",
            "max  -->  [1, 1, 0]\n",
            "velocity  -->  [0, 0, 0]\n",
            "status  -->  on\n",
            "activity  -->  idle\n",
            "name  -->  id\n",
            "target  -->  None\n",
            "age  -->  0\n",
            "active  -->  0\n",
            "serviced  -->  0\n",
            "soc  -->  600\n",
            "capacity  -->  600\n",
            "service  -->  0\n",
            "damage  -->  0\n",
            "on_arena  -->  0\n",
            "shape  -->  square\n",
            "color  -->  black\n",
            "size  -->  250\n",
            "alpha  -->  1\n",
            "weight  -->  50\n",
            "payload  -->  100\n",
            "cargo  -->  None\n",
            "station  -->  None\n",
            "distance  -->  0\n",
            "energy  -->  0\n",
            "kind_class  -->  Robot\n"
          ]
        }
      ]
    },
    {
      "cell_type": "markdown",
      "source": [
        "Droid class code:"
      ],
      "metadata": {
        "id": "bd0wToXIrssv"
      }
    },
    {
      "cell_type": "code",
      "metadata": {
        "id": "QhR07dGFj2cP",
        "colab": {
          "base_uri": "https://localhost:8080/"
        },
        "outputId": "8a3baaac-cddd-4f49-f8aa-0aed8e2659f4"
      },
      "source": [
        "############################################\n",
        "# @title Droid Class [code] {display-mode: \"code\"} \n",
        "############################################\n",
        "\n",
        "#Design your droid class here. \n",
        "\n",
        "class Droid(Robot):\n",
        "  def __init__(self):\n",
        "    for i in range(len(short_cut[1])):\n",
        "      for k, v in short_cut[1].items():\n",
        "        setattr(self, k, v)\n",
        "    self.color = 'white'\n",
        "    self.coordinates = [randint(0,default_width), randint(0,default_height), 0]\n",
        "    \n",
        "  #Same move method as robot\n",
        "\n",
        "if testing:\n",
        "  for k in robot_default('Droid', 'default').keys():\n",
        "    print(getattr(Droid(), k, \"doesn't exist\"))"
      ],
      "execution_count": 16,
      "outputs": [
        {
          "output_type": "stream",
          "name": "stdout",
          "text": [
            "Droid\n",
            "[77, 15, 0]\n",
            "[2, 2, 0]\n",
            "[0, 0, 0]\n",
            "on\n",
            "idle\n",
            "id\n",
            "None\n",
            "0\n",
            "0\n",
            "0\n",
            "2000\n",
            "2000\n",
            "0\n",
            "0\n",
            "0\n",
            "circle\n",
            "white\n",
            "300\n",
            "1\n",
            "100\n",
            "200\n",
            "None\n",
            "None\n",
            "0\n",
            "0\n",
            "Robot\n"
          ]
        }
      ]
    },
    {
      "cell_type": "markdown",
      "source": [
        "Drone class code:"
      ],
      "metadata": {
        "id": "8aI07-Wdrv8l"
      }
    },
    {
      "cell_type": "code",
      "metadata": {
        "id": "XU6lz7aMj3TO",
        "colab": {
          "base_uri": "https://localhost:8080/"
        },
        "outputId": "d3432406-77ba-4a8a-f15d-3eb8d9618c1b"
      },
      "source": [
        "############################################\n",
        "# @title Drone Class [code] {display-mode: \"code\"} \n",
        "############################################\n",
        "\n",
        "#Design your drone class here. \n",
        "\n",
        "class Drone(Robot):\n",
        "  def __init__(self):\n",
        "    for i in range(len(short_cut[2])):\n",
        "      for k, v in short_cut[2].items():\n",
        "        setattr(self, k, v)\n",
        "    self.color = 'cyan'\n",
        "    self.coordinates = [randint(0,default_width), randint(0,default_height), 0]\n",
        "\n",
        "  def move(self):\n",
        "    if self.target:\n",
        "      if self.coordinates[2] == 0 and self.coordinates != self.target:\n",
        "        self.velocity_p = [0, 0, 1]\n",
        "      elif self.coordinates[2] > 0:\n",
        "        for i in range(len(self.coordinates)):\n",
        "          if self.target[i] >= self.coordinates[i] + self.max[i] and self.target[i] - self.coordinates[i] > 0:\n",
        "            self.velocity_p[i] = self.max[i]\n",
        "          elif self.target[i] <= self.coordinates[i] - self.max[i] and self.target[i] - self.coordinates[i] < 0:\n",
        "            self.velocity_p[i] = -self.max[i]\n",
        "          elif self.target[i] < self.coordinates[i] + self.max[i] or self.target[i] > self.coordinates[i] - self.max[i]:\n",
        "            self.velocity_p[i] = self.target[i] - self.coordinates[i]\n",
        "          else:\n",
        "            self.velocity_p[i] = 0\n",
        "      \n",
        "      \n",
        "      if self.coordinates[2] > 0 and (self.coordinates[0] != self.target[0] or self.coordinates[1] != self.target[1]):\n",
        "        self.velocity[2] = 0 if self.target[2] == 0 else self.velocity[2]\n",
        "      \n",
        "      if self.coordinates[2] == 0 and (self.coordinates[0] == self.target[0] and self.coordinates[1] == self.target[1]):\n",
        "        self.velocity[2] = 0\n",
        "      \n",
        "      self.coordinates[0] += self.velocity[0] if 0 <= self.coordinates[0] <= default_width and abs(self.velocity[0]) <= self.max[0] else 0\n",
        "      self.coordinates[1] += self.velocity[1] if 0 <= self.coordinates[1] <= default_height and abs(self.velocity[1]) <= self.max[1] else 0\n",
        "      self.coordinates[2] += self.velocity[2] if 0 <= self.coordinates[2] <= default_altitude and abs(self.velocity[2]) <= self.max[2] else 0\n",
        "    \n",
        "if testing:\n",
        "  for k in robot_default('Drone', 'default').keys():\n",
        "    print(k, ' --> ', getattr(Drone(), k, \"doesn't exist\"))"
      ],
      "execution_count": 17,
      "outputs": [
        {
          "output_type": "stream",
          "name": "stdout",
          "text": [
            "kind  -->  Drone\n",
            "coordinates  -->  [1, 25, 0]\n",
            "max  -->  [3, 3, 1]\n",
            "velocity  -->  [0, 0, 0]\n",
            "status  -->  on\n",
            "activity  -->  idle\n",
            "name  -->  id\n",
            "target  -->  None\n",
            "age  -->  0\n",
            "active  -->  0\n",
            "serviced  -->  0\n",
            "soc  -->  500\n",
            "capacity  -->  500\n",
            "service  -->  0\n",
            "damage  -->  0\n",
            "on_arena  -->  0\n",
            "shape  -->  triangle\n",
            "color  -->  cyan\n",
            "size  -->  500\n",
            "alpha  -->  1\n",
            "weight  -->  25\n",
            "payload  -->  50\n",
            "cargo  -->  None\n",
            "station  -->  None\n",
            "distance  -->  0\n",
            "energy  -->  0\n",
            "kind_class  -->  Robot\n"
          ]
        }
      ]
    },
    {
      "cell_type": "markdown",
      "source": [
        "#### Deliverables:"
      ],
      "metadata": {
        "id": "hIXSA0LCvFoY"
      }
    },
    {
      "cell_type": "markdown",
      "source": [
        "Pizza class code:"
      ],
      "metadata": {
        "id": "qRkJwUzWr3ZK"
      }
    },
    {
      "cell_type": "code",
      "source": [
        "############################################\n",
        "# @title Pizza Class [code] {display-mode: \"code\"} \n",
        "############################################\n",
        "\n",
        "class Pizza:\n",
        "  def __init__(self):\n",
        "    for i in range(len(short_cut[3])):\n",
        "      for k, v in short_cut[3].items():\n",
        "        setattr(self, k, v)\n",
        "    self.color = 'yellow'\n",
        "\n",
        "    self.coordinates = [randint(0,default_width), randint(0,default_height), 0]\n",
        "    self.target = [randint(0,default_width), randint(0,default_height), 0]\n",
        "\n",
        "  \n",
        "  def pizza_to_robot_distance(self):\n",
        "    x1, y1, z1 = self.coordinates\n",
        "    distance_dict = {}\n",
        "    for kind in ecosystem.robots:\n",
        "      if kind.activity == 'available':\n",
        "        x, y, z = kind.coordinates\n",
        "        distance = (x - x1)**2 + (y - y1)**2 + (y - y1)**2\n",
        "        distance_dict[kind] = distance\n",
        "    return distance_dict    #available robots only\n",
        "    \n",
        "  '''\n",
        "  def move(self):\n",
        "    def robot_is_liable():\n",
        "      for liable_robot in ecosystem.pizza_assignment.keys():\n",
        "        \n",
        "        if self == ecosystem.pizza_assignment[liable_robot]:\n",
        "          print(liable_robot)\n",
        "          return liable_robot\n",
        "    \n",
        "    if robot_is_liable():\n",
        "      robot = robot_is_liable()\n",
        "      print(robot)\n",
        "      if self.target != self.coordinates:\n",
        "        if robot.coordinates == self.coordinates:\n",
        "          self.status = 'in_transit'\n",
        "        if self.status == 'in_transit':\n",
        "          self.coordinates = robot.coordinates\n",
        "          \n",
        "      elif self.target == self.coordinates:\n",
        "        self.coordinates = self.coordinates\n",
        "      else:\n",
        "        pass\n",
        "    '''\n",
        "\n",
        "if testing:\n",
        "  print(dir(Pizza())[number_of_magic_methods-1:])\n",
        "\n",
        "if testing:\n",
        "  for k in robot_default('Pizza', 'default').keys():\n",
        "    print(k, ' --> ', getattr(Pizza(), k, \"doesn't exist\"))\n",
        "\n",
        "# 'awaiting_transport', 'awaiting_collection', 'in_transit', 'delivered'"
      ],
      "metadata": {
        "colab": {
          "base_uri": "https://localhost:8080/"
        },
        "id": "JA0pd202r9U2",
        "outputId": "f56104de-5327-4f9b-fd03-dbe84596ce9d"
      },
      "execution_count": 18,
      "outputs": [
        {
          "output_type": "stream",
          "name": "stdout",
          "text": [
            "['activity', 'alpha', 'color', 'coordinates', 'damage', 'end', 'kind', 'kind_class', 'max', 'name', 'pizza_to_robot_distance', 'shape', 'size', 'start', 'status', 'target', 'transport', 'velocity', 'weight']\n",
            "kind  -->  Pizza\n",
            "coordinates  -->  [60, 16, 0]\n",
            "max  -->  [0, 0, 0]\n",
            "velocity  -->  [0, 0, 0]\n",
            "status  -->  awaiting_transport\n",
            "activity  -->  idle\n",
            "size  -->  300\n",
            "alpha  -->  1\n",
            "weight  -->  50\n",
            "damage  -->  0\n",
            "name  -->  pizza\n",
            "target  -->  [36, 9, 0]\n",
            "shape  -->  circle\n",
            "color  -->  yellow\n",
            "transport  -->  None\n",
            "start  -->  0\n",
            "end  -->  0\n",
            "kind_class  -->  Deliverable\n"
          ]
        }
      ]
    },
    {
      "cell_type": "markdown",
      "source": [
        "#### Stations:"
      ],
      "metadata": {
        "id": "ZsZNvVhgvKoy"
      }
    },
    {
      "cell_type": "markdown",
      "source": [
        "Grid_Charger class code:"
      ],
      "metadata": {
        "id": "T4xhSAH0r99a"
      }
    },
    {
      "cell_type": "code",
      "source": [
        "############################################\n",
        "# @title Grid_Charger Class [code] {display-mode: \"code\"} \n",
        "############################################\n",
        "\n",
        "class Grid_Charger:\n",
        "  def __init__(self):\n",
        "    for i in range(len(short_cut[4])):\n",
        "      for k, v in short_cut[4].items():\n",
        "        setattr(self, k, v)\n",
        "    self.shape = 'hexagon'\n",
        "    self.coordinates = [randint(0,default_width), randint(0,default_height), 0]\n",
        "\n",
        "\n",
        "if testing:\n",
        "  number_of_magic_methods = 27\n",
        "  print(dir(Grid_Charger())[number_of_magic_methods-1:])\n",
        "\n",
        "if testing:\n",
        "  for k in robot_default('Grid_Charger', 'default').keys():\n",
        "    print(k, ' --> ', getattr(Grid_Charger(), k, \"doesn't exist\"))"
      ],
      "metadata": {
        "colab": {
          "base_uri": "https://localhost:8080/"
        },
        "id": "mlfHwtX3sIZa",
        "outputId": "e94465d6-3090-4951-fdd4-2a6e56ed24dd"
      },
      "execution_count": 19,
      "outputs": [
        {
          "output_type": "stream",
          "name": "stdout",
          "text": [
            "['activity', 'alpha', 'color', 'coordinates', 'damage', 'kind', 'kind_class', 'max', 'name', 'occupant', 'shape', 'size', 'status', 'velocity']\n",
            "kind  -->  Grid_Charger\n",
            "coordinates  -->  [15, 6, 0]\n",
            "max  -->  [0, 0, 0]\n",
            "velocity  -->  [0, 0, 0]\n",
            "status  -->  vacant\n",
            "activity  -->  idle\n",
            "size  -->  300\n",
            "alpha  -->  1\n",
            "damage  -->  0\n",
            "occupant  -->  0\n",
            "name  -->  gazza\n",
            "shape  -->  hexagon\n",
            "color  -->  blue\n",
            "kind_class  -->  Station\n"
          ]
        }
      ]
    },
    {
      "cell_type": "markdown",
      "source": [
        "Solar_Charger class code:"
      ],
      "metadata": {
        "id": "AFdochO_sGys"
      }
    },
    {
      "cell_type": "code",
      "source": [
        "############################################\n",
        "# @title Solar_Charger Class [code] {display-mode: \"code\"} \n",
        "############################################\n",
        "\n",
        "class Solar_Charger:\n",
        "  def __init__(self):\n",
        "    for i in range(len(short_cut[5])):\n",
        "      for k, v in short_cut[5].items():\n",
        "        setattr(self, k, v)\n",
        "    self.shape = 'hexagon'\n",
        "    self.coordinates = [randint(0,default_width), randint(0,default_height), 0]\n",
        "\n",
        "\n",
        "if testing:\n",
        "  number_of_magic_methods = 27\n",
        "  print(dir(Solar_Charger())[number_of_magic_methods-1:])"
      ],
      "metadata": {
        "colab": {
          "base_uri": "https://localhost:8080/"
        },
        "id": "o0XYEEtEsHUV",
        "outputId": "66fe1643-0071-4ec2-c22e-abdc58b57466"
      },
      "execution_count": 20,
      "outputs": [
        {
          "output_type": "stream",
          "name": "stdout",
          "text": [
            "['activity', 'alpha', 'color', 'coordinates', 'damage', 'kind', 'kind_class', 'max', 'name', 'occupant', 'shape', 'size', 'status', 'velocity']\n"
          ]
        }
      ]
    },
    {
      "cell_type": "markdown",
      "source": [
        "Repair_Station class code:"
      ],
      "metadata": {
        "id": "BvvnCPUusJGd"
      }
    },
    {
      "cell_type": "code",
      "source": [
        "############################################\n",
        "# @title Repair_Station Class [code] {display-mode: \"code\"} \n",
        "############################################\n",
        "\n",
        "class Repair_Station:\n",
        "  def __init__(self):\n",
        "    for i in range(len(short_cut[6])):\n",
        "      for k, v in short_cut[6].items():\n",
        "        setattr(self, k, v)\n",
        "    self.shape = 'hexagon'\n",
        "    self.coordinates = [randint(0,default_width), randint(0,default_height), 0]\n",
        "\n",
        "if testing:\n",
        "  number_of_magic_methods = 27\n",
        "  print(dir(Repair_Station())[number_of_magic_methods-1:])"
      ],
      "metadata": {
        "id": "eqwMb7jCsFBG",
        "colab": {
          "base_uri": "https://localhost:8080/"
        },
        "outputId": "7d870184-0909-40f1-8eb0-7861c93e598c"
      },
      "execution_count": 21,
      "outputs": [
        {
          "output_type": "stream",
          "name": "stdout",
          "text": [
            "['activity', 'alpha', 'color', 'coordinates', 'damage', 'kind', 'kind_class', 'max', 'name', 'occupant', 'shape', 'size', 'status', 'velocity']\n"
          ]
        }
      ]
    },
    {
      "cell_type": "markdown",
      "source": [
        "Recycling_Station class code:"
      ],
      "metadata": {
        "id": "QOk4Uki5sLY_"
      }
    },
    {
      "cell_type": "code",
      "source": [
        "############################################\n",
        "# @title Recycling_Station Class [code] {display-mode: \"code\"} \n",
        "############################################\n",
        "\n",
        "class Recycling_Station:\n",
        "  def __init__(self):\n",
        "    for i in range(len(short_cut[7])):\n",
        "      for k, v in short_cut[7].items():\n",
        "        setattr(self, k, v)\n",
        "    self.shape = 'hexagon'\n",
        "    self.coordinates = [randint(0,default_width), randint(0,default_height), 0]\n"
      ],
      "metadata": {
        "id": "2QuOWt1NsLxd"
      },
      "execution_count": 22,
      "outputs": []
    },
    {
      "cell_type": "markdown",
      "metadata": {
        "id": "0furkWKYe5Ad"
      },
      "source": [
        "## **Stage 1 Testing**\n",
        "\n",
        "There are 3 exercises in this section\n",
        "\n",
        "1. Test 1 Instantiation\n",
        "2. Test 2 Attributes Zone\n",
        "3. Test 3 -Robot Factory\n",
        "\n",
        "Use the code cells below to test your robot classes. You should ensure:\n",
        "\n",
        "* Your robots, droids and drones classes instantiate without any error\n",
        "* Instantiate an ecosystem, register robots and and display them.\n",
        "\n",
        "See the slide deck for stage 1 for more information. Make sure you follow the ecosystem training. Note that automatic code testing will check your robots can perform as suggested in these test cells\n"
      ]
    },
    {
      "cell_type": "code",
      "source": [
        "testing = True"
      ],
      "metadata": {
        "id": "GiDBDOql7cXf"
      },
      "execution_count": 23,
      "outputs": []
    },
    {
      "cell_type": "code",
      "execution_count": 24,
      "metadata": {
        "id": "L3iS5qHxcvWC"
      },
      "outputs": [],
      "source": [
        "#@title instantiating objects [code] { display-mode: \"code\" }\n",
        "robot1 = Robot()\n",
        "droid1 = Droid()\n",
        "drone1 = Drone()\n",
        "pizza1 = Pizza()\n",
        "grid_charger1 = Grid_Charger()\n",
        "solar_charger1 = Solar_Charger()\n",
        "repair_station1 = Repair_Station()\n",
        "recycling_station1 = Recycling_Station()"
      ]
    },
    {
      "cell_type": "code",
      "source": [
        "# @title Instantiating Ecosystem object in a variable ecosystem\n",
        "\n",
        "ecosystem = Ecosystem()"
      ],
      "metadata": {
        "id": "QwnunFbMQRg9"
      },
      "execution_count": 25,
      "outputs": []
    },
    {
      "cell_type": "code",
      "source": [
        "# @title Trying Ecosystem attributes [code]\n",
        "\n",
        "for i in dir(ecosystem)[number_of_magic_methods-1:]:\n",
        "  print(f'ecosystem.{i} does: ')\n",
        "  print(getattr(ecosystem, i, 'does not exist'))\n",
        "  print(NL)"
      ],
      "metadata": {
        "id": "d2W3pCp_iE2Z",
        "colab": {
          "base_uri": "https://localhost:8080/"
        },
        "outputId": "d1a189fb-6574-489e-bdd4-d28eea374304"
      },
      "execution_count": 26,
      "outputs": [
        {
          "output_type": "stream",
          "name": "stdout",
          "text": [
            "ecosystem._cache does: \n",
            "{}\n",
            "\n",
            "\n",
            "ecosystem._delivered does: \n",
            "{}\n",
            "\n",
            "\n",
            "ecosystem._display_parameters does: \n",
            "{}\n",
            "\n",
            "\n",
            "ecosystem._duration does: \n",
            "24\n",
            "\n",
            "\n",
            "ecosystem._get_markers does: \n",
            "<bound method Ecosystem._get_markers of <__main__.Ecosystem object at 0x7ff739016a50>>\n",
            "\n",
            "\n",
            "ecosystem._hour does: \n",
            "0\n",
            "\n",
            "\n",
            "ecosystem._messages does: \n",
            "<queue.Queue object at 0x7ff739016910>\n",
            "\n",
            "\n",
            "ecosystem._register does: \n",
            "{}\n",
            "\n",
            "\n",
            "ecosystem._registerable does: \n",
            "['Robot', 'Droid', 'Drone', 'Pizza', 'Grid_Charger', 'Solar_Charger', 'Repair_Station', 'Recycling_Station']\n",
            "\n",
            "\n",
            "ecosystem._robots does: \n",
            "[]\n",
            "\n",
            "\n",
            "ecosystem.broken does: \n",
            "0\n",
            "\n",
            "\n",
            "ecosystem.count does: \n",
            "<bound method Ecosystem.count of <__main__.Ecosystem object at 0x7ff739016a50>>\n",
            "\n",
            "\n",
            "ecosystem.count_operational does: \n",
            "0\n",
            "\n",
            "\n",
            "ecosystem.create does: \n",
            "<bound method Ecosystem.create of <__main__.Ecosystem object at 0x7ff739016a50>>\n",
            "\n",
            "\n",
            "ecosystem.deliverable_list does: \n",
            "[]\n",
            "\n",
            "\n",
            "ecosystem.deregister does: \n",
            "<bound method Ecosystem.deregister of <__main__.Ecosystem object at 0x7ff739016a50>>\n",
            "\n",
            "\n",
            "ecosystem.display does: \n",
            "<bound method Ecosystem.display of <__main__.Ecosystem object at 0x7ff739016a50>>\n",
            "\n",
            "\n",
            "ecosystem.display_on_update does: \n",
            "False\n",
            "\n",
            "\n",
            "ecosystem.display_parameters does: \n",
            "{}\n",
            "\n",
            "\n",
            "ecosystem.duration does: \n",
            "24\n",
            "\n",
            "\n",
            "ecosystem.has_message does: \n",
            "False\n",
            "\n",
            "\n",
            "ecosystem.help does: \n",
            "<bound method Ecosystem.help of <__main__.Ecosystem object at 0x7ff739016a50>>\n",
            "\n",
            "\n",
            "ecosystem.hour does: \n",
            "0\n",
            "\n",
            "\n",
            "ecosystem.markers does: \n",
            "[]\n",
            "\n",
            "\n",
            "ecosystem.message does: \n",
            "False\n",
            "\n",
            "\n",
            "ecosystem.message_types does: \n",
            "['damage', 'error', 'info', 'broken']\n",
            "\n",
            "\n",
            "ecosystem.messages does: \n",
            "\n",
            "\n",
            "\n",
            "ecosystem.operational does: \n",
            "0\n",
            "\n",
            "\n",
            "ecosystem.pizza_assign does: \n",
            "<bound method Ecosystem.pizza_assign of <__main__.Ecosystem object at 0x7ff739016a50>>\n",
            "\n",
            "\n",
            "ecosystem.pizza_assignment does: \n",
            "{}\n",
            "\n",
            "\n",
            "ecosystem.random_cordinates does: \n",
            "True\n",
            "\n",
            "\n",
            "ecosystem.register does: \n",
            "<bound method Ecosystem.register of <__main__.Ecosystem object at 0x7ff739016a50>>\n",
            "\n",
            "\n",
            "ecosystem.registry does: \n",
            "<bound method Ecosystem.registry of <__main__.Ecosystem object at 0x7ff739016a50>>\n",
            "\n",
            "\n",
            "ecosystem.robot_register does: \n",
            "{}\n",
            "\n",
            "\n",
            "ecosystem.robots does: \n",
            "[]\n",
            "\n",
            "\n",
            "ecosystem.station_list does: \n",
            "[]\n",
            "\n",
            "\n",
            "ecosystem.stop does: \n",
            "False\n",
            "\n",
            "\n",
            "ecosystem.things does: \n",
            "<bound method Ecosystem.things of <__main__.Ecosystem object at 0x7ff739016a50>>\n",
            "\n",
            "\n",
            "ecosystem.update does: \n",
            "<bound method Ecosystem.update of <__main__.Ecosystem object at 0x7ff739016a50>>\n",
            "\n",
            "\n"
          ]
        }
      ]
    },
    {
      "cell_type": "code",
      "source": [
        "# Used functions\n",
        "## kinda useless; ecosystem.display_on_update\n",
        "def dsp(update, **kwargs):\n",
        "  ecosystem.display_on_update = False\n",
        "  if ecosystem and kwargs:\n",
        "    ecosystem.display_parameters = kwargs\n",
        "  else:\n",
        "    pass\n",
        "  \n",
        "  if update == True:\n",
        "    ecosystem.update()\n",
        "  else:\n",
        "    pass\n",
        "  \n",
        "  ecosystem.display()\n",
        "\n",
        "def msg():\n",
        "  if ecosystem.has_message:\n",
        "    print(ecosystem.messages)\n",
        "  else:\n",
        "    print('No new message')"
      ],
      "metadata": {
        "id": "Fdn949Gj5NpD"
      },
      "execution_count": 27,
      "outputs": []
    },
    {
      "cell_type": "code",
      "metadata": {
        "id": "r_Tcbq6-VgZh",
        "colab": {
          "base_uri": "https://localhost:8080/",
          "height": 1000
        },
        "outputId": "94b07150-d314-4510-ed41-66a5f41d7459"
      },
      "source": [
        "##############################################################\n",
        "# @title Test 1 Instantiation [code] {display-mode: \"code\"} \n",
        "##############################################################\n",
        "#Test 1.\n",
        "#Instantiate your robots so that they appear in random places when you execute an ecosystem display.\n",
        "#Test some ecosystem properties such as messages, deregister, count_operational\n",
        "ecosystem = Ecosystem()\n",
        "my_object_list = []\n",
        "pizza_list = [Pizza() for i in range(10)]\n",
        "for i in ([robot1, droid1, drone1, pizza1, grid_charger1, solar_charger1, repair_station1, recycling_station1] + pizza_list):\n",
        "  my_object_list.append(i)\n",
        "  ecosystem.register(i)\n",
        "\n",
        "ecosystem.display_parameters = {'title' : f'Robots on the display {ecosystem.count_operational}',\n",
        "                                'annotations' : ['coordinates', 'soc', 'damage'],\n",
        "                                'facecolor' : 'pink'\n",
        "                                }\n",
        "\n",
        "ecosystem.display()\n",
        "\n",
        "for item in ['messages', 'count_operational', 'duration', 'hour', 'stop']:\n",
        "  print(getattr(ecosystem, item, \"doesn't exist\"))\n",
        "print(len(ecosystem.deliverable_list))\n",
        "for i in ecosystem.robots:\n",
        "  print(i.activity)\n",
        "\n",
        "for i in ecosystem.deliverable_list:\n",
        "  print(i.status)"
      ],
      "execution_count": 28,
      "outputs": [
        {
          "output_type": "display_data",
          "data": {
            "image/png": "[encoded data removed]",
            "text/plain": [
              "<Figure size 850.394x425.197 with 1 Axes>"
            ]
          },
          "metadata": {}
        },
        {
          "output_type": "stream",
          "name": "stdout",
          "text": [
            "info       Robot    140699790043792  register Robot registered with 0 damage points\n",
            "info       Droid    140699790043280  register Droid registered with 0 damage points\n",
            "info       Drone    140699790042832  register Drone registered with 0 damage points\n",
            "info       Pizza    140699790042704  register Pizza registered with 0 damage points\n",
            "info       Grid_Charger 140699790044176  register Grid_Charger registered with 0 damage points\n",
            "info       Solar_Charger 140699790043088  register Solar_Charger registered with 0 damage points\n",
            "info       Repair_Station 140699790042640  register Repair_Station registered with 0 damage points\n",
            "info       Recycling_Station 140699790042576  register Recycling_Station registered with 0 damage points\n",
            "info       Pizza    140699790043728  register Pizza registered with 0 damage points\n",
            "info       Pizza    140699790043408  register Pizza registered with 0 damage points\n",
            "info       Pizza    140699790041296  register Pizza registered with 0 damage points\n",
            "info       Pizza    140699790043856  register Pizza registered with 0 damage points\n",
            "info       Pizza    140699790884368  register Pizza registered with 0 damage points\n",
            "info       Pizza    140699790882320  register Pizza registered with 0 damage points\n",
            "info       Pizza    140699790881808  register Pizza registered with 0 damage points\n",
            "info       Pizza    140699790881232  register Pizza registered with 0 damage points\n",
            "info       Pizza    140699790883984  register Pizza registered with 0 damage points\n",
            "info       Pizza    140699790883792  register Pizza registered with 0 damage points\n",
            "\n",
            "3\n",
            "24\n",
            "0\n",
            "False\n",
            "11\n",
            "available\n",
            "available\n",
            "available\n",
            "awaiting_transport\n",
            "awaiting_transport\n",
            "awaiting_transport\n",
            "awaiting_transport\n",
            "awaiting_transport\n",
            "awaiting_transport\n",
            "awaiting_transport\n",
            "awaiting_transport\n",
            "awaiting_transport\n",
            "awaiting_transport\n",
            "awaiting_transport\n"
          ]
        }
      ]
    },
    {
      "cell_type": "code",
      "metadata": {
        "id": "2rCJH7YzOIK0",
        "colab": {
          "base_uri": "https://localhost:8080/",
          "height": 524
        },
        "outputId": "27e57b6f-967e-4099-afae-c1bb1cd31b06"
      },
      "source": [
        "##############################################################\n",
        "# @title Test 2 Attributes Zone [code] {display-mode: \"code\"} \n",
        "##############################################################\n",
        "#Test 2\n",
        "#Instantiate robots and change attributes. \n",
        "# Demonstrate your awareness of robot attributes such as size, colour and shape\n",
        "ecosystem = Ecosystem()\n",
        "\n",
        "drone1 = Drone()\n",
        "drone2 = Drone()\n",
        "drone3 = Drone()\n",
        "ecosystem.register(drone1)\n",
        "ecosystem.register(drone2)\n",
        "ecosystem.register(drone3)\n",
        "\n",
        "number = 1\n",
        "for item, name in [(drone1, 'tezla robot'), (drone2, 'tezla droid'), (drone3, 'tezla drone')]:\n",
        "  item.name = name + str(number)\n",
        "  print(f'{item} name is {item.name}')\n",
        "\n",
        "     # to distinguish droid and pizza size\n",
        "\n",
        "ecosystem.display_parameters = {'annotations':['name']}\n",
        "ecosystem.display_on_update = True\n",
        "ecosystem.update()\n",
        "\n",
        "print(ecosystem.messages)\n",
        "print(ecosystem.count_operational)\n",
        "for i in [drone1, drone2, drone3]:\n",
        "  print(type(i).__name__)"
      ],
      "execution_count": 29,
      "outputs": [
        {
          "output_type": "display_data",
          "data": {
            "image/png": "[encoded data removed]",
            "text/plain": [
              "<Figure size 850.394x425.197 with 1 Axes>"
            ]
          },
          "metadata": {}
        },
        {
          "output_type": "stream",
          "name": "stdout",
          "text": [
            "info       Drone    140699789608336  register Drone registered with 0 damage points\n",
            "info       Drone    140699789911952  register Drone registered with 0 damage points\n",
            "info       Drone    140699789609808  register Drone registered with 0 damage points\n",
            "\n",
            "3\n",
            "Drone\n",
            "Drone\n",
            "Drone\n"
          ]
        }
      ]
    },
    {
      "cell_type": "code",
      "metadata": {
        "id": "3Lz6YDOWQERq",
        "colab": {
          "base_uri": "https://localhost:8080/",
          "height": 594
        },
        "outputId": "02ffbb00-fbc8-42ad-ddd8-b3dd427aba65"
      },
      "source": [
        "##############################################################\n",
        "# @title Test 3 -Robot Factory [code] {display-mode: \"code\"} \n",
        "##############################################################\n",
        "#Test 3\n",
        "#Instantiate at least a dozen robots in a loop.\n",
        "# It is up to you how you arrange them - random or otherwise\n",
        "\n",
        "ecosystem = Ecosystem()\n",
        "\n",
        "ecosystem.random_cordinates = False\n",
        "y = 0\n",
        "spacing = 80/11\n",
        "factory_robot_list = []\n",
        "for robot_kind, number in [(Robot, 4), (Droid, 4), (Drone, 4)]:\n",
        "  for i in range(number):\n",
        "    place_holder = robot_kind()  #to ensure correct object is used throughout the loop\n",
        "    factory_robot_list.append(place_holder)\n",
        "    place_holder.coordinates = [y + spacing * i, 20, 0]\n",
        "    ecosystem.register(place_holder)\n",
        "  \n",
        "  y += spacing * number\n",
        "\n",
        "ecosystem.display_on_update = True\n",
        "ecosystem.update()\n",
        "for count, robot in enumerate(factory_robot_list, start = 1):\n",
        "  print(count, robot, end=NL)"
      ],
      "execution_count": 30,
      "outputs": [
        {
          "output_type": "display_data",
          "data": {
            "image/png": "[encoded data removed]",
            "text/plain": [
              "<Figure size 850.394x425.197 with 1 Axes>"
            ]
          },
          "metadata": {}
        },
        {
          "output_type": "stream",
          "name": "stdout",
          "text": [
            "1 <__main__.Robot object at 0x7ff737edb450>\n",
            "2 <__main__.Robot object at 0x7ff737edb490>\n",
            "3 <__main__.Robot object at 0x7ff737edb950>\n",
            "4 <__main__.Robot object at 0x7ff737edb210>\n",
            "5 <__main__.Droid object at 0x7ff737edb150>\n",
            "6 <__main__.Droid object at 0x7ff737edb050>\n",
            "7 <__main__.Droid object at 0x7ff737edb090>\n",
            "8 <__main__.Droid object at 0x7ff737edb250>\n",
            "9 <__main__.Drone object at 0x7ff737edb290>\n",
            "10 <__main__.Drone object at 0x7ff737edb0d0>\n",
            "11 <__main__.Drone object at 0x7ff737edb110>\n",
            "12 <__main__.Drone object at 0x7ff737edb7d0>\n"
          ]
        }
      ]
    },
    {
      "cell_type": "markdown",
      "metadata": {
        "id": "j7UAm2pJ3OzB"
      },
      "source": [
        "### **Preparation for Movement**\n",
        "\n",
        "If you finish the above begin to design a move  method which changes the ```coordinates``` of a robot. The method should respect the configuration of ```velocity``` (3 vectors, positive or negetive), the maximum **absolute** values of the permitted velocity given by ```max```. Any changes to coordinates, and the system boundary. See the Robot Methods section in Robot Documentation. \n",
        "\n",
        "Use your classes above! Your refactoring of the classes work should not break previous tests"
      ]
    },
    {
      "cell_type": "code",
      "metadata": {
        "id": "f1B3MwVW2QMB",
        "colab": {
          "base_uri": "https://localhost:8080/"
        },
        "outputId": "1baeb6f6-7a94-4f8b-c9bc-84847d0cb70d"
      },
      "source": [
        "##############################################################\n",
        "# @title - Robot Targets and Moving [code] {display-mode: \"code\"} \n",
        "##############################################################\n",
        "#This section not assessed\n",
        "#Begin to think about furnishing your robot with a move method and target coordinates.\n",
        "\n",
        "ecosystem = Ecosystem()\n",
        "\n",
        "ecosystem.display_on_update = True\n",
        "ecosystem.display_parameters = {\n",
        "    'title' : 'Practicing move method',\n",
        "    'annotations' : ['coordinates', 'soc', 'name']\n",
        "}\n",
        "\n",
        "drone1 = Drone()\n",
        "droid1 = Droid()\n",
        "robot1 = Robot()\n",
        "robot_list = [drone1, droid1, robot1]\n",
        "ecosystem.register(drone1, droid1, robot1)\n",
        "\n",
        "\n",
        "for i in robot_list:\n",
        "  print(i.coordinates)\n",
        "set_True = False\n",
        "if set_True:\n",
        "  in_put = input('give you target coordinates in (x y z) format')\n",
        "  in_put_list = in_put.split(' ')\n",
        "  place_holder = []\n",
        "  for i in in_put_list:\n",
        "    place_holder.append(int(i))\n",
        "  \n",
        "  for kind in robot_list:\n",
        "    kind.target_p = place_holder\n",
        "\n",
        "  for kind in robot_list:\n",
        "    while (kind.coordinates != kind.target):\n",
        "      for kind in robot_list:\n",
        "        kind.move()\n",
        "      ecosystem.update()\n"
      ],
      "execution_count": 31,
      "outputs": [
        {
          "output_type": "stream",
          "name": "stdout",
          "text": [
            "[10, 6, 0]\n",
            "[80, 32, 0]\n",
            "[66, 9, 0]\n"
          ]
        }
      ]
    },
    {
      "cell_type": "markdown",
      "metadata": {
        "id": "2YutVi8CTArP"
      },
      "source": [
        "# **Stage 2 - Training and Development**\n",
        "\n",
        "There are seven exercises in this section.\n",
        "\n",
        "Some are simple adaptations of the previous, so copy your code forwards.\n",
        "Create a new ecosystem for each exercise so it is independent of previous code cells.\n",
        "\n",
        "\n",
        "This section principally involves the development of 'methods' for your robot.\n",
        "\n",
        "Methods should be fully developed for the parent Robot class, and Droids and Drones should **inherit** these methods. However you should ensure that subtle differences in their attribute values should be respected by the method so that it works correctly for each type of Robot. \n",
        "\n",
        "1. Creating Pizzas\n",
        "1. Target and Move\n",
        "1. Deliveree\n",
        "1. Work Till You Drop\n",
        "1. Factoree Deliveree\n",
        "1. Charger\n",
        "1. Factory Delivery and Charging\n",
        "\n",
        "\n",
        "**Please see slide deck on Stage 2 for guidance on these exercises.**\n",
        "\n",
        "\n",
        "\n",
        "\n",
        "\n",
        "\n",
        "\n",
        "\n",
        "\n",
        "---\n",
        "\n"
      ]
    },
    {
      "cell_type": "code",
      "source": [
        "##############################################################\n",
        "# @title Creating Pizzas [code] {display-mode: \"code\"} \n",
        "##############################################################\n",
        "#Instantiate an Ecosystem and test the creation of Pizzas. \n",
        "#Make sure you assign your pizza to a variable.\n",
        "#Explore and comment on the properties of your pizza: coordinates, weight, target.\n",
        "#Note, there is no cheese.\n",
        "\n",
        "#I know create method exists in Ecosystem\n",
        "#However it returns objects with default attributes\n",
        "#Meaning it is the class attributes are not set to your own needs\n",
        "#So I created my own classes for each deliverables and stations\n",
        "\n",
        "ecosystem = Ecosystem()\n",
        "ecosystem.display_on_update = False\n",
        "ecosystem.display_parameters = {\n",
        "    'title' : 'delivering pizza',\n",
        "    'annotations' : ['soc', 'coordinates', 'damage']\n",
        "}\n",
        "\n",
        "pizza1 = Pizza()\n",
        "pizza2 = Pizza()\n",
        "pizza3 = Pizza()\n",
        "pizza4 = Pizza()\n",
        "pizza5 = Pizza()\n",
        "pizza6 = Pizza()\n",
        "pizza7 = Pizza()\n",
        "pizza8 = Pizza()\n",
        "ecosystem.register(pizza1, pizza2, pizza3, pizza4)\n",
        "\n",
        "drone1 = Drone()\n",
        "drone2 = Drone()\n",
        "drone3 = Drone()\n",
        "robots = [drone1, drone2, drone3]\n",
        "for kind in robots:\n",
        "  ecosystem.register(kind)\n",
        "#ecosystem.update()\n",
        "#print(ecosystem.robots)\n",
        "\n",
        "ecosystem.pizza_assign()\n",
        "\n",
        "#print(ecosystem.deliverable_list)\n",
        "#print(ecosystem.pizza_assignment)\n",
        "\n",
        "\n",
        "robot_list = []\n",
        "pizza_list = []\n",
        "for robot, pizza in ecosystem.pizza_assignment.items():\n",
        "  robot_list.append(robot)\n",
        "  pizza_list.append(pizza)\n",
        "\n",
        "while True:\n",
        "  ecosystem.pizza_assign()\n",
        "  for i in robot_list:\n",
        "    i.deliver()\n",
        "    if i.activity == \"delivering\":\n",
        "      i.move()\n",
        "  ecosystem.update()\n",
        "  if (pizza1.coordinates == pizza1.target and pizza2.coordinates == pizza2.target and pizza3.coordinates == pizza3.target and pizza4.coordinates == pizza4.target):\n",
        "    break\n",
        "\n",
        "  '''\n",
        "  for i in robot_list:\n",
        "    print(i.activity)\n",
        "  print(ecosystem.pizza_assignment)\n",
        "  print(ecosystem.deliverable_list)\n",
        "  '''\n",
        "\n",
        "'''\n",
        "for i in range(2):\n",
        "  for i in robot_list:\n",
        "    i.deliver()\n",
        "  while (i.coordinates != i.target for i in robot_list):\n",
        "    for robot, pizza in ecosystem.pizza_assignment.items():\n",
        "      robot.move()\n",
        "      pizza.move()\n",
        "    ecosystem.update()\n",
        "'''\n",
        "'''\n",
        "while robot.deliver() != 'delivered':\n",
        "  robot.deliver()\n",
        "  while (robot.target != robot.coordinates for robot in robot_list) and (pizza.coordinates != pizza.target for pizza in pizza_list):\n",
        "    for robot, pizza in ecosystem.pizza_assignment.items():\n",
        "      pizza.move()\n",
        "      robot.move()\n",
        "    ecosystem.update()\n",
        "'''\n",
        "'''\n",
        "robot.target_p = [40, 20, 0]\n",
        "while robot.coordinates != robot.target:\n",
        "  robot.move()\n",
        "  ecosystem.update()\n",
        "'''"
      ],
      "metadata": {
        "id": "SpJS0ry0sTIZ",
        "colab": {
          "base_uri": "https://localhost:8080/",
          "height": 35
        },
        "outputId": "5c6c3492-7bc7-42a3-a167-ed081b496bb1"
      },
      "execution_count": 32,
      "outputs": [
        {
          "output_type": "execute_result",
          "data": {
            "application/vnd.google.colaboratory.intrinsic+json": {
              "type": "string"
            },
            "text/plain": [
              "'\\nrobot.target_p = [40, 20, 0]\\nwhile robot.coordinates != robot.target:\\n  robot.move()\\n  ecosystem.update()\\n'"
            ]
          },
          "metadata": {},
          "execution_count": 32
        }
      ]
    },
    {
      "cell_type": "code",
      "source": [
        "print(ecosystem.messages)\n",
        "print(ecosystem.deliverable_list)  #---> if [], no pizza left to deliver\n",
        "'''\n",
        "print(ecosystem.messages)\n",
        "print(activities)\n",
        "print(ecosystem.pizza_assignment)\n",
        "print(pizza1.pizza_to_robot_distance())\n",
        "print(drone1.coordinates, drone2.coordinates, drone3.coordinates)\n",
        "'''\n",
        "\n",
        "\n",
        "\n",
        "#This a cheese class\n",
        "class Cheese:\n",
        "  None"
      ],
      "metadata": {
        "id": "y9JmVxeesTh-",
        "colab": {
          "base_uri": "https://localhost:8080/"
        },
        "outputId": "8628c960-53f7-491b-b3e8-1d6bba76f93c"
      },
      "execution_count": 33,
      "outputs": [
        {
          "output_type": "stream",
          "name": "stdout",
          "text": [
            "info       Pizza    140699771140240  register Pizza registered with 0 damage points\n",
            "info       Pizza    140699771138384  register Pizza registered with 0 damage points\n",
            "info       Pizza    140699771140304  register Pizza registered with 0 damage points\n",
            "info       Pizza    140699771138128  register Pizza registered with 0 damage points\n",
            "info       Drone    140699771154320  register Drone registered with 0 damage points\n",
            "info       Drone    140699771154256  register Drone registered with 0 damage points\n",
            "info       Drone    140699771154384  register Drone registered with 0 damage points\n",
            "\n",
            "[]\n"
          ]
        }
      ]
    },
    {
      "cell_type": "markdown",
      "source": [
        ""
      ],
      "metadata": {
        "id": "ijEgtOnSRrvR"
      }
    },
    {
      "cell_type": "code",
      "source": [
        "##############################################################\n",
        "# @title Target and Move [code] {display-mode: \"code\"} \n",
        "##############################################################\n",
        "# Deliver this test code cell for your working move method\n",
        "# Instantiate an Ecosystem, create a pizza and assign to a variable.\n",
        "# Create a Robot, and set the target to the pizza co-ordinates.\n",
        "# Use the Loop Pattern (slide 9), call move() and update(). \n",
        "# A well behaved robot should get to the the pizza. \n",
        "# Your move method should work for all three kinds of robot.\n",
        "\n",
        "ecosystem = Ecosystem()\n",
        "ecosystem.display_on_update = False\n",
        "my_pizza_list = [Pizza(), Pizza(), Pizza()]\n",
        "my_robot_list = [Robot(), Droid(), Drone()]\n",
        "\n",
        "for i in my_pizza_list + my_robot_list:\n",
        "  ecosystem.register(i)\n",
        "print(ecosystem.messages)\n",
        "\n",
        "ecosystem.pizza_assign()\n",
        "\n",
        "for robot in my_robot_list:\n",
        "  robot.target_p = ecosystem.pizza_assignment[robot].coordinates\n",
        "\n",
        "while True:\n",
        "  for robot in my_robot_list:\n",
        "    robot.move()\n",
        "  ecosystem.update()\n",
        "  if my_robot_list[0].coordinates == my_robot_list[0].target and my_robot_list[1].coordinates == my_robot_list[1].target and \\\n",
        "   my_robot_list[2].coordinates == my_robot_list[2].target:\n",
        "   break"
      ],
      "metadata": {
        "id": "G7iY4s6NwJJB",
        "colab": {
          "base_uri": "https://localhost:8080/"
        },
        "outputId": "43059a78-ac02-4d11-c8e9-f63ed9b0d9b2"
      },
      "execution_count": 34,
      "outputs": [
        {
          "output_type": "stream",
          "name": "stdout",
          "text": [
            "info       Pizza    140699771153808  register Pizza registered with 0 damage points\n",
            "info       Pizza    140699771154064  register Pizza registered with 0 damage points\n",
            "info       Pizza    140699771154000  register Pizza registered with 0 damage points\n",
            "info       Robot    140699771153872  register Robot registered with 0 damage points\n",
            "info       Droid    140699771154128  register Droid registered with 0 damage points\n",
            "info       Drone    140699790167568  register Drone registered with 0 damage points\n",
            "\n"
          ]
        }
      ]
    },
    {
      "cell_type": "markdown",
      "source": [
        ""
      ],
      "metadata": {
        "id": "NEGJu1ucpj_c"
      }
    },
    {
      "cell_type": "code",
      "source": [
        "##############################################################\n",
        "# @title Deliveree [code] {display-mode: \"code\"} \n",
        "##############################################################\n",
        "# Deliver a delivery code cell. \n",
        "# A registered robot enters the loop and is avialable to deliver pizza.\n",
        "# When delivered move the robot off the pizza and becomes idle. \n",
        "# End the loop using the ecosystems count_operational attribute.\n",
        "# Tip - use the Robot 'busy' activity to move off, but not be given another pizza!\n",
        "\n",
        "ecosystem = Ecosystem()\n",
        "ecosystem.display_on_update = False\n",
        "ecosystem.duration = 50\n",
        "my_pizza_list = [Pizza(), Pizza(), Pizza()]\n",
        "my_robot_list = [Robot(), Droid(), Drone()]\n",
        "\n",
        "for i in my_pizza_list + my_robot_list:\n",
        "  ecosystem.register(i)\n",
        "\n",
        "\n",
        "while not ecosystem.stop:\n",
        "  ecosystem.pizza_assign()\n",
        "  for robot in my_robot_list:\n",
        "    robot.deliver()\n",
        "    if robot.activity == 'delivering':\n",
        "      robot.move()\n",
        "  ecosystem.update()\n",
        "\n",
        "ecosystem.display()\n",
        "print(ecosystem.messages)"
      ],
      "metadata": {
        "id": "ZGfR3rRQyWzn",
        "colab": {
          "base_uri": "https://localhost:8080/",
          "height": 506
        },
        "outputId": "674fd355-af62-4ac7-95c3-d0081ad79e7b"
      },
      "execution_count": 35,
      "outputs": [
        {
          "output_type": "display_data",
          "data": {
            "image/png": "[encoded data removed]",
            "text/plain": [
              "<Figure size 850.394x425.197 with 1 Axes>"
            ]
          },
          "metadata": {}
        },
        {
          "output_type": "stream",
          "name": "stdout",
          "text": [
            "info       Pizza    140699771153680  register Pizza registered with 0 damage points\n",
            "info       Pizza    140699790165584  register Pizza registered with 0 damage points\n",
            "info       Pizza    140699790164880  register Pizza registered with 0 damage points\n",
            "info       Robot    140699771154064  register Robot registered with 0 damage points\n",
            "info       Droid    140699790164560  register Droid registered with 0 damage points\n",
            "info       Drone    140699790166096  register Drone registered with 0 damage points\n",
            "\n"
          ]
        }
      ]
    },
    {
      "cell_type": "code",
      "source": [
        "##############################################################\n",
        "# @title Work Till You Drop [code] {display-mode: \"code\"} \n",
        "##############################################################\n",
        "# This exercise is the same as deliveree, but the Robot becomes\n",
        "# available again and is given a new pizza cargo. It works until it \n",
        "# it drops. End the loop gracefully using the count_operational attribute\n",
        "\n",
        "ecosystem = Ecosystem()\n",
        "ecosystem.display_on_update = False\n",
        "ecosystem.display_parameters = {\n",
        "    'title' : 'Work till you die',\n",
        "    'annotations' : ['soc', 'damage']\n",
        "}\n",
        "\n",
        "\n",
        "drone1 = Drone()\n",
        "drone2 = Drone()\n",
        "drone3 = Drone()\n",
        "robots = [drone1, drone2, drone3]\n",
        "\n",
        "\n",
        "for kind in robots:\n",
        "  ecosystem.register(kind)\n",
        "\n",
        "\n",
        "robot_list = robots\n",
        "\n",
        "\n",
        "while True:\n",
        "  if ecosystem.deliverable_list == []:\n",
        "    if len(ecosystem.deliverable_list) < len(robot_list):\n",
        "      ecosystem.register(Pizza())\n",
        "  \n",
        "  ecosystem.pizza_assign()\n",
        "  for robot in robot_list:\n",
        "    robot.deliver()\n",
        "    robot.move()\n",
        "  ecosystem.update()\n",
        "  if (robots[0].status == 'broken' and robots[1].status == 'broken' and robots[2].status == 'broken'):\n",
        "    break\n",
        "ecosystem.display()"
      ],
      "metadata": {
        "id": "sOF3IFEjsouA",
        "colab": {
          "base_uri": "https://localhost:8080/",
          "height": 385
        },
        "outputId": "48eed561-d122-4b8a-e347-749197141e76"
      },
      "execution_count": 36,
      "outputs": [
        {
          "output_type": "display_data",
          "data": {
            "image/png": "[encoded data removed]",
            "text/plain": [
              "<Figure size 850.394x425.197 with 1 Axes>"
            ]
          },
          "metadata": {}
        }
      ]
    },
    {
      "cell_type": "code",
      "source": [
        "##############################################################\n",
        "# @title Factoree Deliveree [code] {display-mode: \"code\"} \n",
        "##############################################################\n",
        "# Use the Robot Factory (slide 13) to create a large number of robots\n",
        "# Convert your Loop Pattern to iterate through all registered robots.\n",
        "# Each robots gets a pizza and delivers it. After delivery it becomes\n",
        "# available again. And so it carries on. Work each robot till it drops \n",
        "# To iterate through all the robots.\n",
        "# End the loop gracefully using the count_operational attribute\n",
        "\n",
        "ecosystem = Ecosystem()\n",
        "ecosystem.display_on_update = False\n",
        "ecosystem.random_cordinates = False\n",
        "y = 0\n",
        "spacing = 80/11\n",
        "factory_robot_list = []\n",
        "for robot_kind, number in [(Robot, 4), (Droid, 4), (Drone, 4)]:\n",
        "  for i in range(number):\n",
        "    place_holder = robot_kind()  #to ensure correct object is used throughout the loop\n",
        "    factory_robot_list.append(place_holder)\n",
        "    place_holder.coordinates = [y + spacing * i, 20, 0]\n",
        "    ecosystem.register(place_holder)\n",
        "  \n",
        "  y += spacing * number\n",
        "\n",
        "robot_list = factory_robot_list\n",
        "\n",
        "\n",
        "while True:\n",
        "  if ecosystem.deliverable_list == []:\n",
        "    if len(ecosystem.deliverable_list) < len(robot_list):\n",
        "      ecosystem.register(Pizza())\n",
        "  #print(ecosystem.deliverable_list)\n",
        "  ecosystem.pizza_assign()\n",
        "  #print(ecosystem.pizza_assignment)\n",
        "  for robot in factory_robot_list:\n",
        "    #print(robot.activity)\n",
        "    robot.deliver()\n",
        "    robot.move()\n",
        "  ecosystem.update()\n",
        "  if [i.status for i in robot_list] == ['broken' for i in range(len(robot_list))]:\n",
        "    break\n",
        "\n",
        "ecosystem.display()"
      ],
      "metadata": {
        "id": "6G7-LmcaoLWQ",
        "colab": {
          "base_uri": "https://localhost:8080/",
          "height": 385
        },
        "outputId": "de59f67d-7979-4f3b-b326-f6877e884632"
      },
      "execution_count": 37,
      "outputs": [
        {
          "output_type": "display_data",
          "data": {
            "image/png": "[encoded data removed]",
            "text/plain": [
              "<Figure size 850.394x425.197 with 1 Axes>"
            ]
          },
          "metadata": {}
        }
      ]
    },
    {
      "cell_type": "code",
      "source": [
        "##############################################################\n",
        "# @title Charger [code] {display-mode: \"code\"} \n",
        "##############################################################\n",
        "# Take a simple one robot scenario and a loop pattern.\n",
        "# Implement a charging station\n",
        "# Use a simple charging strategy the percentage SOC (soc/capacity) \n",
        "# Should the %SOC be different for each robot type.\n",
        "\n",
        "ecosystem = Ecosystem()\n",
        "ecosystem.display_on_update = False\n",
        "ecosystem.display_parameters = {\n",
        "    'title' : 'test charging',\n",
        "    'annotations' : ['soc']\n",
        "}\n",
        "ecosystem.duration = 10000\n",
        "solar_charger1 = Solar_Charger()\n",
        "grid_charger1 = Grid_Charger()\n",
        "recycling_station1 = Recycling_Station()\n",
        "repair_station1 = Repair_Station()\n",
        "ecosystem.register(grid_charger1, solar_charger1, repair_station1, recycling_station1)\n",
        "\n",
        "robot1 = Drone()\n",
        "ecosystem.register(robot1)\n",
        "robot_list  = [robot1]\n",
        "\n",
        "while not ecosystem.stop:\n",
        "  if ecosystem.deliverable_list == []:\n",
        "    if len(ecosystem.deliverable_list) < len(robot_list):\n",
        "      ecosystem.register(Pizza())\n",
        "  #print(ecosystem.deliverable_list)\n",
        "  ecosystem.pizza_assign()\n",
        "  #print(ecosystem.pizza_assignment)\n",
        "  for robot in robot_list:\n",
        "    #print(robot.activity)\n",
        "    robot.deliver()\n",
        "    robot.move()\n",
        "  ecosystem.update()\n",
        "  '''\n",
        "  print(robot1.coordinates)\n",
        "  print(robot1.target)\n",
        "  print(robot1.activity)\n",
        "  '''\n",
        "\n",
        "ecosystem.display()\n",
        "print(f'number of pizzas delivered: {robot1.service/50}')\n",
        "print(ecosystem.hour)\n",
        "print(ecosystem.messages)\n"
      ],
      "metadata": {
        "id": "Ex5ZrgFqfVNJ",
        "colab": {
          "base_uri": "https://localhost:8080/",
          "height": 1000
        },
        "outputId": "054832e6-4492-48b8-9bfa-4289d8daf9e8"
      },
      "execution_count": 38,
      "outputs": [
        {
          "output_type": "display_data",
          "data": {
            "image/png": "[encoded data removed]",
            "text/plain": [
              "<Figure size 850.394x425.197 with 1 Axes>"
            ]
          },
          "metadata": {}
        },
        {
          "output_type": "stream",
          "name": "stdout",
          "text": [
            "number of pizzas delivered: 59.0\n",
            "10001\n",
            "info       Grid_Charger 140699771043408  register Grid_Charger registered with 0 damage points\n",
            "info       Solar_Charger 140699770230224  register Solar_Charger registered with 0 damage points\n",
            "info       Repair_Station 140699771518288  register Repair_Station registered with 0 damage points\n",
            "info       Recycling_Station 140699771515408  register Recycling_Station registered with 0 damage points\n",
            "info       Drone    140699771516624  register Drone registered with 0 damage points\n",
            "info       Pizza    140699769902288  register Pizza registered with 0 damage points\n",
            "info       Pizza    140699771516688  register Pizza registered with 0 damage points\n",
            "info       Pizza    140699771516112  register Pizza registered with 0 damage points\n",
            "info       Pizza    140699771514960  register Pizza registered with 0 damage points\n",
            "info       Pizza    140699771515728  register Pizza registered with 0 damage points\n",
            "info       Pizza    140699771516240  register Pizza registered with 0 damage points\n",
            "info       Pizza    140699771515280  register Pizza registered with 0 damage points\n",
            "info       Pizza    140699771515856  register Pizza registered with 0 damage points\n",
            "info       Pizza    140699771515920  register Pizza registered with 0 damage points\n",
            "info       Pizza    140699771515344  register Pizza registered with 0 damage points\n",
            "info       Pizza    140699771516304  register Pizza registered with 0 damage points\n",
            "info       Pizza    140699771517328  register Pizza registered with 0 damage points\n",
            "info       Pizza    140699771515536  register Pizza registered with 0 damage points\n",
            "info       Pizza    140699771517200  register Pizza registered with 0 damage points\n",
            "info       Pizza    140699771517584  register Pizza registered with 0 damage points\n",
            "info       Pizza    140699771517136  register Pizza registered with 0 damage points\n",
            "info       Pizza    140699771517008  register Pizza registered with 0 damage points\n",
            "info       Pizza    140699771518928  register Pizza registered with 0 damage points\n",
            "info       Pizza    140699771516560  register Pizza registered with 0 damage points\n",
            "info       Pizza    140699771518672  register Pizza registered with 0 damage points\n",
            "info       Pizza    140699771518480  register Pizza registered with 0 damage points\n",
            "info       Pizza    140699771518544  register Pizza registered with 0 damage points\n",
            "info       Pizza    140699771517072  register Pizza registered with 0 damage points\n",
            "info       Pizza    140699771517904  register Pizza registered with 0 damage points\n",
            "info       Pizza    140699771518352  register Pizza registered with 0 damage points\n",
            "info       Pizza    140699771518800  register Pizza registered with 0 damage points\n",
            "info       Pizza    140699771516048  register Pizza registered with 0 damage points\n",
            "info       Pizza    140699771515152  register Pizza registered with 0 damage points\n",
            "info       Pizza    140699771517264  register Pizza registered with 0 damage points\n",
            "info       Pizza    140699771515792  register Pizza registered with 0 damage points\n",
            "info       Pizza    140699771516752  register Pizza registered with 0 damage points\n",
            "info       Pizza    140699771515984  register Pizza registered with 0 damage points\n",
            "info       Pizza    140699771515088  register Pizza registered with 0 damage points\n",
            "info       Pizza    140699771515216  register Pizza registered with 0 damage points\n",
            "info       Pizza    140699771516880  register Pizza registered with 0 damage points\n",
            "info       Pizza    140699771518160  register Pizza registered with 0 damage points\n",
            "info       Pizza    140699771515472  register Pizza registered with 0 damage points\n",
            "info       Pizza    140699771516176  register Pizza registered with 0 damage points\n",
            "info       Pizza    140699771475408  register Pizza registered with 0 damage points\n",
            "info       Pizza    140699771476112  register Pizza registered with 0 damage points\n",
            "info       Pizza    140699771475216  register Pizza registered with 0 damage points\n",
            "info       Pizza    140699771477712  register Pizza registered with 0 damage points\n",
            "info       Pizza    140699771476880  register Pizza registered with 0 damage points\n",
            "info       Pizza    140699771477072  register Pizza registered with 0 damage points\n",
            "info       Pizza    140699771477328  register Pizza registered with 0 damage points\n",
            "info       Pizza    140699771476240  register Pizza registered with 0 damage points\n",
            "info       Pizza    140699771477200  register Pizza registered with 0 damage points\n",
            "info       Pizza    140699771476304  register Pizza registered with 0 damage points\n",
            "info       Pizza    140699771475728  register Pizza registered with 0 damage points\n",
            "info       Pizza    140699771475152  register Pizza registered with 0 damage points\n",
            "info       Pizza    140699771476496  register Pizza registered with 0 damage points\n",
            "info       Pizza    140699771476368  register Pizza registered with 0 damage points\n",
            "info       Pizza    140699771141584  register Pizza registered with 0 damage points\n",
            "info       Pizza    140699771140112  register Pizza registered with 0 damage points\n",
            "info       Pizza    140699771141968  register Pizza registered with 0 damage points\n",
            "info       Pizza    140699770433424  register Pizza registered with 0 damage points\n",
            "info       Pizza    140699769782544  register Pizza registered with 0 damage points\n",
            "info       Pizza    140699769904720  register Pizza registered with 0 damage points\n",
            "info       Pizza    140699769903696  register Pizza registered with 0 damage points\n",
            "info       Pizza    140699770192592  register Pizza registered with 0 damage points\n",
            "info       Pizza    140699770163280  register Pizza registered with 0 damage points\n",
            "\n"
          ]
        }
      ]
    },
    {
      "cell_type": "code",
      "source": [
        "##############################################################\n",
        "# @title Factory Delivery and Charging [code] {display-mode: \"code\"} \n",
        "##############################################################\n",
        "# Implement a charging station(s) for a factory scenario\n",
        "# Use a simple charging strategy based on %SOC\n",
        "# Can you get your ecosystem to keep going for a thousand hours.\n",
        "# Do all the robots survive?\n",
        "\n",
        "ecosystem = Ecosystem()\n",
        "ecosystem.display_on_update = False\n",
        "ecosystem.display_parameters = {\n",
        "    'title' : 'factory operation',\n",
        "    'annotations' : ['soc']\n",
        "}\n",
        "ecosystem.duration = 10000\n",
        "solar_charger1 = Solar_Charger()\n",
        "grid_charger1 = Grid_Charger()\n",
        "recycling_station1 = Recycling_Station()\n",
        "repair_station1 = Repair_Station()\n",
        "ecosystem.register(grid_charger1, solar_charger1, repair_station1, recycling_station1)\n",
        "\n",
        "ecosystem.random_cordinates = False\n",
        "y = 0\n",
        "spacing = 80/11\n",
        "factory_robot_list = []\n",
        "for robot_kind, number in [(Robot, 4), (Droid, 4), (Drone, 4)]:\n",
        "  for i in range(number):\n",
        "    place_holder = robot_kind()\n",
        "    factory_robot_list.append(place_holder)\n",
        "    place_holder.coordinates = [y + spacing * i, 20, 0]\n",
        "    ecosystem.register(place_holder)\n",
        "  \n",
        "  y += spacing * number\n",
        "\n",
        "robot_list = factory_robot_list\n",
        "\n",
        "while not ecosystem.stop:\n",
        "  if ecosystem.deliverable_list == []:\n",
        "    if len(ecosystem.deliverable_list) < len(robot_list):\n",
        "      ecosystem.register(Pizza())\n",
        "  ecosystem.pizza_assign()\n",
        "  for robot in robot_list:\n",
        "    robot.deliver()\n",
        "    robot.move()\n",
        "  ecosystem.update()\n",
        "\n",
        "ecosystem.display()\n",
        "print('broken robots: ', ecosystem.broken)\n",
        "print('operational robots: ', ecosystem.operational)\n",
        "\n",
        "\n"
      ],
      "metadata": {
        "id": "Gztq72VDgWi_",
        "colab": {
          "base_uri": "https://localhost:8080/",
          "height": 420
        },
        "outputId": "2e6be4ad-6e0d-4826-d072-e0669c39b867"
      },
      "execution_count": 47,
      "outputs": [
        {
          "output_type": "display_data",
          "data": {
            "image/png": "[encoded data removed]",
            "text/plain": [
              "<Figure size 850.394x425.197 with 1 Axes>"
            ]
          },
          "metadata": {}
        },
        {
          "output_type": "stream",
          "name": "stdout",
          "text": [
            "broken robots:  3\n",
            "operational robots:  9\n"
          ]
        }
      ]
    },
    {
      "cell_type": "markdown",
      "metadata": {
        "id": "U4F3lwMkTA6_"
      },
      "source": [
        "# **Stage 3 - Ecosystem Monitoring**\n",
        "\n",
        "Stage 3 is about extracting some numbers from your ecosystem of robots\n",
        "\n",
        "By now with completion of **Factory Delivery and Charging** you should have successful ecosystem runs for several hundred hours, even 1000. \n",
        "With at least 10 robots delivering and charging. You might be losing some along\n",
        "the way but don't worry about this.\n",
        "\n",
        "But how do we know what has quantitatively been done. What data has been created along the way?  There are five data points that are collected for each robot, which you will have seen in the attribute table:\n",
        "\n",
        "\n",
        "|required    |name       |default   |validation  |datatype    |description                             |\n",
        "|------------|-----------|----------|------------|------------|----------------------------------------|\n",
        "|recommended |service    |0         |Read Only   |integer     |service points accrued by robot         |\n",
        "|recommended |age        |0         |Read Only   |integer     |age of robot in hours                   |\n",
        "|recommended |active        |0         |Read Only   |integer     |age of robot in hours                   |\n",
        "|optional    |distance   |0         |Read Only   |float       |distance travelled by robot             |\n",
        "|optional    |energy     |0         |Read Only   |float       |energy consumed by robot                |\n",
        "\n",
        "For metrics, make sure that you have these attributes in your parent Robot class. The ecosystem maintains a record in the registry so the data is collected in any case. \n",
        "\n",
        "Using these values you can derive:\n",
        "\n",
        "* $$Average\\ \\ speed = \\frac{distance}{active\\ hours} \\  (squares.hour^{-1})$$\n",
        "\n",
        "* $$Service\\ \\ rate = \\frac{service}{active\\ hours} \\  (kg.hour^{-1})$$\n",
        "\n",
        "* $$Energy\\ \\ efficiency\\ \\  = \\frac{Energy}{Service} (kWh.kg^{-1} $$    \n",
        "\n",
        "* $$Average\\ \\ Power\\ \\  = \\frac{Energy}{active\\ hours}\\ \\ (kWh.hour^{-1} = kW)$$ \n",
        "\n",
        "All the required values are in the registry so lets access that.\n",
        "\n",
        "For the exercises in this stage take a **copy** of your working **Factory Charging** code cell in stage 2. As with all your code cells this should start with its own ecosystem instantiation. \n",
        "\n",
        "\n",
        "\n",
        "\n",
        "\n",
        "\n",
        "\n"
      ]
    },
    {
      "cell_type": "code",
      "source": [
        "##############################################################\n",
        "# @title Monitoring of Factory Delivery and Charging [code] {display-mode: \"code\"} \n",
        "##############################################################\n",
        "'''\n",
        "Take a fully working copy of your factory delivery and charging code cell\n",
        "turn off automatic updating of the display.\n",
        "Make sure you have automatic display on update turned to False: \n",
        "ecosystem.display_on_update = False\n",
        "When you run the code cell you will see how quicky it runs. \n",
        "So allowing the duration to be a 1000 hours should have little consequence\n",
        "'''\n",
        "ecosystem = Ecosystem()\n",
        "ecosystem.display_on_update = False\n",
        "ecosystem.display_parameters = {\n",
        "    'title' : 'factory operation',\n",
        "    'annotations' : ['soc']\n",
        "}\n",
        "ecosystem.duration = 10000\n",
        "solar_charger1 = Solar_Charger()\n",
        "grid_charger1 = Grid_Charger()\n",
        "recycling_station1 = Recycling_Station()\n",
        "repair_station1 = Repair_Station()\n",
        "ecosystem.register(grid_charger1, solar_charger1, repair_station1, recycling_station1)\n",
        "\n",
        "ecosystem.random_cordinates = False\n",
        "y = 0\n",
        "spacing = 80/11\n",
        "factory_robot_list = []\n",
        "for robot_kind, number in [(Robot, 4), (Droid, 4), (Drone, 4)]:\n",
        "  for i in range(number):\n",
        "    place_holder = robot_kind()\n",
        "    factory_robot_list.append(place_holder)\n",
        "    place_holder.coordinates = [y + spacing * i, 20, 0]\n",
        "    ecosystem.register(place_holder)\n",
        "  \n",
        "  y += spacing * number\n",
        "\n",
        "robot_list = factory_robot_list\n",
        "\n",
        "while not ecosystem.stop:\n",
        "  if ecosystem.deliverable_list == []:\n",
        "    if len(ecosystem.deliverable_list) < len(robot_list):\n",
        "      ecosystem.register(Pizza())\n",
        "  ecosystem.pizza_assign()\n",
        "  for robot in robot_list:\n",
        "    robot.deliver()\n",
        "    robot.move()\n",
        "  ecosystem.update()\n",
        "\n",
        "ecosystem.display()\n",
        "print('broken robots: ', ecosystem.broken)\n",
        "print('operational robots: ', ecosystem.operational)\n"
      ],
      "metadata": {
        "id": "kvUPyTTJFa88"
      },
      "execution_count": 40,
      "outputs": []
    },
    {
      "cell_type": "code",
      "source": [
        ""
      ],
      "metadata": {
        "id": "6EvgXYe4Dr75"
      },
      "execution_count": 40,
      "outputs": []
    },
    {
      "cell_type": "code",
      "source": [
        "#@title Ecosystem Registry {display-mode: \"code\"}\n",
        "'''\n",
        "Create a code cell which uses the ecosystem registry to display\n",
        "summary analysis for each robot kind\n",
        "'''\n",
        "\n",
        "ecosystem.registry()\n",
        "\n",
        "\n"
      ],
      "metadata": {
        "id": "GuPgEbgjDsgS",
        "colab": {
          "base_uri": "https://localhost:8080/",
          "height": 35
        },
        "outputId": "41638578-c9f2-4c49-cd10-3a710ae0bdd8"
      },
      "execution_count": 41,
      "outputs": [
        {
          "output_type": "execute_result",
          "data": {
            "application/vnd.google.colaboratory.intrinsic+json": {
              "type": "string"
            },
            "text/plain": [
              "'\\nCreate a code cell which uses the ecosystem registry to display\\nsummary analysis for each robot kind\\n'"
            ]
          },
          "metadata": {},
          "execution_count": 41
        }
      ]
    },
    {
      "cell_type": "code",
      "source": [
        "#@title Tabulation {display-mode: \"code\"}\n",
        "'''\n",
        "Create a code cell which displays key metrics, including derived values as \n",
        "discussed in stage 3 introduction\n",
        "See slides on stage 3 for the key attributes you should tabulate\n",
        "'''\n"
      ],
      "metadata": {
        "id": "YswnBW62xdbx",
        "colab": {
          "base_uri": "https://localhost:8080/",
          "height": 53
        },
        "outputId": "b26a18a3-687e-4340-a41e-2572eb5a6766"
      },
      "execution_count": 42,
      "outputs": [
        {
          "output_type": "execute_result",
          "data": {
            "application/vnd.google.colaboratory.intrinsic+json": {
              "type": "string"
            },
            "text/plain": [
              "'\\nCreate a code cell which displays key metrics, including derived values as \\ndiscussed in stage 3 introduction\\nSee slides on stage 3 for the key attributes you should tabulate\\n'"
            ]
          },
          "metadata": {},
          "execution_count": 42
        }
      ]
    },
    {
      "cell_type": "markdown",
      "source": [
        ""
      ],
      "metadata": {
        "id": "-E1z28esFbm8"
      }
    },
    {
      "cell_type": "markdown",
      "metadata": {
        "id": "iS8Fbo0jT-l0"
      },
      "source": [
        "#**Stage 4 - Performance**\n",
        "\n",
        "This section is less prescriptive than the previous sections.\n",
        "\n",
        "It requires you to try and improve the performance as monitored by your work in stage 3\n",
        "\n",
        "The benchmark is the key performance indicators (KPIs) of an ecosystem with \n",
        "\n",
        "  * 5 robots of each kind \n",
        "  * An ecosystem duration of 1000 hours\n",
        "  * A maximum of **2** charging stations\n",
        "\n",
        "##**KPIs**\n",
        "\n",
        "* $$Robot\\ performance = \\frac{Active\\ hours}{Age} \\  (ratio)$$\n",
        "\n",
        "* $$Service\\ \\ rate = \\frac{Service}{Active\\ hours} \\  (kg.hour^{-1})$$\n",
        "\n",
        "* $$Energy\\ \\ efficiency\\ \\  = \\frac{Energy}{Service} (kWh.kg^{-1} $$    \n",
        "\n",
        "* $$Average\\ \\ Power\\ \\  = \\frac{Energy}{Active\\ hours}\\ \\ (kWh.hour^{-1} = kW)$$ \n",
        "\n",
        "All these KPIs are affected by the operational efficiency of the Robots and this is determined by\n",
        "* poor allocation of pizzas to robots - does the nearest Robot get the next pizza!\n",
        "* poor charging decisions - often a robot has to head for the charger based on a low SOC when \n",
        "   1. it may have been able to collect the pizza it was heading for then headed to the charger.\n",
        "   2. it could have charged as it was passing the charger i.e. before SOC was too low\n",
        "   3. High risk taking resulting in robot's running out of charge\n",
        "\n",
        "So there are two things you can do:\n",
        "1. Smarter allocation of pizzas to robots on a proximity basis.\n",
        "2. Smarter charging algorithm.\n",
        "\n",
        "\n",
        "Do not deliver in your submission, additional or new Robot classes.\n",
        "\n",
        "Any changes you make to your robot classes in stage 1 should not 'break' earlier exercises! \n",
        "\n",
        "\n",
        "This section has no specific code cells - please organise as you choose.\n",
        "\n",
        "If you do incremental improvements with different measures, use a new codecell and show how the improvements unfold.\n",
        "\n",
        "Document your enhancements, and KPI improvements in the final text cell.\n",
        "\n",
        "\n",
        "\n",
        "\n",
        "\n",
        "\n",
        "\n",
        "\n"
      ]
    },
    {
      "cell_type": "code",
      "source": [
        ""
      ],
      "metadata": {
        "id": "trUxCJ3sQzrF"
      },
      "execution_count": 42,
      "outputs": []
    },
    {
      "cell_type": "code",
      "source": [
        "#@title KPI Improvements [code] {display-mode: \"code\"}\n",
        "\n",
        "# Use this code cell and any subsequent ones to develop your KPI improvements\n",
        "\n"
      ],
      "metadata": {
        "id": "Yb0gsXsJPYOW"
      },
      "execution_count": 43,
      "outputs": []
    },
    {
      "cell_type": "markdown",
      "source": [
        "##**KPI Improvement Summary**\n",
        "\n",
        "Please summarise your KPI improvements here and how you achieved them."
      ],
      "metadata": {
        "id": "AavmvN_2PQA3"
      }
    },
    {
      "cell_type": "markdown",
      "source": [
        "#**Summary and Conclusion**\n",
        "\n",
        "This coursework should have highlighted the use of OOP in software design. \n",
        "Summarise how the 4 main concepts of OOP (see WSA010 JNB08 Structured Programming.ipynb) have been employed in the Robot Ecosystem. Your answer should make specific reference to the objects, methods, attributes and any other code you have deployed in the courswork, and discuss OOPs suitability for this sort of application.\n",
        "\n",
        " (500 words minimum - 1000 words maximum)"
      ],
      "metadata": {
        "id": "HCc5IIeZRALw"
      }
    },
    {
      "cell_type": "markdown",
      "source": [
        ""
      ],
      "metadata": {
        "id": "UJj1pOEYXvJ9"
      }
    },
    {
      "cell_type": "markdown",
      "source": [
        "Create your answer here. You may use markdown but your answer will not be graded on its use."
      ],
      "metadata": {
        "id": "cvaYMN98TmV0"
      }
    },
    {
      "cell_type": "markdown",
      "source": [
        "#**Marking Schema**\n",
        "\n",
        "***Please use your own work - do not plagiarise***\n",
        "\n",
        "|                            Section | Deliverable                                 | Marks | Section | Section % |\n",
        "|-----------------------------------:|---------------------------------------------|:-----:|:-------:|:---------:|\n",
        "|                      Robot Classes |                                             |       |    12   |    12%    |\n",
        "|                                    | Robot Class                                 |   4   |         |           |\n",
        "|                                    | Droid Class                                 |   4   |         |           |\n",
        "|                                    | Drone Class                                 |   4   |         |           |\n",
        "|            Stage 1 - Robot Classes |                                             |       |    8    |     8%    |\n",
        "|                                    | Test 1 Instantiation                        |   2   |         |           |\n",
        "|                                    | Test 2 Attributes Zone                      |   2   |         |           |\n",
        "|                                    | Test 3 -Robot Factory                       |   4   |         |           |\n",
        "| Stage 2 - Training and Development |                                             |       |    32   |    32%    |\n",
        "|                                    | Creating Pizzas                             |   2   |         |           |\n",
        "|                                    | Target and Move                             |   4   |         |           |\n",
        "|                                    | Deliveree                                   |   4   |         |           |\n",
        "|                                    | Work Till You Drop                          |   4   |         |           |\n",
        "|                                    | Factoree Deliveree                          |   6   |         |           |\n",
        "|                                    | Charger                                     |   4   |         |           |\n",
        "|                                    | Factory Delivery and Charging               |   8   |         |           |\n",
        "|     Stage 3 - Ecosystem Monitoring |                                             |       |    12   |    12%    |\n",
        "|                                    | Monitoring of Factory Delivery and Charging |   2   |         |           |\n",
        "|                                    | Ecosystem Registry                          |   2   |         |           |\n",
        "|                                    | Tabulation                                  |   8   |         |           |\n",
        "|              Stage 4 - Performance |                                             |       |    16   |    16%    |\n",
        "|                                    | KPI Improvements                            |   10  |         |           |\n",
        "|                                    | KPI Improvement Summary                     |   6   |         |           |\n",
        "|             Summary and Conclusion |                                             |       |    8    |     8%    |\n",
        "|                                    | 500-1000 words                              |   8   |         |           |\n",
        "|             Python Code Evaluation |                                             |       |    12   |    12%    |\n",
        "|                                    | Structured Code                             |   8   |         |           |\n",
        "|                                    | Readable code                               |   4   |         |           |\n",
        "|                                    |                                             |       |         |           |\n",
        "|                                    | Total                                       |  100  |   100   |    100%   |"
      ],
      "metadata": {
        "id": "662G4A6XRujt"
      }
    }
  ]
}